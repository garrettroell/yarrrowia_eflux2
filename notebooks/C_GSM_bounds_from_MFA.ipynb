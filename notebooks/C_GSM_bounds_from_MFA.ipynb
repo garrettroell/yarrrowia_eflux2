{
 "cells": [
  {
   "attachments": {},
   "cell_type": "markdown",
   "metadata": {},
   "source": [
    "# Notebook C: Find GSM flux bounds by constraining the GSM with 13C-MFA\n",
    "This Jupyter notebook focuses on using Flux Variability Analysis (FVA) to find the bounds of each reaction in a Genome Scale Model (GSM) \n",
    "when 13C-MFA reactions are used for GSM boundries.\n",
    "\n",
    "### Objective\n",
    "The primary objective of this analysis is to use the GSM to extrapolate the rates of reactions outside the scope of 13C-MFA. We explore the genome scale metabolic flux profiles when Y. lipolytica consumes glucose, glycerol, acetate, and oleic acid. \n",
    "\n",
    "### Important Functions\n",
    "- `load_and_preprocess_data`: Loads genome-scale models and 13C-MFA data, and performs necessary preprocessing.\n",
    "- `perform_CFBA`: Executes Constrained Flux Balance Analysis and prepares the data for comparison.\n",
    "- `compare_flux_analysis`: Compares CFBA results with 13C-MFA data, highlighting key similarities and differences.\n",
    "- `analyze_carbon_sources`: Analyzes the impact of different carbon sources on metabolic fluxes within the CFBA model.\n",
    "- `integrate_strain_design`: Integrates StrainDesign predictions to enhance the understanding of the metabolic model.\n"
   ]
  },
  {
   "attachments": {},
   "cell_type": "markdown",
   "metadata": {},
   "source": [
    "### Load imports"
   ]
  },
  {
   "cell_type": "code",
   "execution_count": 1,
   "metadata": {},
   "outputs": [],
   "source": [
    "import cobra\n",
    "import straindesign as sd\n",
    "import pandas as pd\n",
    "import sys\n",
    "\n",
    "\n",
    "source_dir = '../src'\n",
    "sys.path.append(source_dir)\n",
    "from add_flux_column_to_13c_flux_df import add_flux_column_to_13c_flux_df\n",
    "from add_fva_columns_to_13c_flux_df import add_fva_columns_to_13c_flux_df\n",
    "from flux_prediction_scatterplot import flux_prediction_scatterplot\n",
    "from make_rxn_constraint_string import make_rxn_constraint_string"
   ]
  },
  {
   "attachments": {},
   "cell_type": "markdown",
   "metadata": {},
   "source": [
    "### Load the genome scale model"
   ]
  },
  {
   "cell_type": "code",
   "execution_count": 2,
   "metadata": {},
   "outputs": [],
   "source": [
    "model = cobra.io.json.load_json_model('../genome_scale_models/iYLI647_corr_3.json')"
   ]
  },
  {
   "cell_type": "markdown",
   "metadata": {},
   "source": [
    "### Rename some reactions to remove parentheses\n",
    "This is because parentheses in reaction ids cause problems with StrainDesign"
   ]
  },
  {
   "cell_type": "code",
   "execution_count": 3,
   "metadata": {},
   "outputs": [
    {
     "data": {
      "text/html": [
       "\n",
       "        <table>\n",
       "            <tr>\n",
       "                <td><strong>Reaction identifier</strong></td><td>EX_glc_e</td>\n",
       "            </tr><tr>\n",
       "                <td><strong>Name</strong></td><td>D Glucose exchange</td>\n",
       "            </tr><tr>\n",
       "                <td><strong>Memory address</strong></td>\n",
       "                <td>0x2ce5eb730</td>\n",
       "            </tr><tr>\n",
       "                <td><strong>Stoichiometry</strong></td>\n",
       "                <td>\n",
       "                    <p style='text-align:right'>glc_D[e] <=></p>\n",
       "                    <p style='text-align:right'>D_Glucose <=></p>\n",
       "                </td>\n",
       "            </tr><tr>\n",
       "                <td><strong>GPR</strong></td><td>YALI0D01111g or YALI0D18876g or YALI0D00132g or YALI0B01342g or YALI0E23287g or YALI0B00396g or...</td>\n",
       "            </tr><tr>\n",
       "                <td><strong>Lower bound</strong></td><td>-10.0</td>\n",
       "            </tr><tr>\n",
       "                <td><strong>Upper bound</strong></td><td>1000.0</td>\n",
       "            </tr>\n",
       "        </table>\n",
       "        "
      ],
      "text/plain": [
       "<Reaction EX_glc_e at 0x2ce5eb730>"
      ]
     },
     "execution_count": 3,
     "metadata": {},
     "output_type": "execute_result"
    }
   ],
   "source": [
    "model.reactions.get_by_id('EX_glc(e)').id = 'EX_glc_e'\n",
    "model.reactions.get_by_id('EX_glyc(e)').id = 'EX_glyc_e'\n",
    "model.reactions.get_by_id('EX_ocdcea(e)').id = 'EX_ocdcea_e'\n",
    "model.reactions.get_by_id('EX_h2o(e)').id = 'EX_h2o_e'\n",
    "model.reactions.get_by_id('EX_h(e)').id = 'EX_h_e'\n",
    "model.reactions.get_by_id('EX_nh4(e)').id = 'EX_nh4_e'\n",
    "model.reactions.get_by_id('EX_o2(e)').id = 'EX_o2_e'\n",
    "model.reactions.get_by_id('EX_pi(e)').id = 'EX_pi_e'\n",
    "model.reactions.get_by_id('EX_so4(e)').id = 'EX_so4_e'\n",
    "\n",
    "# print an example reaction\n",
    "model.reactions.get_by_id('EX_glc_e')"
   ]
  },
  {
   "cell_type": "markdown",
   "metadata": {},
   "source": [
    "### Load 13C-MFA data"
   ]
  },
  {
   "cell_type": "code",
   "execution_count": 4,
   "metadata": {},
   "outputs": [
    {
     "ename": "FileNotFoundError",
     "evalue": "[Errno 2] No such file or directory: '../data/13c_mfa/INCA_12082023.xlsx'",
     "output_type": "error",
     "traceback": [
      "\u001b[0;31m---------------------------------------------------------------------------\u001b[0m",
      "\u001b[0;31mFileNotFoundError\u001b[0m                         Traceback (most recent call last)",
      "Cell \u001b[0;32mIn[4], line 1\u001b[0m\n\u001b[0;32m----> 1\u001b[0m central_rxn_df \u001b[38;5;241m=\u001b[39m \u001b[43mpd\u001b[49m\u001b[38;5;241;43m.\u001b[39;49m\u001b[43mread_excel\u001b[49m\u001b[43m(\u001b[49m\u001b[38;5;124;43m'\u001b[39;49m\u001b[38;5;124;43m../data/13c_mfa/INCA_12082023.xlsx\u001b[39;49m\u001b[38;5;124;43m'\u001b[39;49m\u001b[43m,\u001b[49m\u001b[43m \u001b[49m\u001b[43msheet_name\u001b[49m\u001b[38;5;241;43m=\u001b[39;49m\u001b[38;5;124;43m'\u001b[39;49m\u001b[38;5;124;43mflux_data\u001b[39;49m\u001b[38;5;124;43m'\u001b[39;49m\u001b[43m)\u001b[49m\n\u001b[1;32m      3\u001b[0m \u001b[38;5;66;03m# calculate the number of reactions in the 13C MFA that are mapped to the GSM\u001b[39;00m\n\u001b[1;32m      4\u001b[0m mapped_rxn_df \u001b[38;5;241m=\u001b[39m central_rxn_df\u001b[38;5;241m.\u001b[39mdropna(subset \u001b[38;5;241m=\u001b[39m [\u001b[38;5;124m\"\u001b[39m\u001b[38;5;124mreaction_ids\u001b[39m\u001b[38;5;124m\"\u001b[39m])\n",
      "File \u001b[0;32m~/yarrowia_eflux2/venv/lib/python3.10/site-packages/pandas/util/_decorators.py:211\u001b[0m, in \u001b[0;36mdeprecate_kwarg.<locals>._deprecate_kwarg.<locals>.wrapper\u001b[0;34m(*args, **kwargs)\u001b[0m\n\u001b[1;32m    209\u001b[0m     \u001b[38;5;28;01melse\u001b[39;00m:\n\u001b[1;32m    210\u001b[0m         kwargs[new_arg_name] \u001b[38;5;241m=\u001b[39m new_arg_value\n\u001b[0;32m--> 211\u001b[0m \u001b[38;5;28;01mreturn\u001b[39;00m \u001b[43mfunc\u001b[49m\u001b[43m(\u001b[49m\u001b[38;5;241;43m*\u001b[39;49m\u001b[43margs\u001b[49m\u001b[43m,\u001b[49m\u001b[43m \u001b[49m\u001b[38;5;241;43m*\u001b[39;49m\u001b[38;5;241;43m*\u001b[39;49m\u001b[43mkwargs\u001b[49m\u001b[43m)\u001b[49m\n",
      "File \u001b[0;32m~/yarrowia_eflux2/venv/lib/python3.10/site-packages/pandas/util/_decorators.py:331\u001b[0m, in \u001b[0;36mdeprecate_nonkeyword_arguments.<locals>.decorate.<locals>.wrapper\u001b[0;34m(*args, **kwargs)\u001b[0m\n\u001b[1;32m    325\u001b[0m \u001b[38;5;28;01mif\u001b[39;00m \u001b[38;5;28mlen\u001b[39m(args) \u001b[38;5;241m>\u001b[39m num_allow_args:\n\u001b[1;32m    326\u001b[0m     warnings\u001b[38;5;241m.\u001b[39mwarn(\n\u001b[1;32m    327\u001b[0m         msg\u001b[38;5;241m.\u001b[39mformat(arguments\u001b[38;5;241m=\u001b[39m_format_argument_list(allow_args)),\n\u001b[1;32m    328\u001b[0m         \u001b[38;5;167;01mFutureWarning\u001b[39;00m,\n\u001b[1;32m    329\u001b[0m         stacklevel\u001b[38;5;241m=\u001b[39mfind_stack_level(),\n\u001b[1;32m    330\u001b[0m     )\n\u001b[0;32m--> 331\u001b[0m \u001b[38;5;28;01mreturn\u001b[39;00m \u001b[43mfunc\u001b[49m\u001b[43m(\u001b[49m\u001b[38;5;241;43m*\u001b[39;49m\u001b[43margs\u001b[49m\u001b[43m,\u001b[49m\u001b[43m \u001b[49m\u001b[38;5;241;43m*\u001b[39;49m\u001b[38;5;241;43m*\u001b[39;49m\u001b[43mkwargs\u001b[49m\u001b[43m)\u001b[49m\n",
      "File \u001b[0;32m~/yarrowia_eflux2/venv/lib/python3.10/site-packages/pandas/io/excel/_base.py:482\u001b[0m, in \u001b[0;36mread_excel\u001b[0;34m(io, sheet_name, header, names, index_col, usecols, squeeze, dtype, engine, converters, true_values, false_values, skiprows, nrows, na_values, keep_default_na, na_filter, verbose, parse_dates, date_parser, thousands, decimal, comment, skipfooter, convert_float, mangle_dupe_cols, storage_options)\u001b[0m\n\u001b[1;32m    480\u001b[0m \u001b[38;5;28;01mif\u001b[39;00m \u001b[38;5;129;01mnot\u001b[39;00m \u001b[38;5;28misinstance\u001b[39m(io, ExcelFile):\n\u001b[1;32m    481\u001b[0m     should_close \u001b[38;5;241m=\u001b[39m \u001b[38;5;28;01mTrue\u001b[39;00m\n\u001b[0;32m--> 482\u001b[0m     io \u001b[38;5;241m=\u001b[39m \u001b[43mExcelFile\u001b[49m\u001b[43m(\u001b[49m\u001b[43mio\u001b[49m\u001b[43m,\u001b[49m\u001b[43m \u001b[49m\u001b[43mstorage_options\u001b[49m\u001b[38;5;241;43m=\u001b[39;49m\u001b[43mstorage_options\u001b[49m\u001b[43m,\u001b[49m\u001b[43m \u001b[49m\u001b[43mengine\u001b[49m\u001b[38;5;241;43m=\u001b[39;49m\u001b[43mengine\u001b[49m\u001b[43m)\u001b[49m\n\u001b[1;32m    483\u001b[0m \u001b[38;5;28;01melif\u001b[39;00m engine \u001b[38;5;129;01mand\u001b[39;00m engine \u001b[38;5;241m!=\u001b[39m io\u001b[38;5;241m.\u001b[39mengine:\n\u001b[1;32m    484\u001b[0m     \u001b[38;5;28;01mraise\u001b[39;00m \u001b[38;5;167;01mValueError\u001b[39;00m(\n\u001b[1;32m    485\u001b[0m         \u001b[38;5;124m\"\u001b[39m\u001b[38;5;124mEngine should not be specified when passing \u001b[39m\u001b[38;5;124m\"\u001b[39m\n\u001b[1;32m    486\u001b[0m         \u001b[38;5;124m\"\u001b[39m\u001b[38;5;124man ExcelFile - ExcelFile already has the engine set\u001b[39m\u001b[38;5;124m\"\u001b[39m\n\u001b[1;32m    487\u001b[0m     )\n",
      "File \u001b[0;32m~/yarrowia_eflux2/venv/lib/python3.10/site-packages/pandas/io/excel/_base.py:1652\u001b[0m, in \u001b[0;36mExcelFile.__init__\u001b[0;34m(self, path_or_buffer, engine, storage_options)\u001b[0m\n\u001b[1;32m   1650\u001b[0m     ext \u001b[38;5;241m=\u001b[39m \u001b[38;5;124m\"\u001b[39m\u001b[38;5;124mxls\u001b[39m\u001b[38;5;124m\"\u001b[39m\n\u001b[1;32m   1651\u001b[0m \u001b[38;5;28;01melse\u001b[39;00m:\n\u001b[0;32m-> 1652\u001b[0m     ext \u001b[38;5;241m=\u001b[39m \u001b[43minspect_excel_format\u001b[49m\u001b[43m(\u001b[49m\n\u001b[1;32m   1653\u001b[0m \u001b[43m        \u001b[49m\u001b[43mcontent_or_path\u001b[49m\u001b[38;5;241;43m=\u001b[39;49m\u001b[43mpath_or_buffer\u001b[49m\u001b[43m,\u001b[49m\u001b[43m \u001b[49m\u001b[43mstorage_options\u001b[49m\u001b[38;5;241;43m=\u001b[39;49m\u001b[43mstorage_options\u001b[49m\n\u001b[1;32m   1654\u001b[0m \u001b[43m    \u001b[49m\u001b[43m)\u001b[49m\n\u001b[1;32m   1655\u001b[0m     \u001b[38;5;28;01mif\u001b[39;00m ext \u001b[38;5;129;01mis\u001b[39;00m \u001b[38;5;28;01mNone\u001b[39;00m:\n\u001b[1;32m   1656\u001b[0m         \u001b[38;5;28;01mraise\u001b[39;00m \u001b[38;5;167;01mValueError\u001b[39;00m(\n\u001b[1;32m   1657\u001b[0m             \u001b[38;5;124m\"\u001b[39m\u001b[38;5;124mExcel file format cannot be determined, you must specify \u001b[39m\u001b[38;5;124m\"\u001b[39m\n\u001b[1;32m   1658\u001b[0m             \u001b[38;5;124m\"\u001b[39m\u001b[38;5;124man engine manually.\u001b[39m\u001b[38;5;124m\"\u001b[39m\n\u001b[1;32m   1659\u001b[0m         )\n",
      "File \u001b[0;32m~/yarrowia_eflux2/venv/lib/python3.10/site-packages/pandas/io/excel/_base.py:1525\u001b[0m, in \u001b[0;36minspect_excel_format\u001b[0;34m(content_or_path, storage_options)\u001b[0m\n\u001b[1;32m   1522\u001b[0m \u001b[38;5;28;01mif\u001b[39;00m \u001b[38;5;28misinstance\u001b[39m(content_or_path, \u001b[38;5;28mbytes\u001b[39m):\n\u001b[1;32m   1523\u001b[0m     content_or_path \u001b[38;5;241m=\u001b[39m BytesIO(content_or_path)\n\u001b[0;32m-> 1525\u001b[0m \u001b[38;5;28;01mwith\u001b[39;00m \u001b[43mget_handle\u001b[49m\u001b[43m(\u001b[49m\n\u001b[1;32m   1526\u001b[0m \u001b[43m    \u001b[49m\u001b[43mcontent_or_path\u001b[49m\u001b[43m,\u001b[49m\u001b[43m \u001b[49m\u001b[38;5;124;43m\"\u001b[39;49m\u001b[38;5;124;43mrb\u001b[39;49m\u001b[38;5;124;43m\"\u001b[39;49m\u001b[43m,\u001b[49m\u001b[43m \u001b[49m\u001b[43mstorage_options\u001b[49m\u001b[38;5;241;43m=\u001b[39;49m\u001b[43mstorage_options\u001b[49m\u001b[43m,\u001b[49m\u001b[43m \u001b[49m\u001b[43mis_text\u001b[49m\u001b[38;5;241;43m=\u001b[39;49m\u001b[38;5;28;43;01mFalse\u001b[39;49;00m\n\u001b[1;32m   1527\u001b[0m \u001b[43m\u001b[49m\u001b[43m)\u001b[49m \u001b[38;5;28;01mas\u001b[39;00m handle:\n\u001b[1;32m   1528\u001b[0m     stream \u001b[38;5;241m=\u001b[39m handle\u001b[38;5;241m.\u001b[39mhandle\n\u001b[1;32m   1529\u001b[0m     stream\u001b[38;5;241m.\u001b[39mseek(\u001b[38;5;241m0\u001b[39m)\n",
      "File \u001b[0;32m~/yarrowia_eflux2/venv/lib/python3.10/site-packages/pandas/io/common.py:865\u001b[0m, in \u001b[0;36mget_handle\u001b[0;34m(path_or_buf, mode, encoding, compression, memory_map, is_text, errors, storage_options)\u001b[0m\n\u001b[1;32m    856\u001b[0m         handle \u001b[38;5;241m=\u001b[39m \u001b[38;5;28mopen\u001b[39m(\n\u001b[1;32m    857\u001b[0m             handle,\n\u001b[1;32m    858\u001b[0m             ioargs\u001b[38;5;241m.\u001b[39mmode,\n\u001b[0;32m   (...)\u001b[0m\n\u001b[1;32m    861\u001b[0m             newline\u001b[38;5;241m=\u001b[39m\u001b[38;5;124m\"\u001b[39m\u001b[38;5;124m\"\u001b[39m,\n\u001b[1;32m    862\u001b[0m         )\n\u001b[1;32m    863\u001b[0m     \u001b[38;5;28;01melse\u001b[39;00m:\n\u001b[1;32m    864\u001b[0m         \u001b[38;5;66;03m# Binary mode\u001b[39;00m\n\u001b[0;32m--> 865\u001b[0m         handle \u001b[38;5;241m=\u001b[39m \u001b[38;5;28;43mopen\u001b[39;49m\u001b[43m(\u001b[49m\u001b[43mhandle\u001b[49m\u001b[43m,\u001b[49m\u001b[43m \u001b[49m\u001b[43mioargs\u001b[49m\u001b[38;5;241;43m.\u001b[39;49m\u001b[43mmode\u001b[49m\u001b[43m)\u001b[49m\n\u001b[1;32m    866\u001b[0m     handles\u001b[38;5;241m.\u001b[39mappend(handle)\n\u001b[1;32m    868\u001b[0m \u001b[38;5;66;03m# Convert BytesIO or file objects passed with an encoding\u001b[39;00m\n",
      "\u001b[0;31mFileNotFoundError\u001b[0m: [Errno 2] No such file or directory: '../data/13c_mfa/INCA_12082023.xlsx'"
     ]
    }
   ],
   "source": [
    "central_rxn_df = pd.read_excel('../data/13c_mfa/INCA_12082023.xlsx', sheet_name='flux_data')\n",
    "\n",
    "# calculate the number of reactions in the 13C MFA that are mapped to the GSM\n",
    "mapped_rxn_df = central_rxn_df.dropna(subset = [\"reaction_ids\"])\n",
    "\n",
    "print(f'There are {len(mapped_rxn_df)} reactions in the 13C MFA that are mapped to the GSM')\n",
    "\n",
    "central_rxn_df.head()"
   ]
  },
  {
   "cell_type": "markdown",
   "metadata": {},
   "source": [
    "# Glucose"
   ]
  },
  {
   "cell_type": "markdown",
   "metadata": {},
   "source": [
    "### Define a function to build constraint strings from 13C-MFA data"
   ]
  },
  {
   "cell_type": "code",
   "execution_count": null,
   "metadata": {},
   "outputs": [],
   "source": [
    "def build_13c_constraint_string(central_rxn_df, lower_bound_row, upper_bound_row):\n",
    "    \n",
    "    # key node reactions to constrain\n",
    "    key_pathway_reactions = {\n",
    "        'EMP': 'GAPD',\n",
    "        'TCA': 'CSm',\n",
    "        'PPP': 'GND',\n",
    "    }\n",
    "    \n",
    "    constraint_strings = []\n",
    "\n",
    "    for pathway, reaction_ids in key_pathway_reactions.items():\n",
    "        row = central_rxn_df.loc[central_rxn_df['reaction_ids'] == reaction_ids]\n",
    "        # get the lower bound for this reaction\n",
    "        lower_bound = row[lower_bound_row]\n",
    "        upper_bound = row[upper_bound_row]\n",
    "\n",
    "        constraint_string = make_rxn_constraint_string(reaction_ids, lower_bound, upper_bound)\n",
    "        # print(constraint_string)\n",
    "        # print(pathway, reaction)\n",
    "        constraint_strings.append(constraint_string)\n",
    "\n",
    "    full_constraint_string = ', '.join(constraint_strings)\n",
    "    return full_constraint_string\n",
    "\n",
    "    \n",
    "\n",
    "build_13c_constraint_string(central_rxn_df, 'glucose_LB', 'glucose_UB')\n"
   ]
  },
  {
   "cell_type": "markdown",
   "metadata": {},
   "source": [
    "### Build glucose constraint string from 13C-MFA data"
   ]
  },
  {
   "cell_type": "code",
   "execution_count": null,
   "metadata": {},
   "outputs": [],
   "source": [
    "# update the media to minimal medium with glucose as the sole carbon source\n",
    "medium = model.medium\n",
    "medium['EX_glc_e'] = 100\n",
    "medium['EX_glyc_e'] = 0\n",
    "medium['EX_ocdcea_e'] = 0\n",
    "medium['EX_h2o_e'] = 10000\n",
    "medium['EX_h_e'] = 10000\n",
    "medium['EX_nh4_e'] = 10000\n",
    "medium['EX_o2_e'] = 10000\n",
    "medium['EX_pi_e'] = 10000\n",
    "medium['EX_so4_e'] = 10000\n",
    "medium['trehalose_c_tp'] = 0\n",
    "model.medium = medium\n",
    "\n",
    "# print the medium composition\n",
    "[print(model.medium[m], m) for m in model.medium]\n",
    "\n",
    "lower_bound_row = 'glucose_LB'\n",
    "upper_bound_row = 'glucose_UB'\n",
    "\n",
    "constraint_strings = []\n",
    "\n",
    "# loop over rows in the central flux dataframe\n",
    "for _, row in central_rxn_df.iterrows():  \n",
    "    # get the GSM reaction mapping for this reaction\n",
    "    reaction_ids = row['reaction_ids']\n",
    "    pathway = row['pathway']\n",
    "\n",
    "    # get the lower bound for this reaction\n",
    "    lower_bound = row[lower_bound_row]\n",
    "    upper_bound = row[upper_bound_row]\n",
    "\n",
    "    # determine if reaction should be included in the constraint string\n",
    "    reaction_ids_not_nan = not pd.isna(reaction_ids)\n",
    "    pathway_not_transport = pathway != 'transport'\n",
    "    bounds_are_not_nan = not pd.isna(lower_bound) and not pd.isna(upper_bound)\n",
    "    \n",
    "\n",
    "    if reaction_ids_not_nan and pathway_not_transport and bounds_are_not_nan:\n",
    "        print(f'13C-MFA bounds: {lower_bound} - {upper_bound}')\n",
    "\n",
    "        # make the constraint string\n",
    "        constraint_string = make_rxn_constraint_string(reaction_ids, lower_bound, upper_bound)\n",
    "\n",
    "        glucose_fba_solution = sd.fba(model, constraints=constraint_string, obj='biomass_glucose', obj_sense='maximize', pfba=1)\n",
    "\n",
    "        # add the constraint string to the list\n",
    "        constraint_strings.append(constraint_string)\n",
    "        print(constraint_string)\n",
    "        print(f\"max biomass flux: {glucose_fba_solution['biomass_glucose']}\")\n",
    "        print()\n",
    "\n",
    "\n",
    "\n",
    "full_constraint_string = ', '.join(constraint_strings)\n",
    "print(len(full_constraint_string))\n",
    "full_constraint_string "
   ]
  },
  {
   "cell_type": "markdown",
   "metadata": {},
   "source": [
    "### Calculate glucose GSM pFBA solution"
   ]
  },
  {
   "cell_type": "code",
   "execution_count": null,
   "metadata": {},
   "outputs": [],
   "source": [
    "# update the media to minimal medium with glucose as the sole carbon source\n",
    "medium = model.medium\n",
    "medium['EX_glc_e'] = 100\n",
    "medium['EX_glyc_e'] = 0\n",
    "medium['EX_ocdcea_e'] = 0\n",
    "medium['EX_h2o_e'] = 10000\n",
    "medium['EX_h_e'] = 10000\n",
    "medium['EX_nh4_e'] = 10000\n",
    "medium['EX_o2_e'] = 10000\n",
    "medium['EX_pi_e'] = 10000\n",
    "medium['EX_so4_e'] = 10000\n",
    "medium['trehalose_c_tp'] = 0\n",
    "model.medium = medium\n",
    "\n",
    "# print the medium composition\n",
    "[print(model.medium[m], m) for m in model.medium]\n",
    "\n",
    "temp_constraint_string = 'EX_glc_e >= -100.0, EX_glc_e <= -100.0, PGI >= 7.638, PGI <= 25.076, PFK - FBP >= 50.9378'\n",
    "glucose_fba_solution = sd.fba(model, constraints=full_constraint_string, obj='biomass_glucose', obj_sense='maximize', pfba=1)\n",
    "\n",
    "print()\n",
    "\n",
    "max_glucose_biomass_flux = glucose_fba_solution['biomass_glucose']\n",
    "PGI_flux = glucose_fba_solution['PGI']\n",
    "print(f'Maximum biomass flux: {max_glucose_biomass_flux}.')\n",
    "print(f'PGI flux: {PGI_flux}.')\n",
    "print(f'The number of active reactions in pFBA: {sum([abs(flux) > 0.1 for flux in glucose_fba_solution.fluxes.values()])}')\n",
    "\n",
    "# make a list of dictionaries with the reaction id, name, flux, and absolute flux\n",
    "reactions = []\n",
    "for reaction_id, flux in glucose_fba_solution.fluxes.items():\n",
    "\n",
    "  reactions.append({\n",
    "    'reaction_id': reaction_id,\n",
    "    'reaction_name': model.reactions.get_by_id(reaction_id).name,\n",
    "    'full_reaction': model.reactions.get_by_id(reaction_id).reaction,\n",
    "    'flux': flux,\n",
    "    'absolute_flux': abs(flux), # use for sorting, then drop\n",
    "  })\n",
    "\n",
    "# make a dataframe from the list of dictionaries\n",
    "glucose_gsm_fba_df = pd.DataFrame(reactions)\n",
    "\n",
    "# sort the dataframe by absolute flux\n",
    "glucose_gsm_fba_df = glucose_gsm_fba_df.sort_values(by=['absolute_flux'], ascending=False)\n",
    "\n",
    "# drop the absolute flux column\n",
    "glucose_gsm_fba_df = glucose_gsm_fba_df.drop(columns=['absolute_flux'])\n",
    "\n",
    "glucose_gsm_fba_df.head()"
   ]
  },
  {
   "attachments": {},
   "cell_type": "markdown",
   "metadata": {},
   "source": [
    "### Calculate glucose GSM pFBA FVA "
   ]
  },
  {
   "cell_type": "code",
   "execution_count": null,
   "metadata": {},
   "outputs": [],
   "source": [
    "# run FVA for 90% of biomass production on the GSM\n",
    "biomass_fraction = 0.9\n",
    "glucose_fva_solution = sd.fva(\n",
    "  model, \n",
    "  constraints=f'EX_glc_e = -100.000, biomass_C >= {biomass_fraction * max_glucose_biomass_flux}',\n",
    ")\n",
    "\n",
    "# define a function to determine if a reaction is active\n",
    "def is_active(row):\n",
    "  return abs(row.maximum) > 0.1 or abs(row.minimum) > 0.1\n",
    "\n",
    "print(f'The number of active reactions in FVA: {sum([is_active(row) for _, row in glucose_fva_solution.iterrows()])}')\n",
    "\n",
    "# make a list of dictionaries with the reaction id, name, flux, and absolute flux\n",
    "fva_upper_bounds = []\n",
    "fva_lower_bounds = []\n",
    "\n",
    "# loop over the reactions in the GSM\n",
    "for _, row in glucose_gsm_fba_df.iterrows():\n",
    "  reaction_id = row.reaction_id\n",
    "\n",
    "  # get the upper and lower bounds from the FVA solution\n",
    "  upper_bound = glucose_fva_solution.loc[reaction_id, 'maximum']\n",
    "  lower_bound = glucose_fva_solution.loc[reaction_id, 'minimum']\n",
    "\n",
    "  fva_upper_bounds.append(upper_bound)\n",
    "  fva_lower_bounds.append(lower_bound)\n",
    "\n",
    "# add the upper and lower bounds to the dataframe\n",
    "glucose_gsm_fba_df['fva_upper_bound'] = fva_upper_bounds\n",
    "glucose_gsm_fba_df['fva_lower_bound'] = fva_lower_bounds\n",
    "\n",
    "# save the dataframe to a csv file\n",
    "glucose_gsm_fba_df.to_csv('../results/gsm_fluxes/glucose_gsm_13C_fba.csv', index=False)\n",
    "\n",
    "# display updated dataframe\n",
    "glucose_gsm_fba_df\n"
   ]
  },
  {
   "attachments": {},
   "cell_type": "markdown",
   "metadata": {},
   "source": [
    "### Add glucose pFBA columns to 13C-MFA data"
   ]
  },
  {
   "cell_type": "code",
   "execution_count": null,
   "metadata": {},
   "outputs": [],
   "source": [
    "# add the GSM flux predictions to the 13C-MFA dataframe\n",
    "central_rxn_df = add_flux_column_to_13c_flux_df(central_rxn_df, glucose_gsm_fba_df, 'glucose_pFBA_flux')\n",
    "\n",
    "# add the GSM flux predictions to the 13C-MFA dataframe\n",
    "central_rxn_df = add_fva_columns_to_13c_flux_df(central_rxn_df, glucose_gsm_fba_df, f'glucose_pFBA_{100*biomass_fraction}%')\n",
    "\n",
    "central_rxn_df.head()"
   ]
  },
  {
   "cell_type": "markdown",
   "metadata": {},
   "source": [
    "# Glycerol"
   ]
  },
  {
   "attachments": {},
   "cell_type": "markdown",
   "metadata": {},
   "source": [
    "### Calculate glycerol GSM pFBA solution"
   ]
  },
  {
   "cell_type": "code",
   "execution_count": null,
   "metadata": {},
   "outputs": [],
   "source": [
    "# update the media to minimal medium with glycerol as the sole carbon source\n",
    "medium = model.medium\n",
    "medium['EX_glc_e'] = 0\n",
    "medium['EX_glyc_e'] = 100\n",
    "medium['EX_ocdcea_e'] = 0\n",
    "medium['EX_h2o_e'] = 10000\n",
    "medium['EX_h_e'] = 10000\n",
    "medium['EX_nh4_e'] = 10000\n",
    "medium['EX_o2_e'] = 10000\n",
    "medium['EX_pi_e'] = 10000\n",
    "medium['EX_so4_e'] = 10000\n",
    "medium['trehalose_c_tp'] = 0\n",
    "model.medium = medium\n",
    "\n",
    "# print the medium composition\n",
    "[print(model.medium[m], m) for m in model.medium]\n",
    "\n",
    "# run biomass-maximizing pFBA\n",
    "glycerol_fba_solution = sd.fba(model, constraints='EX_glyc_e = -100.000', obj='biomass_C', obj_sense='maximize', pfba=1)\n",
    "\n",
    "max_glycerol_biomass_flux = glycerol_fba_solution['biomass_C']\n",
    "print(f'Maximum biomass flux: {max_glycerol_biomass_flux}.')\n",
    "print(f'The number of active reactions in pFBA: {sum([abs(flux) > 0.1 for flux in glycerol_fba_solution.fluxes.values()])}')\n",
    "\n",
    "# make a list of dictionaries with the reaction id, name, flux, and absolute flux\n",
    "reactions = []\n",
    "for reaction_id, flux in glycerol_fba_solution.fluxes.items():\n",
    "\n",
    "  reactions.append({\n",
    "    'reaction_id': reaction_id,\n",
    "    'reaction_name': model.reactions.get_by_id(reaction_id).name,\n",
    "    'full_reaction': model.reactions.get_by_id(reaction_id).reaction,\n",
    "    'flux': flux,\n",
    "    'absolute_flux': abs(flux), # use for sorting, then drop\n",
    "  })\n",
    "\n",
    "# make a dataframe from the list of dictionaries\n",
    "glycerol_gsm_fba_df = pd.DataFrame(reactions)\n",
    "\n",
    "# sort the dataframe by absolute flux\n",
    "glycerol_gsm_fba_df = glycerol_gsm_fba_df.sort_values(by=['absolute_flux'], ascending=False)\n",
    "\n",
    "# drop the absolute flux column\n",
    "glycerol_gsm_fba_df = glycerol_gsm_fba_df.drop(columns=['absolute_flux'])\n",
    "\n",
    "glycerol_gsm_fba_df.head()"
   ]
  },
  {
   "cell_type": "markdown",
   "metadata": {},
   "source": [
    "### Calculate glycerol GSM pFBA FVA "
   ]
  },
  {
   "cell_type": "code",
   "execution_count": null,
   "metadata": {},
   "outputs": [],
   "source": [
    "# run FVA for 90% of biomass production on the GSM\n",
    "biomass_fraction = 0.9\n",
    "glycerol_fva_solution = sd.fva(\n",
    "  model, \n",
    "  constraints=f'EX_glyc_e = -100.000, biomass_C >= {biomass_fraction * max_glycerol_biomass_flux}',\n",
    ")\n",
    "\n",
    "# define a function to determine if a reaction is active\n",
    "def is_active(row):\n",
    "  return abs(row.maximum) > 0.1 or abs(row.minimum) > 0.1\n",
    "\n",
    "print(f'The number of active reactions in FVA: {sum([is_active(row) for _, row in glycerol_fva_solution.iterrows()])}')\n",
    "\n",
    "# make a list of dictionaries with the reaction id, name, flux, and absolute flux\n",
    "fva_upper_bounds = []\n",
    "fva_lower_bounds = []\n",
    "\n",
    "# loop over the reactions in the GSM\n",
    "for _, row in glycerol_gsm_fba_df.iterrows():\n",
    "  reaction_id = row.reaction_id\n",
    "\n",
    "  # get the upper and lower bounds from the FVA solution\n",
    "  upper_bound = glycerol_fva_solution.loc[reaction_id, 'maximum']\n",
    "  lower_bound = glycerol_fva_solution.loc[reaction_id, 'minimum']\n",
    "\n",
    "  fva_upper_bounds.append(upper_bound)\n",
    "  fva_lower_bounds.append(lower_bound)\n",
    "\n",
    "# add the upper and lower bounds to the dataframe\n",
    "glycerol_gsm_fba_df['fva_upper_bound'] = fva_upper_bounds\n",
    "glycerol_gsm_fba_df['fva_lower_bound'] = fva_lower_bounds\n",
    "\n",
    "# save the dataframe to a csv file\n",
    "glycerol_gsm_fba_df.to_csv('../results/gsm_fluxes/glycerol_gsm_13C_fba.csv', index=False)\n",
    "\n",
    "# display updated dataframe\n",
    "glycerol_gsm_fba_df"
   ]
  },
  {
   "cell_type": "markdown",
   "metadata": {},
   "source": [
    "### Add glycerol pFBA columns to 13C-MFA data"
   ]
  },
  {
   "cell_type": "code",
   "execution_count": null,
   "metadata": {},
   "outputs": [],
   "source": [
    "# add the GSM flux predictions to the 13C-MFA dataframe\n",
    "central_rxn_df = add_flux_column_to_13c_flux_df(central_rxn_df, glycerol_gsm_fba_df, 'glycerol_pFBA_flux')\n",
    "\n",
    "# add the GSM flux predictions to the 13C-MFA dataframe\n",
    "central_rxn_df = add_fva_columns_to_13c_flux_df(central_rxn_df, glycerol_gsm_fba_df, f'glycerol_pFBA_{100*biomass_fraction}%')\n",
    "\n",
    "central_rxn_df.head()"
   ]
  },
  {
   "cell_type": "markdown",
   "metadata": {},
   "source": [
    "# Oleic Acid"
   ]
  },
  {
   "attachments": {},
   "cell_type": "markdown",
   "metadata": {},
   "source": [
    "### Calculate oleic acid GSM pFBA solution"
   ]
  },
  {
   "cell_type": "code",
   "execution_count": null,
   "metadata": {},
   "outputs": [],
   "source": [
    "# update the media to minimal medium with oleic_acid as the sole carbon source\n",
    "medium = model.medium\n",
    "medium['EX_glc_e'] = 0\n",
    "medium['EX_glyc_e'] = 0\n",
    "medium['EX_ocdcea_e'] = 10 # this prevents overflow\n",
    "medium['EX_h2o_e'] = 10000\n",
    "medium['EX_h_e'] = 10000\n",
    "medium['EX_nh4_e'] = 10000\n",
    "medium['EX_o2_e'] = 10000\n",
    "medium['EX_pi_e'] = 10000\n",
    "medium['EX_so4_e'] = 10000\n",
    "medium['trehalose_c_tp'] = 0\n",
    "model.medium = medium\n",
    "\n",
    "# print the medium composition\n",
    "[print(model.medium[m], m) for m in model.medium]\n",
    "\n",
    "# run biomass-maximizing pFBA\n",
    "oleic_acid_fba_solution = sd.fba(model, constraints='EX_ocdcea_e = -10.000', obj='biomass_C', obj_sense='maximize', pfba=1)\n",
    "\n",
    "max_oleic_acid_biomass_flux = oleic_acid_fba_solution['biomass_C']\n",
    "print(f'Maximum biomass flux: {10 * max_oleic_acid_biomass_flux}.') # restore 100 input flux\n",
    "print(f'The number of active reactions in pFBA: {sum([abs(flux) > 0.1 for flux in oleic_acid_fba_solution.fluxes.values()])}')\n",
    "\n",
    "# make a list of dictionaries with the reaction id, name, flux, and absolute flux\n",
    "reactions = []\n",
    "for reaction_id, flux in oleic_acid_fba_solution.fluxes.items():\n",
    "\n",
    "  reactions.append({\n",
    "    'reaction_id': reaction_id,\n",
    "    'reaction_name': model.reactions.get_by_id(reaction_id).name,\n",
    "    'full_reaction': model.reactions.get_by_id(reaction_id).reaction,\n",
    "    'flux': 10 * flux, # restore 100 input flux\n",
    "    'absolute_flux': abs(flux), # use for sorting, then drop\n",
    "  })\n",
    "\n",
    "# make a dataframe from the list of dictionaries\n",
    "oleic_acid_gsm_fba_df = pd.DataFrame(reactions)\n",
    "\n",
    "# sort the dataframe by absolute flux\n",
    "oleic_acid_gsm_fba_df = oleic_acid_gsm_fba_df.sort_values(by=['absolute_flux'], ascending=False)\n",
    "\n",
    "# drop the absolute flux column\n",
    "oleic_acid_gsm_fba_df = oleic_acid_gsm_fba_df.drop(columns=['absolute_flux'])\n",
    "\n",
    "oleic_acid_gsm_fba_df.head()"
   ]
  },
  {
   "cell_type": "markdown",
   "metadata": {},
   "source": [
    "### Calculate oleic acid GSM pFBA FVA "
   ]
  },
  {
   "cell_type": "code",
   "execution_count": null,
   "metadata": {},
   "outputs": [],
   "source": [
    "# run FVA for 90% of biomass production on the GSM\n",
    "biomass_fraction = 0.9\n",
    "oleic_acid_fva_solution = sd.fva(\n",
    "  model, \n",
    "  constraints=f'EX_ocdcea_e = -10.000, biomass_C >= {biomass_fraction * max_oleic_acid_biomass_flux}',\n",
    ")\n",
    "\n",
    "# define a function to determine if a reaction is active\n",
    "def is_active(row):\n",
    "  return abs(row.maximum) > 0.1 or abs(row.minimum) > 0.1\n",
    "\n",
    "print(f'The number of active reactions in FVA: {sum([is_active(row) for _, row in oleic_acid_fva_solution.iterrows()])}')\n",
    "\n",
    "# make a list of dictionaries with the reaction id, name, flux, and absolute flux\n",
    "fva_upper_bounds = []\n",
    "fva_lower_bounds = []\n",
    "\n",
    "# loop over the reactions in the GSM\n",
    "for _, row in oleic_acid_gsm_fba_df.iterrows():\n",
    "  reaction_id = row.reaction_id\n",
    "\n",
    "  # get the upper and lower bounds from the FVA solution\n",
    "  upper_bound = 10 * oleic_acid_fva_solution.loc[reaction_id, 'maximum'] # restore 100 input flux\n",
    "  lower_bound = 10 * oleic_acid_fva_solution.loc[reaction_id, 'minimum'] # restore 100 input flux\n",
    "\n",
    "  fva_upper_bounds.append(upper_bound)\n",
    "  fva_lower_bounds.append(lower_bound)\n",
    "\n",
    "# add the upper and lower bounds to the dataframe\n",
    "oleic_acid_gsm_fba_df['fva_upper_bound'] = fva_upper_bounds\n",
    "oleic_acid_gsm_fba_df['fva_lower_bound'] = fva_lower_bounds\n",
    "\n",
    "# save the dataframe to a csv file\n",
    "oleic_acid_gsm_fba_df.to_csv('../results/gsm_fluxes/oleic_acid_gsm_13C_fba.csv', index=False)\n",
    "\n",
    "# display updated dataframe\n",
    "oleic_acid_gsm_fba_df\n"
   ]
  },
  {
   "attachments": {},
   "cell_type": "markdown",
   "metadata": {},
   "source": [
    "### Add oleic acid pFBA columns to 13C-MFA data"
   ]
  },
  {
   "cell_type": "code",
   "execution_count": null,
   "metadata": {},
   "outputs": [],
   "source": [
    "# add the GSM flux predictions to the 13C-MFA dataframe\n",
    "central_rxn_df = add_flux_column_to_13c_flux_df(central_rxn_df, oleic_acid_gsm_fba_df, 'oleic_acid_pFBA_flux')\n",
    "\n",
    "# add the GSM flux predictions to the 13C-MFA dataframe\n",
    "central_rxn_df = add_fva_columns_to_13c_flux_df(central_rxn_df, oleic_acid_gsm_fba_df, f'oleic_acid_pFBA_{100*biomass_fraction}%')\n",
    "\n",
    "central_rxn_df.head()"
   ]
  },
  {
   "cell_type": "markdown",
   "metadata": {},
   "source": [
    "# Save Data"
   ]
  },
  {
   "cell_type": "markdown",
   "metadata": {},
   "source": [
    "### Save central flux data with pFBA data added"
   ]
  },
  {
   "cell_type": "code",
   "execution_count": null,
   "metadata": {},
   "outputs": [],
   "source": [
    "# save the dataframe to a csv file\n",
    "central_rxn_df.to_csv('../results/central_fluxes/13C_pfba.csv', index=False, encoding='utf-8-sig')"
   ]
  }
 ],
 "metadata": {
  "kernelspec": {
   "display_name": "venv",
   "language": "python",
   "name": "python3"
  },
  "language_info": {
   "codemirror_mode": {
    "name": "ipython",
    "version": 3
   },
   "file_extension": ".py",
   "mimetype": "text/x-python",
   "name": "python",
   "nbconvert_exporter": "python",
   "pygments_lexer": "ipython3",
   "version": "3.10.2"
  },
  "orig_nbformat": 4
 },
 "nbformat": 4,
 "nbformat_minor": 2
}
