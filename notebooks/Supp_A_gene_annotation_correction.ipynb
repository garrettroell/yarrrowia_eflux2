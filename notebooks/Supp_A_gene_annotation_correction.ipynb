{
 "cells": [
  {
   "attachments": {},
   "cell_type": "markdown",
   "metadata": {},
   "source": [
    "# Gene annotation correction\n",
    "Fix errors in GSM gene mapping to match transcript notation"
   ]
  },
  {
   "cell_type": "code",
   "execution_count": 1,
   "metadata": {},
   "outputs": [],
   "source": [
    "import pandas as pd\n",
    "import cobra"
   ]
  },
  {
   "attachments": {},
   "cell_type": "markdown",
   "metadata": {},
   "source": [
    "### Load genome scale model"
   ]
  },
  {
   "cell_type": "code",
   "execution_count": 2,
   "metadata": {},
   "outputs": [
    {
     "data": {
      "text/html": [
       "\n",
       "        <table>\n",
       "            <tr>\n",
       "                <td><strong>Name</strong></td>\n",
       "                <td>model</td>\n",
       "            </tr><tr>\n",
       "                <td><strong>Memory address</strong></td>\n",
       "                <td>10b517940</td>\n",
       "            </tr><tr>\n",
       "                <td><strong>Number of metabolites</strong></td>\n",
       "                <td>1121</td>\n",
       "            </tr><tr>\n",
       "                <td><strong>Number of reactions</strong></td>\n",
       "                <td>1348</td>\n",
       "            </tr><tr>\n",
       "                <td><strong>Number of genes</strong></td>\n",
       "                <td>646</td>\n",
       "            </tr><tr>\n",
       "                <td><strong>Number of groups</strong></td>\n",
       "                <td>0</td>\n",
       "            </tr><tr>\n",
       "                <td><strong>Objective expression</strong></td>\n",
       "                <td>1.0*biomass_C - 1.0*biomass_C_reverse_c1d5c</td>\n",
       "            </tr><tr>\n",
       "                <td><strong>Compartments</strong></td>\n",
       "                <td>c, e, m, n, x, r, g, v</td>\n",
       "            </tr>\n",
       "          </table>"
      ],
      "text/plain": [
       "<Model model at 0x10b517940>"
      ]
     },
     "execution_count": 2,
     "metadata": {},
     "output_type": "execute_result"
    }
   ],
   "source": [
    "model = cobra.io.json.load_json_model(\"../genome_scale_models/iYLI647_corr.json\")\n",
    "model"
   ]
  },
  {
   "attachments": {},
   "cell_type": "markdown",
   "metadata": {},
   "source": [
    "### Fix reaction that has a duplicate gene"
   ]
  },
  {
   "cell_type": "code",
   "execution_count": 3,
   "metadata": {},
   "outputs": [
    {
     "name": "stdout",
     "output_type": "stream",
     "text": [
      "YALI0B02728g or (YALI0D09229g and YALI0D09229g)\n"
     ]
    },
    {
     "data": {
      "text/html": [
       "\n",
       "        <table>\n",
       "            <tr>\n",
       "                <td><strong>Reaction identifier</strong></td><td>DPGM</td>\n",
       "            </tr><tr>\n",
       "                <td><strong>Name</strong></td><td>Diphosphoglyceromutase</td>\n",
       "            </tr><tr>\n",
       "                <td><strong>Memory address</strong></td>\n",
       "                <td>0x13b6931c0</td>\n",
       "            </tr><tr>\n",
       "                <td><strong>Stoichiometry</strong></td>\n",
       "                <td>\n",
       "                    <p style='text-align:right'>13dpg[c] <=> 23dpg[c] + h[c]</p>\n",
       "                    <p style='text-align:right'>3_Phospho_D_glyceroyl_phosphate <=> 2_3_Disphospho_D_glycerate + H</p>\n",
       "                </td>\n",
       "            </tr><tr>\n",
       "                <td><strong>GPR</strong></td><td>YALI0B02728g or YALI0D09229g</td>\n",
       "            </tr><tr>\n",
       "                <td><strong>Lower bound</strong></td><td>-1000.0</td>\n",
       "            </tr><tr>\n",
       "                <td><strong>Upper bound</strong></td><td>1000.0</td>\n",
       "            </tr>\n",
       "        </table>\n",
       "        "
      ],
      "text/plain": [
       "<Reaction DPGM at 0x13b6931c0>"
      ]
     },
     "metadata": {},
     "output_type": "display_data"
    }
   ],
   "source": [
    "# fix Diphosphoglyceromutase gene_reaction_rule\n",
    "print(model.reactions.DPGM.gene_reaction_rule)\n",
    "\n",
    "# remove duplicate genes\n",
    "model.reactions.DPGM.gene_reaction_rule = 'YALI0B02728g or YALI0D09229g'\n",
    "\n",
    "display(model.reactions.DPGM)"
   ]
  },
  {
   "attachments": {},
   "cell_type": "markdown",
   "metadata": {},
   "source": [
    "### Remove genes that are not in the transcriptomics data set"
   ]
  },
  {
   "cell_type": "code",
   "execution_count": 4,
   "metadata": {},
   "outputs": [
    {
     "name": "stdout",
     "output_type": "stream",
     "text": [
      "YALI0E10144g and YALI0E12628g and YALI0E16709g and YALI0E19723g and YALI0F03201g and YALI0F03567g and YALI0F04103g and YALI0F04\n"
     ]
    },
    {
     "data": {
      "text/html": [
       "\n",
       "        <table>\n",
       "            <tr>\n",
       "                <td><strong>Reaction identifier</strong></td><td>CYOOm</td>\n",
       "            </tr><tr>\n",
       "                <td><strong>Name</strong></td><td>cytochrome c oxidase mitochondrial</td>\n",
       "            </tr><tr>\n",
       "                <td><strong>Memory address</strong></td>\n",
       "                <td>0x13b7f5990</td>\n",
       "            </tr><tr>\n",
       "                <td><strong>Stoichiometry</strong></td>\n",
       "                <td>\n",
       "                    <p style='text-align:right'>4.0 focytc[m] + 6.0 h[m] + o2[m] --> 4.0 ficytc[m] + 2.0 h2o[m] + 6.0 h[c]</p>\n",
       "                    <p style='text-align:right'>4.0 Ferrocytochrome_c + 6.0 H + O2 --> 4.0 Ferricytochrome_c + 2.0 H2O + 6.0 H</p>\n",
       "                </td>\n",
       "            </tr><tr>\n",
       "                <td><strong>GPR</strong></td><td>YALI0E10144g and YALI0E12628g and YALI0E16709g and YALI0E19723g and YALI0F03201g and YALI0F03567g...</td>\n",
       "            </tr><tr>\n",
       "                <td><strong>Lower bound</strong></td><td>0.0</td>\n",
       "            </tr><tr>\n",
       "                <td><strong>Upper bound</strong></td><td>1000.0</td>\n",
       "            </tr>\n",
       "        </table>\n",
       "        "
      ],
      "text/plain": [
       "<Reaction CYOOm at 0x13b7f5990>"
      ]
     },
     "metadata": {},
     "output_type": "display_data"
    }
   ],
   "source": [
    "# fix cytochrome c oxidase mitochondrial gene_reaction_rule\n",
    "print(model.reactions.CYOOm.gene_reaction_rule)\n",
    "\n",
    "# remove misanotated gene (YALI0F04)\n",
    "model.reactions.CYOOm.gene_reaction_rule = 'YALI0E10144g and YALI0E12628g and YALI0E16709g and YALI0E19723g and YALI0F03201g and YALI0F03567g and YALI0F04103g'\n",
    "\n",
    "display(model.reactions.CYOOm)"
   ]
  },
  {
   "cell_type": "code",
   "execution_count": 5,
   "metadata": {},
   "outputs": [
    {
     "name": "stdout",
     "output_type": "stream",
     "text": [
      "YALI0A02915g and YALI0A17468g and YALI0B01540g and YALI0C12210g and YALI0E34037g and YALI0F01771g and YALI0F08613g and YALI0F24\n"
     ]
    },
    {
     "data": {
      "text/html": [
       "\n",
       "        <table>\n",
       "            <tr>\n",
       "                <td><strong>Reaction identifier</strong></td><td>CYOR_u6m</td>\n",
       "            </tr><tr>\n",
       "                <td><strong>Name</strong></td><td>ubiquinol 6 cytochrome c reductase</td>\n",
       "            </tr><tr>\n",
       "                <td><strong>Memory address</strong></td>\n",
       "                <td>0x13b7f72e0</td>\n",
       "            </tr><tr>\n",
       "                <td><strong>Stoichiometry</strong></td>\n",
       "                <td>\n",
       "                    <p style='text-align:right'>2.0 ficytc[m] + 1.5 h[m] + q6h2[m] --> 2.0 focytc[m] + 1.5 h[c] + q6[m]</p>\n",
       "                    <p style='text-align:right'>2.0 Ferricytochrome_c + 1.5 H + Ubiquinol_6 --> 2.0 Ferrocytochrome_c + 1.5 H + Ubiquinone_6</p>\n",
       "                </td>\n",
       "            </tr><tr>\n",
       "                <td><strong>GPR</strong></td><td>YALI0A02915g and YALI0A17468g and YALI0B01540g and YALI0C12210g and YALI0E34037g and YALI0F01771g...</td>\n",
       "            </tr><tr>\n",
       "                <td><strong>Lower bound</strong></td><td>0.0</td>\n",
       "            </tr><tr>\n",
       "                <td><strong>Upper bound</strong></td><td>1000.0</td>\n",
       "            </tr>\n",
       "        </table>\n",
       "        "
      ],
      "text/plain": [
       "<Reaction CYOR_u6m at 0x13b7f72e0>"
      ]
     },
     "metadata": {},
     "output_type": "display_data"
    }
   ],
   "source": [
    "# ubiquinol 6 cytochrome c reductase gene_reaction_rule\n",
    "print(model.reactions.CYOR_u6m.gene_reaction_rule)\n",
    "\n",
    "# remove misanotated gene (YALI0F24)\n",
    "model.reactions.CYOR_u6m.gene_reaction_rule = 'YALI0A02915g and YALI0A17468g and YALI0B01540g and YALI0C12210g and YALI0E34037g and YALI0F01771g and YALI0F08613g'\n",
    "\n",
    "display(model.reactions.CYOR_u6m)"
   ]
  },
  {
   "attachments": {},
   "cell_type": "markdown",
   "metadata": {},
   "source": [
    "### Fix gene ids that have typos"
   ]
  },
  {
   "cell_type": "code",
   "execution_count": 6,
   "metadata": {},
   "outputs": [
    {
     "name": "stdout",
     "output_type": "stream",
     "text": [
      "YALI0C20265g or YALIB02544g\n"
     ]
    },
    {
     "data": {
      "text/html": [
       "\n",
       "        <table>\n",
       "            <tr>\n",
       "                <td><strong>Reaction identifier</strong></td><td>HCAt</td>\n",
       "            </tr><tr>\n",
       "                <td><strong>Name</strong></td><td>Hexanoate n C60 transport in via uniport YL</td>\n",
       "            </tr><tr>\n",
       "                <td><strong>Memory address</strong></td>\n",
       "                <td>0x13bbb6680</td>\n",
       "            </tr><tr>\n",
       "                <td><strong>Stoichiometry</strong></td>\n",
       "                <td>\n",
       "                    <p style='text-align:right'>hdca[e] --> hdca[c]</p>\n",
       "                    <p style='text-align:right'>Hexadecanoate__n_C160_ --> Hexadecanoate__n_C160_</p>\n",
       "                </td>\n",
       "            </tr><tr>\n",
       "                <td><strong>GPR</strong></td><td>YALI0C20265g or YALI0B02544g</td>\n",
       "            </tr><tr>\n",
       "                <td><strong>Lower bound</strong></td><td>0.0</td>\n",
       "            </tr><tr>\n",
       "                <td><strong>Upper bound</strong></td><td>1000.0</td>\n",
       "            </tr>\n",
       "        </table>\n",
       "        "
      ],
      "text/plain": [
       "<Reaction HCAt at 0x13bbb6680>"
      ]
     },
     "metadata": {},
     "output_type": "display_data"
    }
   ],
   "source": [
    "# fix typo in hexadecanoate transport gene_reaction_rule\n",
    "print(model.reactions.HCAt.gene_reaction_rule)\n",
    "\n",
    "# fix typo (YALIB02544g)\n",
    "model.reactions.HCAt.gene_reaction_rule = 'YALI0C20265g or YALI0B02544g'\n",
    "\n",
    "display(model.reactions.HCAt)"
   ]
  },
  {
   "cell_type": "code",
   "execution_count": 7,
   "metadata": {},
   "outputs": [
    {
     "name": "stdout",
     "output_type": "stream",
     "text": [
      "YALI0C20265g or YALIB02544g\n"
     ]
    },
    {
     "data": {
      "text/html": [
       "\n",
       "        <table>\n",
       "            <tr>\n",
       "                <td><strong>Reaction identifier</strong></td><td>dca_t</td>\n",
       "            </tr><tr>\n",
       "                <td><strong>Name</strong></td><td>decanoate transport in via uniport</td>\n",
       "            </tr><tr>\n",
       "                <td><strong>Memory address</strong></td>\n",
       "                <td>0x13bbb6f50</td>\n",
       "            </tr><tr>\n",
       "                <td><strong>Stoichiometry</strong></td>\n",
       "                <td>\n",
       "                    <p style='text-align:right'>dca[e] --> dca[c]</p>\n",
       "                    <p style='text-align:right'>Decanoate__n_C100_ --> Decanoate__n_C100_</p>\n",
       "                </td>\n",
       "            </tr><tr>\n",
       "                <td><strong>GPR</strong></td><td>YALI0C20265g or YALI0B02544g</td>\n",
       "            </tr><tr>\n",
       "                <td><strong>Lower bound</strong></td><td>0.0</td>\n",
       "            </tr><tr>\n",
       "                <td><strong>Upper bound</strong></td><td>1000.0</td>\n",
       "            </tr>\n",
       "        </table>\n",
       "        "
      ],
      "text/plain": [
       "<Reaction dca_t at 0x13bbb6f50>"
      ]
     },
     "metadata": {},
     "output_type": "display_data"
    }
   ],
   "source": [
    "# fix typo in decanoate transport gene_reaction_rule\n",
    "print(model.reactions.dca_t.gene_reaction_rule)\n",
    "\n",
    "# fix typo (YALIB02544g)\n",
    "model.reactions.dca_t.gene_reaction_rule = 'YALI0C20265g or YALI0B02544g'\n",
    "\n",
    "display(model.reactions.dca_t)"
   ]
  },
  {
   "cell_type": "code",
   "execution_count": 8,
   "metadata": {},
   "outputs": [
    {
     "name": "stdout",
     "output_type": "stream",
     "text": [
      "YALI00F26587g\n"
     ]
    },
    {
     "data": {
      "text/html": [
       "\n",
       "        <table>\n",
       "            <tr>\n",
       "                <td><strong>Reaction identifier</strong></td><td>ACACCT</td>\n",
       "            </tr><tr>\n",
       "                <td><strong>Name</strong></td><td>Acetyl-CoA:acetoacetyl-CoA transferase</td>\n",
       "            </tr><tr>\n",
       "                <td><strong>Memory address</strong></td>\n",
       "                <td>0x13bc12500</td>\n",
       "            </tr><tr>\n",
       "                <td><strong>Stoichiometry</strong></td>\n",
       "                <td>\n",
       "                    <p style='text-align:right'>acac[c] + accoa[c] --> aacoa[c] + ac[c]</p>\n",
       "                    <p style='text-align:right'>Acetoacetate + Acetyl_CoA --> Acetoacetyl_CoA + Acetate</p>\n",
       "                </td>\n",
       "            </tr><tr>\n",
       "                <td><strong>GPR</strong></td><td>YALI0F26587g</td>\n",
       "            </tr><tr>\n",
       "                <td><strong>Lower bound</strong></td><td>0.0</td>\n",
       "            </tr><tr>\n",
       "                <td><strong>Upper bound</strong></td><td>1000.0</td>\n",
       "            </tr>\n",
       "        </table>\n",
       "        "
      ],
      "text/plain": [
       "<Reaction ACACCT at 0x13bc12500>"
      ]
     },
     "metadata": {},
     "output_type": "display_data"
    }
   ],
   "source": [
    "# fix typo in Acetyl-CoA:acetoacetyl-CoA transferase gene_reaction_rule\n",
    "print(model.reactions.ACACCT.gene_reaction_rule)\n",
    "\n",
    "# fix typo (YALI00F26587g)\n",
    "model.reactions.ACACCT.gene_reaction_rule = 'YALI0F26587g'\n",
    "\n",
    "display(model.reactions.ACACCT)"
   ]
  },
  {
   "cell_type": "markdown",
   "metadata": {},
   "source": [
    "### Analyze biomass composition"
   ]
  },
  {
   "cell_type": "code",
   "execution_count": 32,
   "metadata": {},
   "outputs": [
    {
     "name": "stdout",
     "output_type": "stream",
     "text": [
      "0.257113988 13BDglcn[c] + 0.09496 ala_L[c] + 0.001432042 amp[c] + 0.018065337 arg_L[c] + 0.026287726 asn_L[c] + 0.026287726 asp_L[c] + 20.31 atp[c] + 0.236682322 chitin[c] + 0.001478116 cmp[c] + 0.000519556 cys_L[c] + 0.016513908 damp[c] + 0.017106666 dcmp[c] + 0.015134716 dgmp[c] + 0.016975477 dtmp[c] + 0.060650767 ergst[c] + 0.032192196 gln_L[c] + 0.032192196 glu_L[c] + 0.082618568 gly[c] + 0.001315238 gmp[c] + 20.31 h2o[c] + 0.007031076 his_L[c] + 0.013733758 ile_L[c] + 0.02888825 leu_L[c] + 0.031527805 lys_L[c] + 0.064278269 mannan[c] + 0.002859543 met_L[c] + 8.468939e-05 pa_SC[c] + 0.00057788053 pc_SC[c] + 0.00057788053 pe_SC[c] + 0.012013414 phe_L[c] + 0.028688078 pro_L[c] + 0.00010959803 ps_SC[c] + 0.00012553956 ptd1ino_SC[c] + 0.046748124 ser_L[c] + 0.02 so4[c] + 0.031790673 thr_L[c] + 0.001869797 tre[c] + 0.00038910587 triglyc_SC[c] + 0.000287711 trp_L[c] + 0.006237863 tyr_L[c] + 0.001533699 ump[c] + 0.025946327 val_L[c] + 0.003484382 zymst[c] --> 20.31 adp[c] + 20.31 h[c] + 20.31 pi[c]\n",
      "20.31 adp[c]\n",
      "20.31 h[c]\n",
      "20.31 pi[c]\n"
     ]
    }
   ],
   "source": [
    "biomass_reaction_string = model.reactions.get_by_id('biomass_N').reaction\n",
    "print(biomass_reaction_string)\n",
    "reactant_string = biomass_reaction_string.split(' --> ')[0]\n",
    "product_string = biomass_reaction_string.split(' --> ')[1]\n",
    "reactant_components = reactant_string.split(' + ')\n",
    "product_components = product_string.split(' + ')\n",
    "\n",
    "# print(reactant_string)\n",
    "\n",
    "component_details = []\n",
    "\n",
    "# loop over reactant and product components similar to for component in join(reactant_components, product_components):\n",
    "\n",
    "for component in reactant_components:\n",
    "    [coefficient, metabolite_id] = component.split(' ')\n",
    "    metabolite = model.metabolites.get_by_id(metabolite_id)\n",
    "    component_details.append({\n",
    "        'metabolite_id': metabolite_id,\n",
    "        'metabolite.name': metabolite.name,\n",
    "        'GSM coefficient': coefficient,\n",
    "    })\n",
    "\n",
    "for component in product_components:\n",
    "    if component == 'biomass[c]':\n",
    "        coefficient = '1'\n",
    "        metabolite_id = 'biomass[c]'\n",
    "    else:\n",
    "        [coefficient, metabolite_id] = component.split(' ')\n",
    "\n",
    "    metabolite = model.metabolites.get_by_id(metabolite_id)\n",
    "    component_details.append({\n",
    "        'metabolite_id': metabolite_id,\n",
    "        'metabolite.name': metabolite.name,\n",
    "        'GSM coefficient': coefficient,\n",
    "    })\n",
    "    print(coefficient, metabolite_id)\n",
    "\n",
    "# make a dataframe\n",
    "biomass_reaction_df = pd.DataFrame(component_details)\n",
    "\n",
    "# save as csv\n",
    "biomass_reaction_df.to_csv('../results/biomass_reaction_components.csv', index=False)"
   ]
  },
  {
   "attachments": {},
   "cell_type": "markdown",
   "metadata": {},
   "source": [
    "### Save the updated model"
   ]
  },
  {
   "cell_type": "code",
   "execution_count": 10,
   "metadata": {},
   "outputs": [
    {
     "data": {
      "text/html": [
       "\n",
       "        <table>\n",
       "            <tr>\n",
       "                <td><strong>Name</strong></td>\n",
       "                <td>model</td>\n",
       "            </tr><tr>\n",
       "                <td><strong>Memory address</strong></td>\n",
       "                <td>10b517940</td>\n",
       "            </tr><tr>\n",
       "                <td><strong>Number of metabolites</strong></td>\n",
       "                <td>1121</td>\n",
       "            </tr><tr>\n",
       "                <td><strong>Number of reactions</strong></td>\n",
       "                <td>1348</td>\n",
       "            </tr><tr>\n",
       "                <td><strong>Number of genes</strong></td>\n",
       "                <td>648</td>\n",
       "            </tr><tr>\n",
       "                <td><strong>Number of groups</strong></td>\n",
       "                <td>0</td>\n",
       "            </tr><tr>\n",
       "                <td><strong>Objective expression</strong></td>\n",
       "                <td>1.0*biomass_C - 1.0*biomass_C_reverse_c1d5c</td>\n",
       "            </tr><tr>\n",
       "                <td><strong>Compartments</strong></td>\n",
       "                <td>c, e, m, n, x, r, g, v</td>\n",
       "            </tr>\n",
       "          </table>"
      ],
      "text/plain": [
       "<Model model at 0x10b517940>"
      ]
     },
     "execution_count": 10,
     "metadata": {},
     "output_type": "execute_result"
    }
   ],
   "source": [
    "# save the updated model\n",
    "cobra.io.save_json_model(model, \"../genome_scale_models/iYLI647_corr_2.json\")\n",
    "model"
   ]
  }
 ],
 "metadata": {
  "kernelspec": {
   "display_name": "venv",
   "language": "python",
   "name": "python3"
  },
  "language_info": {
   "codemirror_mode": {
    "name": "ipython",
    "version": 3
   },
   "file_extension": ".py",
   "mimetype": "text/x-python",
   "name": "python",
   "nbconvert_exporter": "python",
   "pygments_lexer": "ipython3",
   "version": "3.10.2"
  },
  "orig_nbformat": 4
 },
 "nbformat": 4,
 "nbformat_minor": 2
}
