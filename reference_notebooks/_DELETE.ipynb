{
 "cells": [
  {
   "cell_type": "code",
   "execution_count": 1,
   "metadata": {},
   "outputs": [],
   "source": [
    "import pandas as pd\n",
    "import cobra\n",
    "\n",
    "model = cobra.io.json.load_json_model(\"../genome_scale_models/iYLI647_corr.json\")\n",
    "model\n",
    "\n",
    "import straindesign as sd"
   ]
  },
  {
   "cell_type": "code",
   "execution_count": 2,
   "metadata": {},
   "outputs": [
    {
     "name": "stdout",
     "output_type": "stream",
     "text": [
      "Maximum growth: 1.139816617441.\n",
      "Maximum growth: 1.139816617441.\n",
      "The number of active reactions in pFBA1: 309\n"
     ]
    }
   ],
   "source": [
    "# model = cobra.io.load_model('e_coli_core')\n",
    "solution = sd.fba(model, solver='glpk')\n",
    "\n",
    "print(f\"Maximum growth: {solution.objective_value}.\")\n",
    "\n",
    "glucose_fba_solution = sd.fba(model, obj_sense='maximize', pfba=1)\n",
    "\n",
    "print(f\"Maximum growth: {glucose_fba_solution.objective_value}.\")\n",
    "\n",
    "print(f\"The number of active reactions in pFBA1: {sum([v!=0 for v in glucose_fba_solution.fluxes.values()])}\")"
   ]
  },
  {
   "cell_type": "code",
   "execution_count": 3,
   "metadata": {},
   "outputs": [
    {
     "data": {
      "text/html": [
       "\n",
       "        <table>\n",
       "            <tr>\n",
       "                <td><strong>Metabolite identifier</strong></td><td>mnl1p[c]</td>\n",
       "            </tr><tr>\n",
       "                <td><strong>Name</strong></td><td>D_Mannitol_1_phosphate</td>\n",
       "            </tr><tr>\n",
       "                <td><strong>Memory address</strong></td>\n",
       "                <td>0x141ae2380</td>\n",
       "            </tr><tr>\n",
       "                <td><strong>Formula</strong></td><td>C6H13O9P</td>\n",
       "            </tr><tr>\n",
       "                <td><strong>Compartment</strong></td><td>c</td>\n",
       "            </tr><tr>\n",
       "                <td><strong>In 1 reaction(s)</strong></td><td>\n",
       "                    M1PD\n",
       "                    </td>\n",
       "            </tr>\n",
       "        </table>"
      ],
      "text/plain": [
       "<Metabolite mnl1p[c] at 0x141ae2380>"
      ]
     },
     "execution_count": 3,
     "metadata": {},
     "output_type": "execute_result"
    }
   ],
   "source": [
    "model.metabolites.get_by_id('mnl1p[c]')"
   ]
  },
  {
   "cell_type": "code",
   "execution_count": 3,
   "metadata": {},
   "outputs": [
    {
     "data": {
      "text/html": [
       "\n",
       "        <table>\n",
       "            <tr>\n",
       "                <td><strong>Reaction identifier</strong></td><td>M1PD</td>\n",
       "            </tr><tr>\n",
       "                <td><strong>Name</strong></td><td>mannitol 1 phosphate 5 dehydrogenase</td>\n",
       "            </tr><tr>\n",
       "                <td><strong>Memory address</strong></td>\n",
       "                <td>0x1389e3400</td>\n",
       "            </tr><tr>\n",
       "                <td><strong>Stoichiometry</strong></td>\n",
       "                <td>\n",
       "                    <p style='text-align:right'>mnl1p[c] + nad[c] <=> f6p[c] + h[c] + nadh[c]</p>\n",
       "                    <p style='text-align:right'>D_Mannitol_1_phosphate + Nicotinamide_adenine_dinucleotide <=> D_Fructose_6_phosphate + H + Nicotinamide_adenine_dinucleotide___reduced</p>\n",
       "                </td>\n",
       "            </tr><tr>\n",
       "                <td><strong>GPR</strong></td><td></td>\n",
       "            </tr><tr>\n",
       "                <td><strong>Lower bound</strong></td><td>-1000.0</td>\n",
       "            </tr><tr>\n",
       "                <td><strong>Upper bound</strong></td><td>1000.0</td>\n",
       "            </tr>\n",
       "        </table>\n",
       "        "
      ],
      "text/plain": [
       "<Reaction M1PD at 0x1389e3400>"
      ]
     },
     "metadata": {},
     "output_type": "display_data"
    }
   ],
   "source": [
    "for r in model.metabolites.get_by_id('mnl1p[c]').reactions:\n",
    "    display(r)"
   ]
  },
  {
   "cell_type": "code",
   "execution_count": 4,
   "metadata": {},
   "outputs": [
    {
     "name": "stdout",
     "output_type": "stream",
     "text": [
      "M1PD: mnl1p[c] + nad[c] <=> f6p[c] + h[c] + nadh[c]\n",
      "MAN6PI: man6p[c] <=> f6p[c]\n",
      "PFK26: atp[c] + f6p[c] --> adp[c] + f26bp[c] + h[c]\n",
      "GF6PTA: f6p[c] + gln_L[c] --> gam6p[c] + glu_L[c]\n",
      "FBP26: f26bp[c] + h2o[c] --> f6p[c] + pi[c]\n",
      "TKT2: e4p[c] + xu5p_D[c] <=> f6p[c] + g3p[c]\n",
      "PGI: g6p[c] <=> f6p[c]\n",
      "HEX7: atp[c] + fru[c] --> adp[c] + f6p[c] + h[c]\n",
      "FBP: fdp[c] + h2o[c] --> f6p[c] + pi[c]\n",
      "TALA: g3p[c] + s7p[c] <=> e4p[c] + f6p[c]\n",
      "G6PDA: gam6p[c] + h2o[c] --> f6p[c] + nh4[c]\n",
      "PFK: atp[c] + f6p[c] --> adp[c] + fdp[c] + h[c]\n"
     ]
    }
   ],
   "source": [
    "for r in model.metabolites.get_by_id('f6p[c]').reactions:\n",
    "    print(r)"
   ]
  },
  {
   "cell_type": "code",
   "execution_count": 5,
   "metadata": {},
   "outputs": [
    {
     "data": {
      "text/html": [
       "\n",
       "        <table>\n",
       "            <tr>\n",
       "                <td><strong>Metabolite identifier</strong></td><td>f6p[c]</td>\n",
       "            </tr><tr>\n",
       "                <td><strong>Name</strong></td><td>D_Fructose_6_phosphate</td>\n",
       "            </tr><tr>\n",
       "                <td><strong>Memory address</strong></td>\n",
       "                <td>0x136f01750</td>\n",
       "            </tr><tr>\n",
       "                <td><strong>Formula</strong></td><td>C6H11O9P</td>\n",
       "            </tr><tr>\n",
       "                <td><strong>Compartment</strong></td><td>c</td>\n",
       "            </tr><tr>\n",
       "                <td><strong>In 12 reaction(s)</strong></td><td>\n",
       "                    M1PD, MAN6PI, PFK26, GF6PTA, FBP26, TKT2, PGI, HEX7, FBP, TALA, G6PDA, PFK\n",
       "                    </td>\n",
       "            </tr>\n",
       "        </table>"
      ],
      "text/plain": [
       "<Metabolite f6p[c] at 0x136f01750>"
      ]
     },
     "execution_count": 5,
     "metadata": {},
     "output_type": "execute_result"
    }
   ],
   "source": [
    "model.metabolites.get_by_id('f6p[c]')"
   ]
  },
  {
   "cell_type": "code",
   "execution_count": 6,
   "metadata": {},
   "outputs": [
    {
     "name": "stdout",
     "output_type": "stream",
     "text": [
      "D_Fructose\n"
     ]
    },
    {
     "data": {
      "text/html": [
       "\n",
       "        <table>\n",
       "            <tr>\n",
       "                <td><strong>Metabolite identifier</strong></td><td>fru[c]</td>\n",
       "            </tr><tr>\n",
       "                <td><strong>Name</strong></td><td>D_Fructose</td>\n",
       "            </tr><tr>\n",
       "                <td><strong>Memory address</strong></td>\n",
       "                <td>0x136ed0ac0</td>\n",
       "            </tr><tr>\n",
       "                <td><strong>Formula</strong></td><td>C6H12O6</td>\n",
       "            </tr><tr>\n",
       "                <td><strong>Compartment</strong></td><td>c</td>\n",
       "            </tr><tr>\n",
       "                <td><strong>In 3 reaction(s)</strong></td><td>\n",
       "                    FRUt2, SBTD_D2, HEX7\n",
       "                    </td>\n",
       "            </tr>\n",
       "        </table>"
      ],
      "text/plain": [
       "<Metabolite fru[c] at 0x136ed0ac0>"
      ]
     },
     "metadata": {},
     "output_type": "display_data"
    },
    {
     "name": "stdout",
     "output_type": "stream",
     "text": [
      "D_Fructose_6_phosphate\n"
     ]
    },
    {
     "data": {
      "text/html": [
       "\n",
       "        <table>\n",
       "            <tr>\n",
       "                <td><strong>Metabolite identifier</strong></td><td>f6p[c]</td>\n",
       "            </tr><tr>\n",
       "                <td><strong>Name</strong></td><td>D_Fructose_6_phosphate</td>\n",
       "            </tr><tr>\n",
       "                <td><strong>Memory address</strong></td>\n",
       "                <td>0x136f01750</td>\n",
       "            </tr><tr>\n",
       "                <td><strong>Formula</strong></td><td>C6H11O9P</td>\n",
       "            </tr><tr>\n",
       "                <td><strong>Compartment</strong></td><td>c</td>\n",
       "            </tr><tr>\n",
       "                <td><strong>In 12 reaction(s)</strong></td><td>\n",
       "                    M1PD, MAN6PI, PFK26, GF6PTA, FBP26, TKT2, PGI, HEX7, FBP, TALA, G6PDA, PFK\n",
       "                    </td>\n",
       "            </tr>\n",
       "        </table>"
      ],
      "text/plain": [
       "<Metabolite f6p[c] at 0x136f01750>"
      ]
     },
     "metadata": {},
     "output_type": "display_data"
    },
    {
     "name": "stdout",
     "output_type": "stream",
     "text": [
      "D_Fructose_1_6_bisphosphate\n"
     ]
    },
    {
     "data": {
      "text/html": [
       "\n",
       "        <table>\n",
       "            <tr>\n",
       "                <td><strong>Metabolite identifier</strong></td><td>fdp[c]</td>\n",
       "            </tr><tr>\n",
       "                <td><strong>Name</strong></td><td>D_Fructose_1_6_bisphosphate</td>\n",
       "            </tr><tr>\n",
       "                <td><strong>Memory address</strong></td>\n",
       "                <td>0x136f02290</td>\n",
       "            </tr><tr>\n",
       "                <td><strong>Formula</strong></td><td>C6H10O12P2</td>\n",
       "            </tr><tr>\n",
       "                <td><strong>Compartment</strong></td><td>c</td>\n",
       "            </tr><tr>\n",
       "                <td><strong>In 4 reaction(s)</strong></td><td>\n",
       "                    FBP, FRUK, PFK, FBA\n",
       "                    </td>\n",
       "            </tr>\n",
       "        </table>"
      ],
      "text/plain": [
       "<Metabolite fdp[c] at 0x136f02290>"
      ]
     },
     "metadata": {},
     "output_type": "display_data"
    },
    {
     "name": "stdout",
     "output_type": "stream",
     "text": [
      "D_Fructose\n"
     ]
    },
    {
     "data": {
      "text/html": [
       "\n",
       "        <table>\n",
       "            <tr>\n",
       "                <td><strong>Metabolite identifier</strong></td><td>fru[e]</td>\n",
       "            </tr><tr>\n",
       "                <td><strong>Name</strong></td><td>D_Fructose</td>\n",
       "            </tr><tr>\n",
       "                <td><strong>Memory address</strong></td>\n",
       "                <td>0x136f02b00</td>\n",
       "            </tr><tr>\n",
       "                <td><strong>Formula</strong></td><td>C6H12O6</td>\n",
       "            </tr><tr>\n",
       "                <td><strong>Compartment</strong></td><td>e</td>\n",
       "            </tr><tr>\n",
       "                <td><strong>In 2 reaction(s)</strong></td><td>\n",
       "                    FRUt2, EX_fru(e)\n",
       "                    </td>\n",
       "            </tr>\n",
       "        </table>"
      ],
      "text/plain": [
       "<Metabolite fru[e] at 0x136f02b00>"
      ]
     },
     "metadata": {},
     "output_type": "display_data"
    },
    {
     "name": "stdout",
     "output_type": "stream",
     "text": [
      "D_Fructose_1_phosphate\n"
     ]
    },
    {
     "data": {
      "text/html": [
       "\n",
       "        <table>\n",
       "            <tr>\n",
       "                <td><strong>Metabolite identifier</strong></td><td>f1p[c]</td>\n",
       "            </tr><tr>\n",
       "                <td><strong>Name</strong></td><td>D_Fructose_1_phosphate</td>\n",
       "            </tr><tr>\n",
       "                <td><strong>Memory address</strong></td>\n",
       "                <td>0x136f303d0</td>\n",
       "            </tr><tr>\n",
       "                <td><strong>Formula</strong></td><td>C6H11O9P</td>\n",
       "            </tr><tr>\n",
       "                <td><strong>Compartment</strong></td><td>c</td>\n",
       "            </tr><tr>\n",
       "                <td><strong>In 2 reaction(s)</strong></td><td>\n",
       "                    FRUK, FBA2\n",
       "                    </td>\n",
       "            </tr>\n",
       "        </table>"
      ],
      "text/plain": [
       "<Metabolite f1p[c] at 0x136f303d0>"
      ]
     },
     "metadata": {},
     "output_type": "display_data"
    },
    {
     "name": "stdout",
     "output_type": "stream",
     "text": [
      "D_Fructose_2_6_bisphosphate\n"
     ]
    },
    {
     "data": {
      "text/html": [
       "\n",
       "        <table>\n",
       "            <tr>\n",
       "                <td><strong>Metabolite identifier</strong></td><td>f26bp[c]</td>\n",
       "            </tr><tr>\n",
       "                <td><strong>Name</strong></td><td>D_Fructose_2_6_bisphosphate</td>\n",
       "            </tr><tr>\n",
       "                <td><strong>Memory address</strong></td>\n",
       "                <td>0x136f30430</td>\n",
       "            </tr><tr>\n",
       "                <td><strong>Formula</strong></td><td>C6H10O12P2</td>\n",
       "            </tr><tr>\n",
       "                <td><strong>Compartment</strong></td><td>c</td>\n",
       "            </tr><tr>\n",
       "                <td><strong>In 2 reaction(s)</strong></td><td>\n",
       "                    PFK26, FBP26\n",
       "                    </td>\n",
       "            </tr>\n",
       "        </table>"
      ],
      "text/plain": [
       "<Metabolite f26bp[c] at 0x136f30430>"
      ]
     },
     "metadata": {},
     "output_type": "display_data"
    },
    {
     "name": "stdout",
     "output_type": "stream",
     "text": [
      "beta_D_Fructose_6_phosphate\n"
     ]
    },
    {
     "data": {
      "text/html": [
       "\n",
       "        <table>\n",
       "            <tr>\n",
       "                <td><strong>Metabolite identifier</strong></td><td>f6p_B[c]</td>\n",
       "            </tr><tr>\n",
       "                <td><strong>Name</strong></td><td>beta_D_Fructose_6_phosphate</td>\n",
       "            </tr><tr>\n",
       "                <td><strong>Memory address</strong></td>\n",
       "                <td>0x136f30940</td>\n",
       "            </tr><tr>\n",
       "                <td><strong>Formula</strong></td><td>C6H11O9P</td>\n",
       "            </tr><tr>\n",
       "                <td><strong>Compartment</strong></td><td>c</td>\n",
       "            </tr><tr>\n",
       "                <td><strong>In 1 reaction(s)</strong></td><td>\n",
       "                    G6PI2\n",
       "                    </td>\n",
       "            </tr>\n",
       "        </table>"
      ],
      "text/plain": [
       "<Metabolite f6p_B[c] at 0x136f30940>"
      ]
     },
     "metadata": {},
     "output_type": "display_data"
    }
   ],
   "source": [
    "for m in model.metabolites:\n",
    "    if 'fru' in m.name.lower():\n",
    "        print(m.name)\n",
    "        display(m)"
   ]
  },
  {
   "cell_type": "code",
   "execution_count": 7,
   "metadata": {},
   "outputs": [
    {
     "data": {
      "text/html": [
       "\n",
       "        <table>\n",
       "            <tr>\n",
       "                <td><strong>Reaction identifier</strong></td><td>FRUt2</td>\n",
       "            </tr><tr>\n",
       "                <td><strong>Name</strong></td><td>D fructose transport in via proton symport</td>\n",
       "            </tr><tr>\n",
       "                <td><strong>Memory address</strong></td>\n",
       "                <td>0x1388a9ea0</td>\n",
       "            </tr><tr>\n",
       "                <td><strong>Stoichiometry</strong></td>\n",
       "                <td>\n",
       "                    <p style='text-align:right'>fru[e] + h[e] --> fru[c] + h[c]</p>\n",
       "                    <p style='text-align:right'>D_Fructose + H --> D_Fructose + H</p>\n",
       "                </td>\n",
       "            </tr><tr>\n",
       "                <td><strong>GPR</strong></td><td>YALI0D00132g or YALI0D01111g or YALI0D18876g or YALI0B01342g or YALI0E23287g or YALI0B00396g or...</td>\n",
       "            </tr><tr>\n",
       "                <td><strong>Lower bound</strong></td><td>0.0</td>\n",
       "            </tr><tr>\n",
       "                <td><strong>Upper bound</strong></td><td>1000.0</td>\n",
       "            </tr>\n",
       "        </table>\n",
       "        "
      ],
      "text/plain": [
       "<Reaction FRUt2 at 0x1388a9ea0>"
      ]
     },
     "metadata": {},
     "output_type": "display_data"
    },
    {
     "data": {
      "text/html": [
       "\n",
       "        <table>\n",
       "            <tr>\n",
       "                <td><strong>Reaction identifier</strong></td><td>SBTD_D2</td>\n",
       "            </tr><tr>\n",
       "                <td><strong>Name</strong></td><td>D sorbitol dehydrogenase D fructose producing</td>\n",
       "            </tr><tr>\n",
       "                <td><strong>Memory address</strong></td>\n",
       "                <td>0x137019540</td>\n",
       "            </tr><tr>\n",
       "                <td><strong>Stoichiometry</strong></td>\n",
       "                <td>\n",
       "                    <p style='text-align:right'>nad[c] + sbt_D[c] --> fru[c] + h[c] + nadh[c]</p>\n",
       "                    <p style='text-align:right'>Nicotinamide_adenine_dinucleotide + D_Sorbitol --> D_Fructose + H + Nicotinamide_adenine_dinucleotide___reduced</p>\n",
       "                </td>\n",
       "            </tr><tr>\n",
       "                <td><strong>GPR</strong></td><td>YALI0E12463g</td>\n",
       "            </tr><tr>\n",
       "                <td><strong>Lower bound</strong></td><td>0.0</td>\n",
       "            </tr><tr>\n",
       "                <td><strong>Upper bound</strong></td><td>1000.0</td>\n",
       "            </tr>\n",
       "        </table>\n",
       "        "
      ],
      "text/plain": [
       "<Reaction SBTD_D2 at 0x137019540>"
      ]
     },
     "metadata": {},
     "output_type": "display_data"
    },
    {
     "data": {
      "text/html": [
       "\n",
       "        <table>\n",
       "            <tr>\n",
       "                <td><strong>Reaction identifier</strong></td><td>HEX7</td>\n",
       "            </tr><tr>\n",
       "                <td><strong>Name</strong></td><td>hexokinase D fructoseATP</td>\n",
       "            </tr><tr>\n",
       "                <td><strong>Memory address</strong></td>\n",
       "                <td>0x13879e140</td>\n",
       "            </tr><tr>\n",
       "                <td><strong>Stoichiometry</strong></td>\n",
       "                <td>\n",
       "                    <p style='text-align:right'>atp[c] + fru[c] --> adp[c] + f6p[c] + h[c]</p>\n",
       "                    <p style='text-align:right'>ATP + D_Fructose --> ADP + D_Fructose_6_phosphate + H</p>\n",
       "                </td>\n",
       "            </tr><tr>\n",
       "                <td><strong>GPR</strong></td><td>YALI0B22308g</td>\n",
       "            </tr><tr>\n",
       "                <td><strong>Lower bound</strong></td><td>0.0</td>\n",
       "            </tr><tr>\n",
       "                <td><strong>Upper bound</strong></td><td>1000.0</td>\n",
       "            </tr>\n",
       "        </table>\n",
       "        "
      ],
      "text/plain": [
       "<Reaction HEX7 at 0x13879e140>"
      ]
     },
     "metadata": {},
     "output_type": "display_data"
    }
   ],
   "source": [
    "for r in model.metabolites.get_by_id('fru[c]').reactions:\n",
    "    display(r)"
   ]
  },
  {
   "cell_type": "code",
   "execution_count": 8,
   "metadata": {},
   "outputs": [
    {
     "name": "stdout",
     "output_type": "stream",
     "text": [
      "Mannan\n"
     ]
    },
    {
     "data": {
      "text/html": [
       "\n",
       "        <table>\n",
       "            <tr>\n",
       "                <td><strong>Metabolite identifier</strong></td><td>mannan[c]</td>\n",
       "            </tr><tr>\n",
       "                <td><strong>Name</strong></td><td>Mannan</td>\n",
       "            </tr><tr>\n",
       "                <td><strong>Memory address</strong></td>\n",
       "                <td>0x136ed38b0</td>\n",
       "            </tr><tr>\n",
       "                <td><strong>Formula</strong></td><td>C6H10O5</td>\n",
       "            </tr><tr>\n",
       "                <td><strong>Compartment</strong></td><td>c</td>\n",
       "            </tr><tr>\n",
       "                <td><strong>In 3 reaction(s)</strong></td><td>\n",
       "                    biomass_N, MANNANter, biomass_C\n",
       "                    </td>\n",
       "            </tr>\n",
       "        </table>"
      ],
      "text/plain": [
       "<Metabolite mannan[c] at 0x136ed38b0>"
      ]
     },
     "metadata": {},
     "output_type": "display_data"
    },
    {
     "name": "stdout",
     "output_type": "stream",
     "text": [
      "D_Mannose_1_phosphate\n"
     ]
    },
    {
     "data": {
      "text/html": [
       "\n",
       "        <table>\n",
       "            <tr>\n",
       "                <td><strong>Metabolite identifier</strong></td><td>man1p[c]</td>\n",
       "            </tr><tr>\n",
       "                <td><strong>Name</strong></td><td>D_Mannose_1_phosphate</td>\n",
       "            </tr><tr>\n",
       "                <td><strong>Memory address</strong></td>\n",
       "                <td>0x136f01360</td>\n",
       "            </tr><tr>\n",
       "                <td><strong>Formula</strong></td><td>C6H11O9P</td>\n",
       "            </tr><tr>\n",
       "                <td><strong>Compartment</strong></td><td>c</td>\n",
       "            </tr><tr>\n",
       "                <td><strong>In 2 reaction(s)</strong></td><td>\n",
       "                    PMANM, MAN1PT\n",
       "                    </td>\n",
       "            </tr>\n",
       "        </table>"
      ],
      "text/plain": [
       "<Metabolite man1p[c] at 0x136f01360>"
      ]
     },
     "metadata": {},
     "output_type": "display_data"
    },
    {
     "name": "stdout",
     "output_type": "stream",
     "text": [
      "GDP_D_mannose\n"
     ]
    },
    {
     "data": {
      "text/html": [
       "\n",
       "        <table>\n",
       "            <tr>\n",
       "                <td><strong>Metabolite identifier</strong></td><td>gdpmann[c]</td>\n",
       "            </tr><tr>\n",
       "                <td><strong>Name</strong></td><td>GDP_D_mannose</td>\n",
       "            </tr><tr>\n",
       "                <td><strong>Memory address</strong></td>\n",
       "                <td>0x136f01390</td>\n",
       "            </tr><tr>\n",
       "                <td><strong>Formula</strong></td><td>C16H23N5O16P2</td>\n",
       "            </tr><tr>\n",
       "                <td><strong>Compartment</strong></td><td>c</td>\n",
       "            </tr><tr>\n",
       "                <td><strong>In 2 reaction(s)</strong></td><td>\n",
       "                    MAN1PT, DOLPMTcer\n",
       "                    </td>\n",
       "            </tr>\n",
       "        </table>"
      ],
      "text/plain": [
       "<Metabolite gdpmann[c] at 0x136f01390>"
      ]
     },
     "metadata": {},
     "output_type": "display_data"
    },
    {
     "name": "stdout",
     "output_type": "stream",
     "text": [
      "D_Mannose_6_phosphate\n"
     ]
    },
    {
     "data": {
      "text/html": [
       "\n",
       "        <table>\n",
       "            <tr>\n",
       "                <td><strong>Metabolite identifier</strong></td><td>man6p[c]</td>\n",
       "            </tr><tr>\n",
       "                <td><strong>Name</strong></td><td>D_Mannose_6_phosphate</td>\n",
       "            </tr><tr>\n",
       "                <td><strong>Memory address</strong></td>\n",
       "                <td>0x136f01720</td>\n",
       "            </tr><tr>\n",
       "                <td><strong>Formula</strong></td><td>C6H11O9P</td>\n",
       "            </tr><tr>\n",
       "                <td><strong>Compartment</strong></td><td>c</td>\n",
       "            </tr><tr>\n",
       "                <td><strong>In 3 reaction(s)</strong></td><td>\n",
       "                    PMANM, HEX4, MAN6PI\n",
       "                    </td>\n",
       "            </tr>\n",
       "        </table>"
      ],
      "text/plain": [
       "<Metabolite man6p[c] at 0x136f01720>"
      ]
     },
     "metadata": {},
     "output_type": "display_data"
    },
    {
     "name": "stdout",
     "output_type": "stream",
     "text": [
      "D_Mannose\n"
     ]
    },
    {
     "data": {
      "text/html": [
       "\n",
       "        <table>\n",
       "            <tr>\n",
       "                <td><strong>Metabolite identifier</strong></td><td>man[c]</td>\n",
       "            </tr><tr>\n",
       "                <td><strong>Name</strong></td><td>D_Mannose</td>\n",
       "            </tr><tr>\n",
       "                <td><strong>Memory address</strong></td>\n",
       "                <td>0x136f02950</td>\n",
       "            </tr><tr>\n",
       "                <td><strong>Formula</strong></td><td>C6H12O6</td>\n",
       "            </tr><tr>\n",
       "                <td><strong>Compartment</strong></td><td>c</td>\n",
       "            </tr><tr>\n",
       "                <td><strong>In 3 reaction(s)</strong></td><td>\n",
       "                    MANt2, EPMGH, HEX4\n",
       "                    </td>\n",
       "            </tr>\n",
       "        </table>"
      ],
      "text/plain": [
       "<Metabolite man[c] at 0x136f02950>"
      ]
     },
     "metadata": {},
     "output_type": "display_data"
    },
    {
     "name": "stdout",
     "output_type": "stream",
     "text": [
      "D_Mannose\n"
     ]
    },
    {
     "data": {
      "text/html": [
       "\n",
       "        <table>\n",
       "            <tr>\n",
       "                <td><strong>Metabolite identifier</strong></td><td>man[e]</td>\n",
       "            </tr><tr>\n",
       "                <td><strong>Name</strong></td><td>D_Mannose</td>\n",
       "            </tr><tr>\n",
       "                <td><strong>Memory address</strong></td>\n",
       "                <td>0x136f02fb0</td>\n",
       "            </tr><tr>\n",
       "                <td><strong>Formula</strong></td><td>C6H12O6</td>\n",
       "            </tr><tr>\n",
       "                <td><strong>Compartment</strong></td><td>e</td>\n",
       "            </tr><tr>\n",
       "                <td><strong>In 2 reaction(s)</strong></td><td>\n",
       "                    EX_man(e), MANt2\n",
       "                    </td>\n",
       "            </tr>\n",
       "        </table>"
      ],
      "text/plain": [
       "<Metabolite man[e] at 0x136f02fb0>"
      ]
     },
     "metadata": {},
     "output_type": "display_data"
    },
    {
     "name": "stdout",
     "output_type": "stream",
     "text": [
      "Dolichyl_phosphate_D_mannose\n"
     ]
    },
    {
     "data": {
      "text/html": [
       "\n",
       "        <table>\n",
       "            <tr>\n",
       "                <td><strong>Metabolite identifier</strong></td><td>dolmanp[r]</td>\n",
       "            </tr><tr>\n",
       "                <td><strong>Name</strong></td><td>Dolichyl_phosphate_D_mannose</td>\n",
       "            </tr><tr>\n",
       "                <td><strong>Memory address</strong></td>\n",
       "                <td>0x136f30310</td>\n",
       "            </tr><tr>\n",
       "                <td><strong>Formula</strong></td><td>C21H38O9P</td>\n",
       "            </tr><tr>\n",
       "                <td><strong>Compartment</strong></td><td>r</td>\n",
       "            </tr><tr>\n",
       "                <td><strong>In 2 reaction(s)</strong></td><td>\n",
       "                    DOLPMMer, DOLPMTcer\n",
       "                    </td>\n",
       "            </tr>\n",
       "        </table>"
      ],
      "text/plain": [
       "<Metabolite dolmanp[r] at 0x136f30310>"
      ]
     },
     "metadata": {},
     "output_type": "display_data"
    },
    {
     "name": "stdout",
     "output_type": "stream",
     "text": [
      "Mannan\n"
     ]
    },
    {
     "data": {
      "text/html": [
       "\n",
       "        <table>\n",
       "            <tr>\n",
       "                <td><strong>Metabolite identifier</strong></td><td>mannan[r]</td>\n",
       "            </tr><tr>\n",
       "                <td><strong>Name</strong></td><td>Mannan</td>\n",
       "            </tr><tr>\n",
       "                <td><strong>Memory address</strong></td>\n",
       "                <td>0x136f303a0</td>\n",
       "            </tr><tr>\n",
       "                <td><strong>Formula</strong></td><td>C6H10O5</td>\n",
       "            </tr><tr>\n",
       "                <td><strong>Compartment</strong></td><td>r</td>\n",
       "            </tr><tr>\n",
       "                <td><strong>In 2 reaction(s)</strong></td><td>\n",
       "                    DOLPMMer, MANNANter\n",
       "                    </td>\n",
       "            </tr>\n",
       "        </table>"
      ],
      "text/plain": [
       "<Metabolite mannan[r] at 0x136f303a0>"
      ]
     },
     "metadata": {},
     "output_type": "display_data"
    },
    {
     "name": "stdout",
     "output_type": "stream",
     "text": [
      "GDP_D_mannose\n"
     ]
    },
    {
     "data": {
      "text/html": [
       "\n",
       "        <table>\n",
       "            <tr>\n",
       "                <td><strong>Metabolite identifier</strong></td><td>gdpmann[g]</td>\n",
       "            </tr><tr>\n",
       "                <td><strong>Name</strong></td><td>GDP_D_mannose</td>\n",
       "            </tr><tr>\n",
       "                <td><strong>Memory address</strong></td>\n",
       "                <td>0x136f30790</td>\n",
       "            </tr><tr>\n",
       "                <td><strong>Formula</strong></td><td>C16H23N5O16P2</td>\n",
       "            </tr><tr>\n",
       "                <td><strong>Compartment</strong></td><td>g</td>\n",
       "            </tr><tr>\n",
       "                <td><strong>In 4 reaction(s)</strong></td><td>\n",
       "                    G12MT2g, G13MTg, G16MTg, G12MT1g\n",
       "                    </td>\n",
       "            </tr>\n",
       "        </table>"
      ],
      "text/plain": [
       "<Metabolite gdpmann[g] at 0x136f30790>"
      ]
     },
     "metadata": {},
     "output_type": "display_data"
    },
    {
     "name": "stdout",
     "output_type": "stream",
     "text": [
      "alpha_D_mannosyl_2_beta_D_mannosyl_diacetylchitobiosyldiphosphodolichol\n"
     ]
    },
    {
     "data": {
      "text/html": [
       "\n",
       "        <table>\n",
       "            <tr>\n",
       "                <td><strong>Metabolite identifier</strong></td><td>m2macchitppdol[g]</td>\n",
       "            </tr><tr>\n",
       "                <td><strong>Name</strong></td><td>...</td>\n",
       "            </tr><tr>\n",
       "                <td><strong>Memory address</strong></td>\n",
       "                <td>0x136f307c0</td>\n",
       "            </tr><tr>\n",
       "                <td><strong>Formula</strong></td><td>C49H84N2O32P2</td>\n",
       "            </tr><tr>\n",
       "                <td><strong>Compartment</strong></td><td>g</td>\n",
       "            </tr><tr>\n",
       "                <td><strong>In 2 reaction(s)</strong></td><td>\n",
       "                    G16MTg, G12MT1g\n",
       "                    </td>\n",
       "            </tr>\n",
       "        </table>"
      ],
      "text/plain": [
       "<Metabolite m2macchitppdol[g] at 0x136f307c0>"
      ]
     },
     "metadata": {},
     "output_type": "display_data"
    },
    {
     "name": "stdout",
     "output_type": "stream",
     "text": [
      "alpha_D_mannosyl_3_beta_D_mannosyl_diacetylchitodiphosphodolichol\n"
     ]
    },
    {
     "data": {
      "text/html": [
       "\n",
       "        <table>\n",
       "            <tr>\n",
       "                <td><strong>Metabolite identifier</strong></td><td>m3macchitppdol[g]</td>\n",
       "            </tr><tr>\n",
       "                <td><strong>Name</strong></td><td>...</td>\n",
       "            </tr><tr>\n",
       "                <td><strong>Memory address</strong></td>\n",
       "                <td>0x136f30820</td>\n",
       "            </tr><tr>\n",
       "                <td><strong>Formula</strong></td><td>C55H94N2O37P2</td>\n",
       "            </tr><tr>\n",
       "                <td><strong>Compartment</strong></td><td>g</td>\n",
       "            </tr><tr>\n",
       "                <td><strong>In 2 reaction(s)</strong></td><td>\n",
       "                    G12MT2g, G12MT1g\n",
       "                    </td>\n",
       "            </tr>\n",
       "        </table>"
      ],
      "text/plain": [
       "<Metabolite m3macchitppdol[g] at 0x136f30820>"
      ]
     },
     "metadata": {},
     "output_type": "display_data"
    },
    {
     "name": "stdout",
     "output_type": "stream",
     "text": [
      "alpha_D_Mannosyl_4_beta_D_mannosyl_diacetylchitobiosyldiphosphodolichol\n"
     ]
    },
    {
     "data": {
      "text/html": [
       "\n",
       "        <table>\n",
       "            <tr>\n",
       "                <td><strong>Metabolite identifier</strong></td><td>m4macchitppdol[g]</td>\n",
       "            </tr><tr>\n",
       "                <td><strong>Name</strong></td><td>...</td>\n",
       "            </tr><tr>\n",
       "                <td><strong>Memory address</strong></td>\n",
       "                <td>0x136f30850</td>\n",
       "            </tr><tr>\n",
       "                <td><strong>Formula</strong></td><td>C61H104N2O42P2</td>\n",
       "            </tr><tr>\n",
       "                <td><strong>Compartment</strong></td><td>g</td>\n",
       "            </tr><tr>\n",
       "                <td><strong>In 1 reaction(s)</strong></td><td>\n",
       "                    G12MT2g\n",
       "                    </td>\n",
       "            </tr>\n",
       "        </table>"
      ],
      "text/plain": [
       "<Metabolite m4macchitppdol[g] at 0x136f30850>"
      ]
     },
     "metadata": {},
     "output_type": "display_data"
    },
    {
     "name": "stdout",
     "output_type": "stream",
     "text": [
      "beta_D_Mannosyldiacetylchitobiosyldiphosphodolichol\n"
     ]
    },
    {
     "data": {
      "text/html": [
       "\n",
       "        <table>\n",
       "            <tr>\n",
       "                <td><strong>Metabolite identifier</strong></td><td>macchitppdol[g]</td>\n",
       "            </tr><tr>\n",
       "                <td><strong>Name</strong></td><td>...</td>\n",
       "            </tr><tr>\n",
       "                <td><strong>Memory address</strong></td>\n",
       "                <td>0x136f30880</td>\n",
       "            </tr><tr>\n",
       "                <td><strong>Formula</strong></td><td>C37H64N2O22P2</td>\n",
       "            </tr><tr>\n",
       "                <td><strong>Compartment</strong></td><td>g</td>\n",
       "            </tr><tr>\n",
       "                <td><strong>In 1 reaction(s)</strong></td><td>\n",
       "                    G13MTg\n",
       "                    </td>\n",
       "            </tr>\n",
       "        </table>"
      ],
      "text/plain": [
       "<Metabolite macchitppdol[g] at 0x136f30880>"
      ]
     },
     "metadata": {},
     "output_type": "display_data"
    },
    {
     "name": "stdout",
     "output_type": "stream",
     "text": [
      "alpha_D_mannosyl_beta_D_mannosyl_diacylchitobiosyldiphosphodolichol\n"
     ]
    },
    {
     "data": {
      "text/html": [
       "\n",
       "        <table>\n",
       "            <tr>\n",
       "                <td><strong>Metabolite identifier</strong></td><td>m1macchitppdol[g]</td>\n",
       "            </tr><tr>\n",
       "                <td><strong>Name</strong></td><td>...</td>\n",
       "            </tr><tr>\n",
       "                <td><strong>Memory address</strong></td>\n",
       "                <td>0x136f308b0</td>\n",
       "            </tr><tr>\n",
       "                <td><strong>Formula</strong></td><td>C43H74N2O27P2</td>\n",
       "            </tr><tr>\n",
       "                <td><strong>Compartment</strong></td><td>g</td>\n",
       "            </tr><tr>\n",
       "                <td><strong>In 2 reaction(s)</strong></td><td>\n",
       "                    G13MTg, G16MTg\n",
       "                    </td>\n",
       "            </tr>\n",
       "        </table>"
      ],
      "text/plain": [
       "<Metabolite m1macchitppdol[g] at 0x136f308b0>"
      ]
     },
     "metadata": {},
     "output_type": "display_data"
    },
    {
     "name": "stdout",
     "output_type": "stream",
     "text": [
      "D_Mannitol_1_phosphate\n"
     ]
    },
    {
     "data": {
      "text/html": [
       "\n",
       "        <table>\n",
       "            <tr>\n",
       "                <td><strong>Metabolite identifier</strong></td><td>mnl1p[c]</td>\n",
       "            </tr><tr>\n",
       "                <td><strong>Name</strong></td><td>D_Mannitol_1_phosphate</td>\n",
       "            </tr><tr>\n",
       "                <td><strong>Memory address</strong></td>\n",
       "                <td>0x136f320b0</td>\n",
       "            </tr><tr>\n",
       "                <td><strong>Formula</strong></td><td>C6H13O9P</td>\n",
       "            </tr><tr>\n",
       "                <td><strong>Compartment</strong></td><td>c</td>\n",
       "            </tr><tr>\n",
       "                <td><strong>In 1 reaction(s)</strong></td><td>\n",
       "                    M1PD\n",
       "                    </td>\n",
       "            </tr>\n",
       "        </table>"
      ],
      "text/plain": [
       "<Metabolite mnl1p[c] at 0x136f320b0>"
      ]
     },
     "metadata": {},
     "output_type": "display_data"
    },
    {
     "name": "stdout",
     "output_type": "stream",
     "text": [
      "mannose_inositol_phosphorylceramide__ceramide_1__24C___yeast_specific\n"
     ]
    },
    {
     "data": {
      "text/html": [
       "\n",
       "        <table>\n",
       "            <tr>\n",
       "                <td><strong>Metabolite identifier</strong></td><td>mipc124_SC[c]</td>\n",
       "            </tr><tr>\n",
       "                <td><strong>Name</strong></td><td>...</td>\n",
       "            </tr><tr>\n",
       "                <td><strong>Memory address</strong></td>\n",
       "                <td>0x136f32440</td>\n",
       "            </tr><tr>\n",
       "                <td><strong>Formula</strong></td><td>C5400H10500N100O1600P100</td>\n",
       "            </tr><tr>\n",
       "                <td><strong>Compartment</strong></td><td>c</td>\n",
       "            </tr><tr>\n",
       "                <td><strong>In 1 reaction(s)</strong></td><td>\n",
       "                    MIP2CS124_SC\n",
       "                    </td>\n",
       "            </tr>\n",
       "        </table>"
      ],
      "text/plain": [
       "<Metabolite mipc124_SC[c] at 0x136f32440>"
      ]
     },
     "metadata": {},
     "output_type": "display_data"
    },
    {
     "name": "stdout",
     "output_type": "stream",
     "text": [
      "mannose__inositol_P_2_ceramide__ceramide_1__24C___yeast_specific\n"
     ]
    },
    {
     "data": {
      "text/html": [
       "\n",
       "        <table>\n",
       "            <tr>\n",
       "                <td><strong>Metabolite identifier</strong></td><td>mip2c124_SC[c]</td>\n",
       "            </tr><tr>\n",
       "                <td><strong>Name</strong></td><td>...</td>\n",
       "            </tr><tr>\n",
       "                <td><strong>Memory address</strong></td>\n",
       "                <td>0x136f32470</td>\n",
       "            </tr><tr>\n",
       "                <td><strong>Formula</strong></td><td>C6000H11500N100O2400P200</td>\n",
       "            </tr><tr>\n",
       "                <td><strong>Compartment</strong></td><td>c</td>\n",
       "            </tr><tr>\n",
       "                <td><strong>In 1 reaction(s)</strong></td><td>\n",
       "                    MIP2CS124_SC\n",
       "                    </td>\n",
       "            </tr>\n",
       "        </table>"
      ],
      "text/plain": [
       "<Metabolite mip2c124_SC[c] at 0x136f32470>"
      ]
     },
     "metadata": {},
     "output_type": "display_data"
    },
    {
     "name": "stdout",
     "output_type": "stream",
     "text": [
      "mannose_inositol_phosphorylceramide__ceramide_1__26C___yeast_specific\n"
     ]
    },
    {
     "data": {
      "text/html": [
       "\n",
       "        <table>\n",
       "            <tr>\n",
       "                <td><strong>Metabolite identifier</strong></td><td>mipc126_SC[c]</td>\n",
       "            </tr><tr>\n",
       "                <td><strong>Name</strong></td><td>...</td>\n",
       "            </tr><tr>\n",
       "                <td><strong>Memory address</strong></td>\n",
       "                <td>0x136f324a0</td>\n",
       "            </tr><tr>\n",
       "                <td><strong>Formula</strong></td><td>C5600H10900N100O1600P100</td>\n",
       "            </tr><tr>\n",
       "                <td><strong>Compartment</strong></td><td>c</td>\n",
       "            </tr><tr>\n",
       "                <td><strong>In 1 reaction(s)</strong></td><td>\n",
       "                    MIP2CS126_SC\n",
       "                    </td>\n",
       "            </tr>\n",
       "        </table>"
      ],
      "text/plain": [
       "<Metabolite mipc126_SC[c] at 0x136f324a0>"
      ]
     },
     "metadata": {},
     "output_type": "display_data"
    },
    {
     "name": "stdout",
     "output_type": "stream",
     "text": [
      "mannose__inositol_P_2_ceramide__ceramide_1__26C___yeast_specific\n"
     ]
    },
    {
     "data": {
      "text/html": [
       "\n",
       "        <table>\n",
       "            <tr>\n",
       "                <td><strong>Metabolite identifier</strong></td><td>mip2c126_SC[c]</td>\n",
       "            </tr><tr>\n",
       "                <td><strong>Name</strong></td><td>...</td>\n",
       "            </tr><tr>\n",
       "                <td><strong>Memory address</strong></td>\n",
       "                <td>0x136f324d0</td>\n",
       "            </tr><tr>\n",
       "                <td><strong>Formula</strong></td><td>C6200H11900N100O2400P200</td>\n",
       "            </tr><tr>\n",
       "                <td><strong>Compartment</strong></td><td>c</td>\n",
       "            </tr><tr>\n",
       "                <td><strong>In 1 reaction(s)</strong></td><td>\n",
       "                    MIP2CS126_SC\n",
       "                    </td>\n",
       "            </tr>\n",
       "        </table>"
      ],
      "text/plain": [
       "<Metabolite mip2c126_SC[c] at 0x136f324d0>"
      ]
     },
     "metadata": {},
     "output_type": "display_data"
    },
    {
     "name": "stdout",
     "output_type": "stream",
     "text": [
      "mannose_inositol_phosphorylceramide__ceramide_2__26C___yeast_specific\n"
     ]
    },
    {
     "data": {
      "text/html": [
       "\n",
       "        <table>\n",
       "            <tr>\n",
       "                <td><strong>Metabolite identifier</strong></td><td>mipc226_SC[c]</td>\n",
       "            </tr><tr>\n",
       "                <td><strong>Name</strong></td><td>...</td>\n",
       "            </tr><tr>\n",
       "                <td><strong>Memory address</strong></td>\n",
       "                <td>0x136f32500</td>\n",
       "            </tr><tr>\n",
       "                <td><strong>Formula</strong></td><td>C5600H10900N100O1700P100</td>\n",
       "            </tr><tr>\n",
       "                <td><strong>Compartment</strong></td><td>c</td>\n",
       "            </tr><tr>\n",
       "                <td><strong>In 1 reaction(s)</strong></td><td>\n",
       "                    MIP2CS226_SC\n",
       "                    </td>\n",
       "            </tr>\n",
       "        </table>"
      ],
      "text/plain": [
       "<Metabolite mipc226_SC[c] at 0x136f32500>"
      ]
     },
     "metadata": {},
     "output_type": "display_data"
    },
    {
     "name": "stdout",
     "output_type": "stream",
     "text": [
      "mannose__inositol_P_2_ceramide__ceramide_2__26C___yeast_specific\n"
     ]
    },
    {
     "data": {
      "text/html": [
       "\n",
       "        <table>\n",
       "            <tr>\n",
       "                <td><strong>Metabolite identifier</strong></td><td>mip2c226_SC[c]</td>\n",
       "            </tr><tr>\n",
       "                <td><strong>Name</strong></td><td>...</td>\n",
       "            </tr><tr>\n",
       "                <td><strong>Memory address</strong></td>\n",
       "                <td>0x136f32530</td>\n",
       "            </tr><tr>\n",
       "                <td><strong>Formula</strong></td><td>C6200H11900N100O2500P200</td>\n",
       "            </tr><tr>\n",
       "                <td><strong>Compartment</strong></td><td>c</td>\n",
       "            </tr><tr>\n",
       "                <td><strong>In 1 reaction(s)</strong></td><td>\n",
       "                    MIP2CS226_SC\n",
       "                    </td>\n",
       "            </tr>\n",
       "        </table>"
      ],
      "text/plain": [
       "<Metabolite mip2c226_SC[c] at 0x136f32530>"
      ]
     },
     "metadata": {},
     "output_type": "display_data"
    },
    {
     "name": "stdout",
     "output_type": "stream",
     "text": [
      "mannose_inositol_phosphorylceramide__ceramide_3__24C___yeast_specific\n"
     ]
    },
    {
     "data": {
      "text/html": [
       "\n",
       "        <table>\n",
       "            <tr>\n",
       "                <td><strong>Metabolite identifier</strong></td><td>mipc324_SC[c]</td>\n",
       "            </tr><tr>\n",
       "                <td><strong>Name</strong></td><td>...</td>\n",
       "            </tr><tr>\n",
       "                <td><strong>Memory address</strong></td>\n",
       "                <td>0x136f32560</td>\n",
       "            </tr><tr>\n",
       "                <td><strong>Formula</strong></td><td>C5400H10500N100O1800P100</td>\n",
       "            </tr><tr>\n",
       "                <td><strong>Compartment</strong></td><td>c</td>\n",
       "            </tr><tr>\n",
       "                <td><strong>In 1 reaction(s)</strong></td><td>\n",
       "                    MIP2CS324_SC\n",
       "                    </td>\n",
       "            </tr>\n",
       "        </table>"
      ],
      "text/plain": [
       "<Metabolite mipc324_SC[c] at 0x136f32560>"
      ]
     },
     "metadata": {},
     "output_type": "display_data"
    },
    {
     "name": "stdout",
     "output_type": "stream",
     "text": [
      "mannose__inositol_P_2_ceramide__ceramide_3__24C___yeast_specific\n"
     ]
    },
    {
     "data": {
      "text/html": [
       "\n",
       "        <table>\n",
       "            <tr>\n",
       "                <td><strong>Metabolite identifier</strong></td><td>mip2c324_SC[c]</td>\n",
       "            </tr><tr>\n",
       "                <td><strong>Name</strong></td><td>...</td>\n",
       "            </tr><tr>\n",
       "                <td><strong>Memory address</strong></td>\n",
       "                <td>0x136f32590</td>\n",
       "            </tr><tr>\n",
       "                <td><strong>Formula</strong></td><td>C6000H11500N100O2600P200</td>\n",
       "            </tr><tr>\n",
       "                <td><strong>Compartment</strong></td><td>c</td>\n",
       "            </tr><tr>\n",
       "                <td><strong>In 1 reaction(s)</strong></td><td>\n",
       "                    MIP2CS324_SC\n",
       "                    </td>\n",
       "            </tr>\n",
       "        </table>"
      ],
      "text/plain": [
       "<Metabolite mip2c324_SC[c] at 0x136f32590>"
      ]
     },
     "metadata": {},
     "output_type": "display_data"
    },
    {
     "name": "stdout",
     "output_type": "stream",
     "text": [
      "mannose_inositol_phosphorylceramide__ceramide_3__26C_\n"
     ]
    },
    {
     "data": {
      "text/html": [
       "\n",
       "        <table>\n",
       "            <tr>\n",
       "                <td><strong>Metabolite identifier</strong></td><td>mipc326_SC[c]</td>\n",
       "            </tr><tr>\n",
       "                <td><strong>Name</strong></td><td>...</td>\n",
       "            </tr><tr>\n",
       "                <td><strong>Memory address</strong></td>\n",
       "                <td>0x136f325c0</td>\n",
       "            </tr><tr>\n",
       "                <td><strong>Formula</strong></td><td>C5600H10900N100O1800P100</td>\n",
       "            </tr><tr>\n",
       "                <td><strong>Compartment</strong></td><td>c</td>\n",
       "            </tr><tr>\n",
       "                <td><strong>In 1 reaction(s)</strong></td><td>\n",
       "                    MIP2CS326_SC\n",
       "                    </td>\n",
       "            </tr>\n",
       "        </table>"
      ],
      "text/plain": [
       "<Metabolite mipc326_SC[c] at 0x136f325c0>"
      ]
     },
     "metadata": {},
     "output_type": "display_data"
    },
    {
     "name": "stdout",
     "output_type": "stream",
     "text": [
      "mannose__inositol_P_2_ceramide__ceramide_3__26C___yeast_specific\n"
     ]
    },
    {
     "data": {
      "text/html": [
       "\n",
       "        <table>\n",
       "            <tr>\n",
       "                <td><strong>Metabolite identifier</strong></td><td>mip2c326_SC[c]</td>\n",
       "            </tr><tr>\n",
       "                <td><strong>Name</strong></td><td>...</td>\n",
       "            </tr><tr>\n",
       "                <td><strong>Memory address</strong></td>\n",
       "                <td>0x136f325f0</td>\n",
       "            </tr><tr>\n",
       "                <td><strong>Formula</strong></td><td>C6200H11900N100O2600P200</td>\n",
       "            </tr><tr>\n",
       "                <td><strong>Compartment</strong></td><td>c</td>\n",
       "            </tr><tr>\n",
       "                <td><strong>In 1 reaction(s)</strong></td><td>\n",
       "                    MIP2CS326_SC\n",
       "                    </td>\n",
       "            </tr>\n",
       "        </table>"
      ],
      "text/plain": [
       "<Metabolite mip2c326_SC[c] at 0x136f325f0>"
      ]
     },
     "metadata": {},
     "output_type": "display_data"
    }
   ],
   "source": [
    "for m in model.metabolites:\n",
    "    if 'mann' in m.name.lower():\n",
    "        print(m.name)\n",
    "        display(m)\n",
    "        "
   ]
  },
  {
   "cell_type": "code",
   "execution_count": 9,
   "metadata": {},
   "outputs": [
    {
     "data": {
      "text/html": [
       "\n",
       "        <table>\n",
       "            <tr>\n",
       "                <td><strong>Reaction identifier</strong></td><td>MANt2</td>\n",
       "            </tr><tr>\n",
       "                <td><strong>Name</strong></td><td>D mannose transport in via proton symport</td>\n",
       "            </tr><tr>\n",
       "                <td><strong>Memory address</strong></td>\n",
       "                <td>0x138a0cdc0</td>\n",
       "            </tr><tr>\n",
       "                <td><strong>Stoichiometry</strong></td>\n",
       "                <td>\n",
       "                    <p style='text-align:right'>h[e] + man[e] --> h[c] + man[c]</p>\n",
       "                    <p style='text-align:right'>H + D_Mannose --> H + D_Mannose</p>\n",
       "                </td>\n",
       "            </tr><tr>\n",
       "                <td><strong>GPR</strong></td><td>YALI0D00132g or YALI0D01111g or YALI0D18876g or YALI0B01342g or YALI0E23287g or YALI0B00396g or...</td>\n",
       "            </tr><tr>\n",
       "                <td><strong>Lower bound</strong></td><td>0.0</td>\n",
       "            </tr><tr>\n",
       "                <td><strong>Upper bound</strong></td><td>1000.0</td>\n",
       "            </tr>\n",
       "        </table>\n",
       "        "
      ],
      "text/plain": [
       "<Reaction MANt2 at 0x138a0cdc0>"
      ]
     },
     "execution_count": 9,
     "metadata": {},
     "output_type": "execute_result"
    }
   ],
   "source": [
    "model.reactions.get_by_id('MANt2')"
   ]
  },
  {
   "cell_type": "code",
   "execution_count": 10,
   "metadata": {},
   "outputs": [
    {
     "data": {
      "text/html": [
       "\n",
       "        <table>\n",
       "            <tr>\n",
       "                <td><strong>Reaction identifier</strong></td><td>MANt2</td>\n",
       "            </tr><tr>\n",
       "                <td><strong>Name</strong></td><td>D mannose transport in via proton symport</td>\n",
       "            </tr><tr>\n",
       "                <td><strong>Memory address</strong></td>\n",
       "                <td>0x138a0cdc0</td>\n",
       "            </tr><tr>\n",
       "                <td><strong>Stoichiometry</strong></td>\n",
       "                <td>\n",
       "                    <p style='text-align:right'>h[e] + man[e] --> h[c] + man[c]</p>\n",
       "                    <p style='text-align:right'>H + D_Mannose --> H + D_Mannose</p>\n",
       "                </td>\n",
       "            </tr><tr>\n",
       "                <td><strong>GPR</strong></td><td>YALI0D00132g or YALI0D01111g or YALI0D18876g or YALI0B01342g or YALI0E23287g or YALI0B00396g or...</td>\n",
       "            </tr><tr>\n",
       "                <td><strong>Lower bound</strong></td><td>0.0</td>\n",
       "            </tr><tr>\n",
       "                <td><strong>Upper bound</strong></td><td>1000.0</td>\n",
       "            </tr>\n",
       "        </table>\n",
       "        "
      ],
      "text/plain": [
       "<Reaction MANt2 at 0x138a0cdc0>"
      ]
     },
     "metadata": {},
     "output_type": "display_data"
    },
    {
     "data": {
      "text/html": [
       "\n",
       "        <table>\n",
       "            <tr>\n",
       "                <td><strong>Reaction identifier</strong></td><td>EPMGH</td>\n",
       "            </tr><tr>\n",
       "                <td><strong>Name</strong></td><td>Epimelibiose galactohydrolase</td>\n",
       "            </tr><tr>\n",
       "                <td><strong>Memory address</strong></td>\n",
       "                <td>0x13879ead0</td>\n",
       "            </tr><tr>\n",
       "                <td><strong>Stoichiometry</strong></td>\n",
       "                <td>\n",
       "                    <p style='text-align:right'>epm[c] + h2o[c] <=> gal[c] + man[c]</p>\n",
       "                    <p style='text-align:right'>Epimelibiose + H2O <=> D_Galactose + D_Mannose</p>\n",
       "                </td>\n",
       "            </tr><tr>\n",
       "                <td><strong>GPR</strong></td><td></td>\n",
       "            </tr><tr>\n",
       "                <td><strong>Lower bound</strong></td><td>-1000.0</td>\n",
       "            </tr><tr>\n",
       "                <td><strong>Upper bound</strong></td><td>1000.0</td>\n",
       "            </tr>\n",
       "        </table>\n",
       "        "
      ],
      "text/plain": [
       "<Reaction EPMGH at 0x13879ead0>"
      ]
     },
     "metadata": {},
     "output_type": "display_data"
    },
    {
     "data": {
      "text/html": [
       "\n",
       "        <table>\n",
       "            <tr>\n",
       "                <td><strong>Reaction identifier</strong></td><td>HEX4</td>\n",
       "            </tr><tr>\n",
       "                <td><strong>Name</strong></td><td>hexokinase D mannoseATP</td>\n",
       "            </tr><tr>\n",
       "                <td><strong>Memory address</strong></td>\n",
       "                <td>0x13895fdf0</td>\n",
       "            </tr><tr>\n",
       "                <td><strong>Stoichiometry</strong></td>\n",
       "                <td>\n",
       "                    <p style='text-align:right'>atp[c] + man[c] --> adp[c] + h[c] + man6p[c]</p>\n",
       "                    <p style='text-align:right'>ATP + D_Mannose --> ADP + H + D_Mannose_6_phosphate</p>\n",
       "                </td>\n",
       "            </tr><tr>\n",
       "                <td><strong>GPR</strong></td><td>YALI0B22308g</td>\n",
       "            </tr><tr>\n",
       "                <td><strong>Lower bound</strong></td><td>0.0</td>\n",
       "            </tr><tr>\n",
       "                <td><strong>Upper bound</strong></td><td>1000.0</td>\n",
       "            </tr>\n",
       "        </table>\n",
       "        "
      ],
      "text/plain": [
       "<Reaction HEX4 at 0x13895fdf0>"
      ]
     },
     "metadata": {},
     "output_type": "display_data"
    }
   ],
   "source": [
    "for r in model.metabolites.get_by_id('man[c]').reactions:\n",
    "    display(r)"
   ]
  },
  {
   "cell_type": "code",
   "execution_count": 11,
   "metadata": {},
   "outputs": [
    {
     "data": {
      "text/html": [
       "\n",
       "        <table>\n",
       "            <tr>\n",
       "                <td><strong>Reaction identifier</strong></td><td>PMANM</td>\n",
       "            </tr><tr>\n",
       "                <td><strong>Name</strong></td><td>phosphomannomutase</td>\n",
       "            </tr><tr>\n",
       "                <td><strong>Memory address</strong></td>\n",
       "                <td>0x138745180</td>\n",
       "            </tr><tr>\n",
       "                <td><strong>Stoichiometry</strong></td>\n",
       "                <td>\n",
       "                    <p style='text-align:right'>man1p[c] <=> man6p[c]</p>\n",
       "                    <p style='text-align:right'>D_Mannose_1_phosphate <=> D_Mannose_6_phosphate</p>\n",
       "                </td>\n",
       "            </tr><tr>\n",
       "                <td><strong>GPR</strong></td><td>YALI0D13112g</td>\n",
       "            </tr><tr>\n",
       "                <td><strong>Lower bound</strong></td><td>-1000.0</td>\n",
       "            </tr><tr>\n",
       "                <td><strong>Upper bound</strong></td><td>1000.0</td>\n",
       "            </tr>\n",
       "        </table>\n",
       "        "
      ],
      "text/plain": [
       "<Reaction PMANM at 0x138745180>"
      ]
     },
     "metadata": {},
     "output_type": "display_data"
    },
    {
     "data": {
      "text/html": [
       "\n",
       "        <table>\n",
       "            <tr>\n",
       "                <td><strong>Reaction identifier</strong></td><td>HEX4</td>\n",
       "            </tr><tr>\n",
       "                <td><strong>Name</strong></td><td>hexokinase D mannoseATP</td>\n",
       "            </tr><tr>\n",
       "                <td><strong>Memory address</strong></td>\n",
       "                <td>0x13895fdf0</td>\n",
       "            </tr><tr>\n",
       "                <td><strong>Stoichiometry</strong></td>\n",
       "                <td>\n",
       "                    <p style='text-align:right'>atp[c] + man[c] --> adp[c] + h[c] + man6p[c]</p>\n",
       "                    <p style='text-align:right'>ATP + D_Mannose --> ADP + H + D_Mannose_6_phosphate</p>\n",
       "                </td>\n",
       "            </tr><tr>\n",
       "                <td><strong>GPR</strong></td><td>YALI0B22308g</td>\n",
       "            </tr><tr>\n",
       "                <td><strong>Lower bound</strong></td><td>0.0</td>\n",
       "            </tr><tr>\n",
       "                <td><strong>Upper bound</strong></td><td>1000.0</td>\n",
       "            </tr>\n",
       "        </table>\n",
       "        "
      ],
      "text/plain": [
       "<Reaction HEX4 at 0x13895fdf0>"
      ]
     },
     "metadata": {},
     "output_type": "display_data"
    },
    {
     "data": {
      "text/html": [
       "\n",
       "        <table>\n",
       "            <tr>\n",
       "                <td><strong>Reaction identifier</strong></td><td>MAN6PI</td>\n",
       "            </tr><tr>\n",
       "                <td><strong>Name</strong></td><td>mannose 6 phosphate isomerase</td>\n",
       "            </tr><tr>\n",
       "                <td><strong>Memory address</strong></td>\n",
       "                <td>0x138744df0</td>\n",
       "            </tr><tr>\n",
       "                <td><strong>Stoichiometry</strong></td>\n",
       "                <td>\n",
       "                    <p style='text-align:right'>man6p[c] <=> f6p[c]</p>\n",
       "                    <p style='text-align:right'>D_Mannose_6_phosphate <=> D_Fructose_6_phosphate</p>\n",
       "                </td>\n",
       "            </tr><tr>\n",
       "                <td><strong>GPR</strong></td><td>YALI0B18348g</td>\n",
       "            </tr><tr>\n",
       "                <td><strong>Lower bound</strong></td><td>-1000.0</td>\n",
       "            </tr><tr>\n",
       "                <td><strong>Upper bound</strong></td><td>1000.0</td>\n",
       "            </tr>\n",
       "        </table>\n",
       "        "
      ],
      "text/plain": [
       "<Reaction MAN6PI at 0x138744df0>"
      ]
     },
     "metadata": {},
     "output_type": "display_data"
    }
   ],
   "source": [
    "\n",
    "for r in model.metabolites.get_by_id('man6p[c]').reactions:\n",
    "    display(r)"
   ]
  },
  {
   "cell_type": "code",
   "execution_count": 12,
   "metadata": {},
   "outputs": [
    {
     "data": {
      "text/html": [
       "\n",
       "        <table>\n",
       "            <tr>\n",
       "                <td><strong>Metabolite identifier</strong></td><td>mev_R[c]</td>\n",
       "            </tr><tr>\n",
       "                <td><strong>Name</strong></td><td>R__Mevalonate</td>\n",
       "            </tr><tr>\n",
       "                <td><strong>Memory address</strong></td>\n",
       "                <td>0x136f315a0</td>\n",
       "            </tr><tr>\n",
       "                <td><strong>Formula</strong></td><td>C6H11O4</td>\n",
       "            </tr><tr>\n",
       "                <td><strong>Compartment</strong></td><td>c</td>\n",
       "            </tr><tr>\n",
       "                <td><strong>In 5 reaction(s)</strong></td><td>\n",
       "                    MEVK2, MEVK3, MEVK1, MEVK4, HMGCOAR\n",
       "                    </td>\n",
       "            </tr>\n",
       "        </table>"
      ],
      "text/plain": [
       "<Metabolite mev_R[c] at 0x136f315a0>"
      ]
     },
     "execution_count": 12,
     "metadata": {},
     "output_type": "execute_result"
    }
   ],
   "source": [
    "model.metabolites.get_by_id('mev_R[c]')"
   ]
  },
  {
   "cell_type": "code",
   "execution_count": 13,
   "metadata": {},
   "outputs": [
    {
     "data": {
      "text/html": [
       "\n",
       "        <table>\n",
       "            <tr>\n",
       "                <td><strong>Reaction identifier</strong></td><td>MEVK2</td>\n",
       "            </tr><tr>\n",
       "                <td><strong>Name</strong></td><td>mevalonate kinase ctp</td>\n",
       "            </tr><tr>\n",
       "                <td><strong>Memory address</strong></td>\n",
       "                <td>0x138a0f610</td>\n",
       "            </tr><tr>\n",
       "                <td><strong>Stoichiometry</strong></td>\n",
       "                <td>\n",
       "                    <p style='text-align:right'>ctp[c] + mev_R[c] --> 5pmev[c] + cdp[c] + h[c]</p>\n",
       "                    <p style='text-align:right'>CTP + R__Mevalonate --> R__5_Phosphomevalonate + CDP + H</p>\n",
       "                </td>\n",
       "            </tr><tr>\n",
       "                <td><strong>GPR</strong></td><td>YALI0B16038g</td>\n",
       "            </tr><tr>\n",
       "                <td><strong>Lower bound</strong></td><td>0.0</td>\n",
       "            </tr><tr>\n",
       "                <td><strong>Upper bound</strong></td><td>1000.0</td>\n",
       "            </tr>\n",
       "        </table>\n",
       "        "
      ],
      "text/plain": [
       "<Reaction MEVK2 at 0x138a0f610>"
      ]
     },
     "metadata": {},
     "output_type": "display_data"
    },
    {
     "data": {
      "text/html": [
       "\n",
       "        <table>\n",
       "            <tr>\n",
       "                <td><strong>Reaction identifier</strong></td><td>MEVK3</td>\n",
       "            </tr><tr>\n",
       "                <td><strong>Name</strong></td><td>mevalonate kinase gtp</td>\n",
       "            </tr><tr>\n",
       "                <td><strong>Memory address</strong></td>\n",
       "                <td>0x138a0fc10</td>\n",
       "            </tr><tr>\n",
       "                <td><strong>Stoichiometry</strong></td>\n",
       "                <td>\n",
       "                    <p style='text-align:right'>gtp[c] + mev_R[c] --> 5pmev[c] + gdp[c] + h[c]</p>\n",
       "                    <p style='text-align:right'>GTP + R__Mevalonate --> R__5_Phosphomevalonate + GDP + H</p>\n",
       "                </td>\n",
       "            </tr><tr>\n",
       "                <td><strong>GPR</strong></td><td>YALI0B16038g</td>\n",
       "            </tr><tr>\n",
       "                <td><strong>Lower bound</strong></td><td>0.0</td>\n",
       "            </tr><tr>\n",
       "                <td><strong>Upper bound</strong></td><td>1000.0</td>\n",
       "            </tr>\n",
       "        </table>\n",
       "        "
      ],
      "text/plain": [
       "<Reaction MEVK3 at 0x138a0fc10>"
      ]
     },
     "metadata": {},
     "output_type": "display_data"
    },
    {
     "data": {
      "text/html": [
       "\n",
       "        <table>\n",
       "            <tr>\n",
       "                <td><strong>Reaction identifier</strong></td><td>MEVK1</td>\n",
       "            </tr><tr>\n",
       "                <td><strong>Name</strong></td><td>mevalonate kinase atp</td>\n",
       "            </tr><tr>\n",
       "                <td><strong>Memory address</strong></td>\n",
       "                <td>0x138a0f9a0</td>\n",
       "            </tr><tr>\n",
       "                <td><strong>Stoichiometry</strong></td>\n",
       "                <td>\n",
       "                    <p style='text-align:right'>atp[c] + mev_R[c] --> 5pmev[c] + adp[c] + h[c]</p>\n",
       "                    <p style='text-align:right'>ATP + R__Mevalonate --> R__5_Phosphomevalonate + ADP + H</p>\n",
       "                </td>\n",
       "            </tr><tr>\n",
       "                <td><strong>GPR</strong></td><td>YALI0B16038g</td>\n",
       "            </tr><tr>\n",
       "                <td><strong>Lower bound</strong></td><td>0.0</td>\n",
       "            </tr><tr>\n",
       "                <td><strong>Upper bound</strong></td><td>1000.0</td>\n",
       "            </tr>\n",
       "        </table>\n",
       "        "
      ],
      "text/plain": [
       "<Reaction MEVK1 at 0x138a0f9a0>"
      ]
     },
     "metadata": {},
     "output_type": "display_data"
    },
    {
     "data": {
      "text/html": [
       "\n",
       "        <table>\n",
       "            <tr>\n",
       "                <td><strong>Reaction identifier</strong></td><td>MEVK4</td>\n",
       "            </tr><tr>\n",
       "                <td><strong>Name</strong></td><td>mevalonate kinase utp</td>\n",
       "            </tr><tr>\n",
       "                <td><strong>Memory address</strong></td>\n",
       "                <td>0x138a39bd0</td>\n",
       "            </tr><tr>\n",
       "                <td><strong>Stoichiometry</strong></td>\n",
       "                <td>\n",
       "                    <p style='text-align:right'>mev_R[c] + utp[c] --> 5pmev[c] + h[c] + udp[c]</p>\n",
       "                    <p style='text-align:right'>R__Mevalonate + UTP --> R__5_Phosphomevalonate + H + UDP</p>\n",
       "                </td>\n",
       "            </tr><tr>\n",
       "                <td><strong>GPR</strong></td><td>YALI0B16038g</td>\n",
       "            </tr><tr>\n",
       "                <td><strong>Lower bound</strong></td><td>0.0</td>\n",
       "            </tr><tr>\n",
       "                <td><strong>Upper bound</strong></td><td>1000.0</td>\n",
       "            </tr>\n",
       "        </table>\n",
       "        "
      ],
      "text/plain": [
       "<Reaction MEVK4 at 0x138a39bd0>"
      ]
     },
     "metadata": {},
     "output_type": "display_data"
    },
    {
     "data": {
      "text/html": [
       "\n",
       "        <table>\n",
       "            <tr>\n",
       "                <td><strong>Reaction identifier</strong></td><td>HMGCOAR</td>\n",
       "            </tr><tr>\n",
       "                <td><strong>Name</strong></td><td>Hydroxymethylglutaryl CoA reductase</td>\n",
       "            </tr><tr>\n",
       "                <td><strong>Memory address</strong></td>\n",
       "                <td>0x1389857e0</td>\n",
       "            </tr><tr>\n",
       "                <td><strong>Stoichiometry</strong></td>\n",
       "                <td>\n",
       "                    <p style='text-align:right'>coa[c] + mev_R[c] + 2.0 nadp[c] <=> 2.0 h[c] + hmgcoa[c] + 2.0 nadph[c]</p>\n",
       "                    <p style='text-align:right'>Coenzyme_A + R__Mevalonate + 2.0 Nicotinamide_adenine_dinucleotide_phosphate <=> 2.0 H + Hydroxymethylglutaryl_CoA + 2.0 Nicotinamide_adenine_dinucleotide_phosphate___reduced</p>\n",
       "                </td>\n",
       "            </tr><tr>\n",
       "                <td><strong>GPR</strong></td><td>YALI0E04807g</td>\n",
       "            </tr><tr>\n",
       "                <td><strong>Lower bound</strong></td><td>-1000.0</td>\n",
       "            </tr><tr>\n",
       "                <td><strong>Upper bound</strong></td><td>1000.0</td>\n",
       "            </tr>\n",
       "        </table>\n",
       "        "
      ],
      "text/plain": [
       "<Reaction HMGCOAR at 0x1389857e0>"
      ]
     },
     "metadata": {},
     "output_type": "display_data"
    }
   ],
   "source": [
    "for r in model.metabolites.get_by_id('mev_R[c]').reactions:\n",
    "    display(r)"
   ]
  },
  {
   "cell_type": "code",
   "execution_count": 14,
   "metadata": {},
   "outputs": [
    {
     "data": {
      "text/html": [
       "\n",
       "        <table>\n",
       "            <tr>\n",
       "                <td><strong>Metabolite identifier</strong></td><td>5pmev[c]</td>\n",
       "            </tr><tr>\n",
       "                <td><strong>Name</strong></td><td>R__5_Phosphomevalonate</td>\n",
       "            </tr><tr>\n",
       "                <td><strong>Memory address</strong></td>\n",
       "                <td>0x136f32320</td>\n",
       "            </tr><tr>\n",
       "                <td><strong>Formula</strong></td><td>C6H10O7P</td>\n",
       "            </tr><tr>\n",
       "                <td><strong>Compartment</strong></td><td>c</td>\n",
       "            </tr><tr>\n",
       "                <td><strong>In 5 reaction(s)</strong></td><td>\n",
       "                    MEVK2, MEVK3, PMEVK, MEVK1, MEVK4\n",
       "                    </td>\n",
       "            </tr>\n",
       "        </table>"
      ],
      "text/plain": [
       "<Metabolite 5pmev[c] at 0x136f32320>"
      ]
     },
     "execution_count": 14,
     "metadata": {},
     "output_type": "execute_result"
    }
   ],
   "source": [
    "model.metabolites.get_by_id('5pmev[c]')"
   ]
  },
  {
   "cell_type": "code",
   "execution_count": 15,
   "metadata": {},
   "outputs": [
    {
     "data": {
      "text/html": [
       "\n",
       "        <table>\n",
       "            <tr>\n",
       "                <td><strong>Reaction identifier</strong></td><td>MEVK2</td>\n",
       "            </tr><tr>\n",
       "                <td><strong>Name</strong></td><td>mevalonate kinase ctp</td>\n",
       "            </tr><tr>\n",
       "                <td><strong>Memory address</strong></td>\n",
       "                <td>0x138a0f610</td>\n",
       "            </tr><tr>\n",
       "                <td><strong>Stoichiometry</strong></td>\n",
       "                <td>\n",
       "                    <p style='text-align:right'>ctp[c] + mev_R[c] --> 5pmev[c] + cdp[c] + h[c]</p>\n",
       "                    <p style='text-align:right'>CTP + R__Mevalonate --> R__5_Phosphomevalonate + CDP + H</p>\n",
       "                </td>\n",
       "            </tr><tr>\n",
       "                <td><strong>GPR</strong></td><td>YALI0B16038g</td>\n",
       "            </tr><tr>\n",
       "                <td><strong>Lower bound</strong></td><td>0.0</td>\n",
       "            </tr><tr>\n",
       "                <td><strong>Upper bound</strong></td><td>1000.0</td>\n",
       "            </tr>\n",
       "        </table>\n",
       "        "
      ],
      "text/plain": [
       "<Reaction MEVK2 at 0x138a0f610>"
      ]
     },
     "metadata": {},
     "output_type": "display_data"
    },
    {
     "data": {
      "text/html": [
       "\n",
       "        <table>\n",
       "            <tr>\n",
       "                <td><strong>Reaction identifier</strong></td><td>MEVK3</td>\n",
       "            </tr><tr>\n",
       "                <td><strong>Name</strong></td><td>mevalonate kinase gtp</td>\n",
       "            </tr><tr>\n",
       "                <td><strong>Memory address</strong></td>\n",
       "                <td>0x138a0fc10</td>\n",
       "            </tr><tr>\n",
       "                <td><strong>Stoichiometry</strong></td>\n",
       "                <td>\n",
       "                    <p style='text-align:right'>gtp[c] + mev_R[c] --> 5pmev[c] + gdp[c] + h[c]</p>\n",
       "                    <p style='text-align:right'>GTP + R__Mevalonate --> R__5_Phosphomevalonate + GDP + H</p>\n",
       "                </td>\n",
       "            </tr><tr>\n",
       "                <td><strong>GPR</strong></td><td>YALI0B16038g</td>\n",
       "            </tr><tr>\n",
       "                <td><strong>Lower bound</strong></td><td>0.0</td>\n",
       "            </tr><tr>\n",
       "                <td><strong>Upper bound</strong></td><td>1000.0</td>\n",
       "            </tr>\n",
       "        </table>\n",
       "        "
      ],
      "text/plain": [
       "<Reaction MEVK3 at 0x138a0fc10>"
      ]
     },
     "metadata": {},
     "output_type": "display_data"
    },
    {
     "data": {
      "text/html": [
       "\n",
       "        <table>\n",
       "            <tr>\n",
       "                <td><strong>Reaction identifier</strong></td><td>PMEVK</td>\n",
       "            </tr><tr>\n",
       "                <td><strong>Name</strong></td><td>phosphomevalonate kinase</td>\n",
       "            </tr><tr>\n",
       "                <td><strong>Memory address</strong></td>\n",
       "                <td>0x138a39a50</td>\n",
       "            </tr><tr>\n",
       "                <td><strong>Stoichiometry</strong></td>\n",
       "                <td>\n",
       "                    <p style='text-align:right'>5pmev[c] + atp[c] --> 5dpmev[c] + adp[c]</p>\n",
       "                    <p style='text-align:right'>R__5_Phosphomevalonate + ATP --> R__5_Diphosphomevalonate + ADP</p>\n",
       "                </td>\n",
       "            </tr><tr>\n",
       "                <td><strong>GPR</strong></td><td>YALI0E06193g</td>\n",
       "            </tr><tr>\n",
       "                <td><strong>Lower bound</strong></td><td>0.0</td>\n",
       "            </tr><tr>\n",
       "                <td><strong>Upper bound</strong></td><td>1000.0</td>\n",
       "            </tr>\n",
       "        </table>\n",
       "        "
      ],
      "text/plain": [
       "<Reaction PMEVK at 0x138a39a50>"
      ]
     },
     "metadata": {},
     "output_type": "display_data"
    },
    {
     "data": {
      "text/html": [
       "\n",
       "        <table>\n",
       "            <tr>\n",
       "                <td><strong>Reaction identifier</strong></td><td>MEVK1</td>\n",
       "            </tr><tr>\n",
       "                <td><strong>Name</strong></td><td>mevalonate kinase atp</td>\n",
       "            </tr><tr>\n",
       "                <td><strong>Memory address</strong></td>\n",
       "                <td>0x138a0f9a0</td>\n",
       "            </tr><tr>\n",
       "                <td><strong>Stoichiometry</strong></td>\n",
       "                <td>\n",
       "                    <p style='text-align:right'>atp[c] + mev_R[c] --> 5pmev[c] + adp[c] + h[c]</p>\n",
       "                    <p style='text-align:right'>ATP + R__Mevalonate --> R__5_Phosphomevalonate + ADP + H</p>\n",
       "                </td>\n",
       "            </tr><tr>\n",
       "                <td><strong>GPR</strong></td><td>YALI0B16038g</td>\n",
       "            </tr><tr>\n",
       "                <td><strong>Lower bound</strong></td><td>0.0</td>\n",
       "            </tr><tr>\n",
       "                <td><strong>Upper bound</strong></td><td>1000.0</td>\n",
       "            </tr>\n",
       "        </table>\n",
       "        "
      ],
      "text/plain": [
       "<Reaction MEVK1 at 0x138a0f9a0>"
      ]
     },
     "metadata": {},
     "output_type": "display_data"
    },
    {
     "data": {
      "text/html": [
       "\n",
       "        <table>\n",
       "            <tr>\n",
       "                <td><strong>Reaction identifier</strong></td><td>MEVK4</td>\n",
       "            </tr><tr>\n",
       "                <td><strong>Name</strong></td><td>mevalonate kinase utp</td>\n",
       "            </tr><tr>\n",
       "                <td><strong>Memory address</strong></td>\n",
       "                <td>0x138a39bd0</td>\n",
       "            </tr><tr>\n",
       "                <td><strong>Stoichiometry</strong></td>\n",
       "                <td>\n",
       "                    <p style='text-align:right'>mev_R[c] + utp[c] --> 5pmev[c] + h[c] + udp[c]</p>\n",
       "                    <p style='text-align:right'>R__Mevalonate + UTP --> R__5_Phosphomevalonate + H + UDP</p>\n",
       "                </td>\n",
       "            </tr><tr>\n",
       "                <td><strong>GPR</strong></td><td>YALI0B16038g</td>\n",
       "            </tr><tr>\n",
       "                <td><strong>Lower bound</strong></td><td>0.0</td>\n",
       "            </tr><tr>\n",
       "                <td><strong>Upper bound</strong></td><td>1000.0</td>\n",
       "            </tr>\n",
       "        </table>\n",
       "        "
      ],
      "text/plain": [
       "<Reaction MEVK4 at 0x138a39bd0>"
      ]
     },
     "metadata": {},
     "output_type": "display_data"
    }
   ],
   "source": [
    "for r in model.metabolites.get_by_id('5pmev[c]').reactions:\n",
    "    display(r)"
   ]
  },
  {
   "cell_type": "code",
   "execution_count": 16,
   "metadata": {},
   "outputs": [
    {
     "data": {
      "text/html": [
       "\n",
       "        <table>\n",
       "            <tr>\n",
       "                <td><strong>Metabolite identifier</strong></td><td>5dpmev[c]</td>\n",
       "            </tr><tr>\n",
       "                <td><strong>Name</strong></td><td>R__5_Diphosphomevalonate</td>\n",
       "            </tr><tr>\n",
       "                <td><strong>Memory address</strong></td>\n",
       "                <td>0x136f32350</td>\n",
       "            </tr><tr>\n",
       "                <td><strong>Formula</strong></td><td>C6H10O10P2</td>\n",
       "            </tr><tr>\n",
       "                <td><strong>Compartment</strong></td><td>c</td>\n",
       "            </tr><tr>\n",
       "                <td><strong>In 2 reaction(s)</strong></td><td>\n",
       "                    PMEVK, DPMVD\n",
       "                    </td>\n",
       "            </tr>\n",
       "        </table>"
      ],
      "text/plain": [
       "<Metabolite 5dpmev[c] at 0x136f32350>"
      ]
     },
     "execution_count": 16,
     "metadata": {},
     "output_type": "execute_result"
    }
   ],
   "source": [
    "model.metabolites.get_by_id('5dpmev[c]')"
   ]
  },
  {
   "cell_type": "code",
   "execution_count": 17,
   "metadata": {},
   "outputs": [
    {
     "data": {
      "text/html": [
       "\n",
       "        <table>\n",
       "            <tr>\n",
       "                <td><strong>Reaction identifier</strong></td><td>PMEVK</td>\n",
       "            </tr><tr>\n",
       "                <td><strong>Name</strong></td><td>phosphomevalonate kinase</td>\n",
       "            </tr><tr>\n",
       "                <td><strong>Memory address</strong></td>\n",
       "                <td>0x138a39a50</td>\n",
       "            </tr><tr>\n",
       "                <td><strong>Stoichiometry</strong></td>\n",
       "                <td>\n",
       "                    <p style='text-align:right'>5pmev[c] + atp[c] --> 5dpmev[c] + adp[c]</p>\n",
       "                    <p style='text-align:right'>R__5_Phosphomevalonate + ATP --> R__5_Diphosphomevalonate + ADP</p>\n",
       "                </td>\n",
       "            </tr><tr>\n",
       "                <td><strong>GPR</strong></td><td>YALI0E06193g</td>\n",
       "            </tr><tr>\n",
       "                <td><strong>Lower bound</strong></td><td>0.0</td>\n",
       "            </tr><tr>\n",
       "                <td><strong>Upper bound</strong></td><td>1000.0</td>\n",
       "            </tr>\n",
       "        </table>\n",
       "        "
      ],
      "text/plain": [
       "<Reaction PMEVK at 0x138a39a50>"
      ]
     },
     "metadata": {},
     "output_type": "display_data"
    },
    {
     "data": {
      "text/html": [
       "\n",
       "        <table>\n",
       "            <tr>\n",
       "                <td><strong>Reaction identifier</strong></td><td>DPMVD</td>\n",
       "            </tr><tr>\n",
       "                <td><strong>Name</strong></td><td>diphosphomevalonate decarboxylase</td>\n",
       "            </tr><tr>\n",
       "                <td><strong>Memory address</strong></td>\n",
       "                <td>0x138a0ff70</td>\n",
       "            </tr><tr>\n",
       "                <td><strong>Stoichiometry</strong></td>\n",
       "                <td>\n",
       "                    <p style='text-align:right'>5dpmev[c] + atp[c] --> adp[c] + co2[c] + ipdp[c] + pi[c]</p>\n",
       "                    <p style='text-align:right'>R__5_Diphosphomevalonate + ATP --> ADP + CO2 + Isopentenyl_diphosphate + Phosphate</p>\n",
       "                </td>\n",
       "            </tr><tr>\n",
       "                <td><strong>GPR</strong></td><td>YALI0F05632g</td>\n",
       "            </tr><tr>\n",
       "                <td><strong>Lower bound</strong></td><td>0.0</td>\n",
       "            </tr><tr>\n",
       "                <td><strong>Upper bound</strong></td><td>1000.0</td>\n",
       "            </tr>\n",
       "        </table>\n",
       "        "
      ],
      "text/plain": [
       "<Reaction DPMVD at 0x138a0ff70>"
      ]
     },
     "metadata": {},
     "output_type": "display_data"
    }
   ],
   "source": [
    "for r in model.metabolites.get_by_id('5dpmev[c]').reactions:\n",
    "    display(r)"
   ]
  },
  {
   "cell_type": "code",
   "execution_count": 18,
   "metadata": {},
   "outputs": [
    {
     "data": {
      "text/html": [
       "\n",
       "        <table>\n",
       "            <tr>\n",
       "                <td><strong>Metabolite identifier</strong></td><td>4mzym[c]</td>\n",
       "            </tr><tr>\n",
       "                <td><strong>Name</strong></td><td>4_methylzymosterol</td>\n",
       "            </tr><tr>\n",
       "                <td><strong>Memory address</strong></td>\n",
       "                <td>0x136f321d0</td>\n",
       "            </tr><tr>\n",
       "                <td><strong>Formula</strong></td><td>C28H46O</td>\n",
       "            </tr><tr>\n",
       "                <td><strong>Compartment</strong></td><td>c</td>\n",
       "            </tr><tr>\n",
       "                <td><strong>In 2 reaction(s)</strong></td><td>\n",
       "                    C4STMO2, C3STKR1\n",
       "                    </td>\n",
       "            </tr>\n",
       "        </table>"
      ],
      "text/plain": [
       "<Metabolite 4mzym[c] at 0x136f321d0>"
      ]
     },
     "metadata": {},
     "output_type": "display_data"
    }
   ],
   "source": [
    "display(model.metabolites.get_by_id('4mzym[c]'))"
   ]
  },
  {
   "cell_type": "code",
   "execution_count": 19,
   "metadata": {},
   "outputs": [
    {
     "data": {
      "text/html": [
       "\n",
       "        <table>\n",
       "            <tr>\n",
       "                <td><strong>Metabolite identifier</strong></td><td>ergst[c]</td>\n",
       "            </tr><tr>\n",
       "                <td><strong>Name</strong></td><td>Ergosterol</td>\n",
       "            </tr><tr>\n",
       "                <td><strong>Memory address</strong></td>\n",
       "                <td>0x136ed3760</td>\n",
       "            </tr><tr>\n",
       "                <td><strong>Formula</strong></td><td>C28H44O</td>\n",
       "            </tr><tr>\n",
       "                <td><strong>Compartment</strong></td><td>c</td>\n",
       "            </tr><tr>\n",
       "                <td><strong>In 8 reaction(s)</strong></td><td>\n",
       "                    ERGSTter, ACAT_ergst, membrane_WOtag, ERGSTt, biomass_C, membrane_rSC4_bal, biomass_N, SEH_ergst\n",
       "                    </td>\n",
       "            </tr>\n",
       "        </table>"
      ],
      "text/plain": [
       "<Metabolite ergst[c] at 0x136ed3760>"
      ]
     },
     "execution_count": 19,
     "metadata": {},
     "output_type": "execute_result"
    }
   ],
   "source": [
    "model.metabolites.get_by_id('ergst[c]')"
   ]
  },
  {
   "cell_type": "code",
   "execution_count": 20,
   "metadata": {},
   "outputs": [
    {
     "data": {
      "text/html": [
       "\n",
       "        <table>\n",
       "            <tr>\n",
       "                <td><strong>Gene identifier</strong></td><td>YALI0E12463g</td>\n",
       "            </tr><tr>\n",
       "                <td><strong>Name</strong></td><td></td>\n",
       "            </tr><tr>\n",
       "                <td><strong>Memory address</strong></td>\n",
       "                <td>0x136faabf0</td>\n",
       "            </tr><tr>\n",
       "                <td><strong>Functional</strong></td><td>True</td>\n",
       "            </tr><tr>\n",
       "                <td><strong>In 3 reaction(s)</strong></td><td>\n",
       "                    XYLTD_D, SBTD_D2, SBTD_L\n",
       "                    </td>\n",
       "            </tr>\n",
       "        </table>"
      ],
      "text/plain": [
       "<Gene YALI0E12463g at 0x136faabf0>"
      ]
     },
     "metadata": {},
     "output_type": "display_data"
    },
    {
     "data": {
      "text/html": [
       "\n",
       "        <table>\n",
       "            <tr>\n",
       "                <td><strong>Reaction identifier</strong></td><td>XYLTD_D</td>\n",
       "            </tr><tr>\n",
       "                <td><strong>Name</strong></td><td>xylitol dehydrogenase D xyulose forming</td>\n",
       "            </tr><tr>\n",
       "                <td><strong>Memory address</strong></td>\n",
       "                <td>0x138c37490</td>\n",
       "            </tr><tr>\n",
       "                <td><strong>Stoichiometry</strong></td>\n",
       "                <td>\n",
       "                    <p style='text-align:right'>nad[c] + xylt[c] --> h[c] + nadh[c] + xylu_D[c]</p>\n",
       "                    <p style='text-align:right'>Nicotinamide_adenine_dinucleotide + Xylitol --> H + Nicotinamide_adenine_dinucleotide___reduced + D_Xylulose</p>\n",
       "                </td>\n",
       "            </tr><tr>\n",
       "                <td><strong>GPR</strong></td><td>YALI0E12463g</td>\n",
       "            </tr><tr>\n",
       "                <td><strong>Lower bound</strong></td><td>0.0</td>\n",
       "            </tr><tr>\n",
       "                <td><strong>Upper bound</strong></td><td>1000.0</td>\n",
       "            </tr>\n",
       "        </table>\n",
       "        "
      ],
      "text/plain": [
       "<Reaction XYLTD_D at 0x138c37490>"
      ]
     },
     "metadata": {},
     "output_type": "display_data"
    },
    {
     "data": {
      "text/html": [
       "\n",
       "        <table>\n",
       "            <tr>\n",
       "                <td><strong>Reaction identifier</strong></td><td>SBTD_D2</td>\n",
       "            </tr><tr>\n",
       "                <td><strong>Name</strong></td><td>D sorbitol dehydrogenase D fructose producing</td>\n",
       "            </tr><tr>\n",
       "                <td><strong>Memory address</strong></td>\n",
       "                <td>0x137019540</td>\n",
       "            </tr><tr>\n",
       "                <td><strong>Stoichiometry</strong></td>\n",
       "                <td>\n",
       "                    <p style='text-align:right'>nad[c] + sbt_D[c] --> fru[c] + h[c] + nadh[c]</p>\n",
       "                    <p style='text-align:right'>Nicotinamide_adenine_dinucleotide + D_Sorbitol --> D_Fructose + H + Nicotinamide_adenine_dinucleotide___reduced</p>\n",
       "                </td>\n",
       "            </tr><tr>\n",
       "                <td><strong>GPR</strong></td><td>YALI0E12463g</td>\n",
       "            </tr><tr>\n",
       "                <td><strong>Lower bound</strong></td><td>0.0</td>\n",
       "            </tr><tr>\n",
       "                <td><strong>Upper bound</strong></td><td>1000.0</td>\n",
       "            </tr>\n",
       "        </table>\n",
       "        "
      ],
      "text/plain": [
       "<Reaction SBTD_D2 at 0x137019540>"
      ]
     },
     "metadata": {},
     "output_type": "display_data"
    },
    {
     "data": {
      "text/html": [
       "\n",
       "        <table>\n",
       "            <tr>\n",
       "                <td><strong>Reaction identifier</strong></td><td>SBTD_L</td>\n",
       "            </tr><tr>\n",
       "                <td><strong>Name</strong></td><td>L sorbitol dehydrogenase L sorbose producing</td>\n",
       "            </tr><tr>\n",
       "                <td><strong>Memory address</strong></td>\n",
       "                <td>0x138b8e170</td>\n",
       "            </tr><tr>\n",
       "                <td><strong>Stoichiometry</strong></td>\n",
       "                <td>\n",
       "                    <p style='text-align:right'>nad[c] + sbt_L[c] --> h[c] + nadh[c] + srb_L[c]</p>\n",
       "                    <p style='text-align:right'>Nicotinamide_adenine_dinucleotide + L_Sorbitol --> H + Nicotinamide_adenine_dinucleotide___reduced + L_Sorbose</p>\n",
       "                </td>\n",
       "            </tr><tr>\n",
       "                <td><strong>GPR</strong></td><td>YALI0D01738g or YALI0C06171g or YALI0E12463g or YALI0A15147g or YALI0F25003g or YALI0F08129g or...</td>\n",
       "            </tr><tr>\n",
       "                <td><strong>Lower bound</strong></td><td>0.0</td>\n",
       "            </tr><tr>\n",
       "                <td><strong>Upper bound</strong></td><td>1000.0</td>\n",
       "            </tr>\n",
       "        </table>\n",
       "        "
      ],
      "text/plain": [
       "<Reaction SBTD_L at 0x138b8e170>"
      ]
     },
     "metadata": {},
     "output_type": "display_data"
    }
   ],
   "source": [
    "for g in model.genes:\n",
    "    if g.id == 'YALI0D18964g' or g.id == 'YALI0B16192g' or g.id == 'YALI0E12463g':\n",
    "        display(g)\n",
    "        for r in g.reactions:\n",
    "            display(r)"
   ]
  },
  {
   "cell_type": "code",
   "execution_count": 21,
   "metadata": {},
   "outputs": [
    {
     "data": {
      "text/html": [
       "\n",
       "        <table>\n",
       "            <tr>\n",
       "                <td><strong>Reaction identifier</strong></td><td>ATPCitL</td>\n",
       "            </tr><tr>\n",
       "                <td><strong>Name</strong></td><td>ATP Citrate Lyase YL</td>\n",
       "            </tr><tr>\n",
       "                <td><strong>Memory address</strong></td>\n",
       "                <td>0x13869a2f0</td>\n",
       "            </tr><tr>\n",
       "                <td><strong>Stoichiometry</strong></td>\n",
       "                <td>\n",
       "                    <p style='text-align:right'>atp[c] + cit[c] + coa[c] --> accoa[c] + adp[c] + oaa[c] + pi[c]</p>\n",
       "                    <p style='text-align:right'>ATP + Citrate + Coenzyme_A --> Acetyl_CoA + ADP + Oxaloacetate + Phosphate</p>\n",
       "                </td>\n",
       "            </tr><tr>\n",
       "                <td><strong>GPR</strong></td><td>YALI0E34793g and YALI0D24431g</td>\n",
       "            </tr><tr>\n",
       "                <td><strong>Lower bound</strong></td><td>0.0</td>\n",
       "            </tr><tr>\n",
       "                <td><strong>Upper bound</strong></td><td>1000.0</td>\n",
       "            </tr>\n",
       "        </table>\n",
       "        "
      ],
      "text/plain": [
       "<Reaction ATPCitL at 0x13869a2f0>"
      ]
     },
     "metadata": {},
     "output_type": "display_data"
    }
   ],
   "source": [
    "for r in model.reactions:\n",
    "    if 'accoa[c]' in r.reaction and 'cit[c]' in r.reaction:\n",
    "        display(r)"
   ]
  },
  {
   "cell_type": "code",
   "execution_count": 22,
   "metadata": {},
   "outputs": [
    {
     "data": {
      "text/html": [
       "\n",
       "        <table>\n",
       "            <tr>\n",
       "                <td><strong>Reaction identifier</strong></td><td>ME1m</td>\n",
       "            </tr><tr>\n",
       "                <td><strong>Name</strong></td><td>malic enzyme NAD mitochondrial</td>\n",
       "            </tr><tr>\n",
       "                <td><strong>Memory address</strong></td>\n",
       "                <td>0x138a0e110</td>\n",
       "            </tr><tr>\n",
       "                <td><strong>Stoichiometry</strong></td>\n",
       "                <td>\n",
       "                    <p style='text-align:right'>mal_L[m] + nad[m] --> co2[m] + nadh[m] + pyr[m]</p>\n",
       "                    <p style='text-align:right'>L_Malate + Nicotinamide_adenine_dinucleotide --> CO2 + Nicotinamide_adenine_dinucleotide___reduced + Pyruvate</p>\n",
       "                </td>\n",
       "            </tr><tr>\n",
       "                <td><strong>GPR</strong></td><td>YALI0E18634g</td>\n",
       "            </tr><tr>\n",
       "                <td><strong>Lower bound</strong></td><td>0.0</td>\n",
       "            </tr><tr>\n",
       "                <td><strong>Upper bound</strong></td><td>1000.0</td>\n",
       "            </tr>\n",
       "        </table>\n",
       "        "
      ],
      "text/plain": [
       "<Reaction ME1m at 0x138a0e110>"
      ]
     },
     "metadata": {},
     "output_type": "display_data"
    },
    {
     "data": {
      "text/html": [
       "\n",
       "        <table>\n",
       "            <tr>\n",
       "                <td><strong>Reaction identifier</strong></td><td>ME2m</td>\n",
       "            </tr><tr>\n",
       "                <td><strong>Name</strong></td><td>malic enzyme NADP mitochondrial</td>\n",
       "            </tr><tr>\n",
       "                <td><strong>Memory address</strong></td>\n",
       "                <td>0x138a0e2c0</td>\n",
       "            </tr><tr>\n",
       "                <td><strong>Stoichiometry</strong></td>\n",
       "                <td>\n",
       "                    <p style='text-align:right'>mal_L[m] + nadp[m] --> co2[m] + nadph[m] + pyr[m]</p>\n",
       "                    <p style='text-align:right'>L_Malate + Nicotinamide_adenine_dinucleotide_phosphate --> CO2 + Nicotinamide_adenine_dinucleotide_phosphate___reduced + Pyruvate</p>\n",
       "                </td>\n",
       "            </tr><tr>\n",
       "                <td><strong>GPR</strong></td><td>YALI0E18634g</td>\n",
       "            </tr><tr>\n",
       "                <td><strong>Lower bound</strong></td><td>0.0</td>\n",
       "            </tr><tr>\n",
       "                <td><strong>Upper bound</strong></td><td>1000.0</td>\n",
       "            </tr>\n",
       "        </table>\n",
       "        "
      ],
      "text/plain": [
       "<Reaction ME2m at 0x138a0e2c0>"
      ]
     },
     "metadata": {},
     "output_type": "display_data"
    }
   ],
   "source": [
    "for r in model.reactions:\n",
    "    if 'mal' in r.reaction and 'pyr' in r.reaction:\n",
    "        display(r)"
   ]
  },
  {
   "cell_type": "code",
   "execution_count": 23,
   "metadata": {},
   "outputs": [
    {
     "data": {
      "text/html": [
       "\n",
       "        <table>\n",
       "            <tr>\n",
       "                <td><strong>Name</strong></td>\n",
       "                <td>M_iYli21</td>\n",
       "            </tr><tr>\n",
       "                <td><strong>Memory address</strong></td>\n",
       "                <td>136d54670</td>\n",
       "            </tr><tr>\n",
       "                <td><strong>Number of metabolites</strong></td>\n",
       "                <td>1868</td>\n",
       "            </tr><tr>\n",
       "                <td><strong>Number of reactions</strong></td>\n",
       "                <td>2285</td>\n",
       "            </tr><tr>\n",
       "                <td><strong>Number of genes</strong></td>\n",
       "                <td>1058</td>\n",
       "            </tr><tr>\n",
       "                <td><strong>Number of groups</strong></td>\n",
       "                <td>113</td>\n",
       "            </tr><tr>\n",
       "                <td><strong>Objective expression</strong></td>\n",
       "                <td>1.0*biomass_C - 1.0*biomass_C_reverse_c1d5c</td>\n",
       "            </tr><tr>\n",
       "                <td><strong>Compartments</strong></td>\n",
       "                <td>unknownCompartment1, unknownCompartment9, unknownCompartment3, unknownCompartment14, unknownCompartment4, unknownCompartment12, unknownCompartment11, unknownCompartment5, unknownCompartment2, unknownCompartment7, unknownCompartment10, unknownCompartment8, unknownCompartment6, unknownCompartment13, unknownCompartment15</td>\n",
       "            </tr>\n",
       "          </table>"
      ],
      "text/plain": [
       "<Model M_iYli21 at 0x136d54670>"
      ]
     },
     "execution_count": 23,
     "metadata": {},
     "output_type": "execute_result"
    }
   ],
   "source": [
    "# load xml model\n",
    "model_iYli21 = cobra.io.read_sbml_model(\"../genome_scale_models/iYLi21.xml\")\n",
    "model_iYli21"
   ]
  },
  {
   "cell_type": "code",
   "execution_count": 24,
   "metadata": {},
   "outputs": [
    {
     "name": "stdout",
     "output_type": "stream",
     "text": [
      "m1[C_cy]\n",
      "m2[C_mi]\n",
      "m3[C_mi]\n",
      "m4[C_cy]\n",
      "m5[C_mi]\n"
     ]
    }
   ],
   "source": [
    "for m in model_iYli21.metabolites[:5]:\n",
    "    print(m.id)"
   ]
  },
  {
   "cell_type": "code",
   "execution_count": 29,
   "metadata": {},
   "outputs": [
    {
     "name": "stdout",
     "output_type": "stream",
     "text": [
      "GND: 6pgc[c] + nadp[c] --> co2[c] + nadph[c] + ru5p_D[c]\n",
      "TKT1: r5p[c] + xu5p_D[c] <=> g3p[c] + s7p[c]\n",
      "TALA: g3p[c] + s7p[c] <=> e4p[c] + f6p[c]\n",
      "TKT2: e4p[c] + xu5p_D[c] <=> f6p[c] + g3p[c]\n"
     ]
    }
   ],
   "source": [
    "for r_id in ['GND', 'TKT1', 'TALA', 'TKT2']:\n",
    "    rxn = model.reactions.get_by_id(r_id)\n",
    "    print(rxn)\n"
   ]
  },
  {
   "cell_type": "code",
   "execution_count": 31,
   "metadata": {},
   "outputs": [
    {
     "name": "stdout",
     "output_type": "stream",
     "text": [
      "DB4PS: ru5p_D[c] --> db4p[c] + for[c] + h[c]\n",
      "RPI: r5p[c] <=> ru5p_D[c]\n",
      "GND: 6pgc[c] + nadp[c] --> co2[c] + nadph[c] + ru5p_D[c]\n",
      "RPE: ru5p_D[c] <=> xu5p_D[c]\n"
     ]
    }
   ],
   "source": [
    "for r in model.metabolites.get_by_id('ru5p_D[c]').reactions:\n",
    "    print(r)"
   ]
  },
  {
   "cell_type": "code",
   "execution_count": 32,
   "metadata": {},
   "outputs": [
    {
     "name": "stdout",
     "output_type": "stream",
     "text": [
      "TKT1: r5p[c] + xu5p_D[c] <=> g3p[c] + s7p[c]\n",
      "TKT2: e4p[c] + xu5p_D[c] <=> f6p[c] + g3p[c]\n",
      "THZPSN1_SC: achms[c] + cys_L[c] + gly[c] + h[c] + xu5p_D[c] --> 4abut[c] + 4mpetz[c] + ac[c] + co2[c] + 3.0 h2o[c] + nh4[c] + pyr[c]\n",
      "XYLK: atp[c] + xylu_D[c] --> adp[c] + h[c] + xu5p_D[c]\n",
      "RPE: ru5p_D[c] <=> xu5p_D[c]\n"
     ]
    }
   ],
   "source": [
    "for r in model.metabolites.get_by_id('xu5p_D[c]').reactions:\n",
    "    print(r)"
   ]
  },
  {
   "cell_type": "code",
   "execution_count": 33,
   "metadata": {},
   "outputs": [
    {
     "name": "stdout",
     "output_type": "stream",
     "text": [
      "erythroseS: adp[c] + e4p[c] <=> atp[c] + erythrose[c]\n",
      "E4Ptm: e4p[c] <=> e4p[m]\n",
      "TKT2: e4p[c] + xu5p_D[c] <=> f6p[c] + g3p[c]\n",
      "FBA3: s17bp[c] <=> dhap[c] + e4p[c]\n",
      "TALA: g3p[c] + s7p[c] <=> e4p[c] + f6p[c]\n",
      "DDPA: e4p[c] + h2o[c] + pep[c] --> 2dda7p[c] + pi[c]\n"
     ]
    }
   ],
   "source": [
    "for r in model.metabolites.get_by_id('e4p[c]').reactions:\n",
    "    print(r)"
   ]
  },
  {
   "cell_type": "code",
   "execution_count": 34,
   "metadata": {},
   "outputs": [
    {
     "name": "stdout",
     "output_type": "stream",
     "text": [
      "TKT1: r5p[c] + xu5p_D[c] <=> g3p[c] + s7p[c]\n",
      "TALA: g3p[c] + s7p[c] <=> e4p[c] + f6p[c]\n",
      "PFK_3: atp[c] + s7p[c] --> adp[c] + h[c] + s17bp[c]\n"
     ]
    }
   ],
   "source": [
    "for r in model.metabolites.get_by_id('s7p[c]').reactions:\n",
    "    print(r)"
   ]
  },
  {
   "cell_type": "code",
   "execution_count": 36,
   "metadata": {},
   "outputs": [
    {
     "name": "stdout",
     "output_type": "stream",
     "text": [
      "TKT2: e4p[c] + xu5p_D[c] <=> f6p[c] + g3p[c]\n",
      "TALA: g3p[c] + s7p[c] <=> e4p[c] + f6p[c]\n"
     ]
    }
   ],
   "source": [
    "for r in model.metabolites.get_by_id('f6p[c]').reactions:\n",
    "    if 'g3p[c]' in r.reaction:\n",
    "        print(r)\n"
   ]
  },
  {
   "cell_type": "code",
   "execution_count": 37,
   "metadata": {},
   "outputs": [
    {
     "name": "stdout",
     "output_type": "stream",
     "text": [
      "OXO2Ctm: akg[m] + oxag[c] <=> akg[c] + oxag[m]\n",
      "LEUTAm: akg[m] + leu_L[m] <=> 4mop[m] + glu_L[m]\n",
      "ILETAm: akg[m] + ile_L[m] <=> 3mop[m] + glu_L[m]\n",
      "HCITSm: accoa[m] + akg[m] + h2o[m] --> coa[m] + h[m] + hcit[m]\n",
      "ASPTAm: akg[m] + asp_L[m] <=> glu_L[m] + oaa[m]\n",
      "AKGDam: akg[m] + h[m] + lpam[m] <=> co2[m] + sdhlam[m]\n",
      "ALATA_Lm: akg[m] + ala_L[m] <=> glu_L[m] + pyr[m]\n",
      "ICDHxm: icit[m] + nad[m] --> akg[m] + co2[m] + nadh[m]\n",
      "EHGLATm: akg[m] + e4hglu[m] --> 4h2oglt[m] + glu_L[m]\n",
      "TYRTAm: akg[m] + tyr_L[m] <=> 34hpp[m] + glu_L[m]\n",
      "ICDHym: icit[m] + nadp[m] --> akg[m] + co2[m] + nadph[m]\n",
      "ACOTAim: acg5sa[m] + glu_L[m] --> acorn[m] + akg[m]\n"
     ]
    }
   ],
   "source": [
    "for r in model.metabolites.get_by_id('akg[m]').reactions:\n",
    "    print(r)"
   ]
  },
  {
   "cell_type": "code",
   "execution_count": 38,
   "metadata": {},
   "outputs": [
    {
     "name": "stdout",
     "output_type": "stream",
     "text": [
      "SUCOASm: atp[m] + coa[m] + succ[m] <=> adp[m] + pi[m] + succoa[m]\n",
      "ALASm: gly[m] + h[m] + succoa[m] --> 5aop[m] + co2[m] + coa[m]\n",
      "AKGDbm: coa[m] + sdhlam[m] --> dhlam[m] + succoa[m]\n"
     ]
    }
   ],
   "source": [
    "for r in model.metabolites.get_by_id('succoa[m]').reactions:\n",
    "    print(r)"
   ]
  },
  {
   "cell_type": "code",
   "execution_count": 41,
   "metadata": {},
   "outputs": [
    {
     "data": {
      "text/html": [
       "\n",
       "        <table>\n",
       "            <tr>\n",
       "                <td><strong>Reaction identifier</strong></td><td>AKGDam</td>\n",
       "            </tr><tr>\n",
       "                <td><strong>Name</strong></td><td>oxoglutarate dehydrogenase lipoamide</td>\n",
       "            </tr><tr>\n",
       "                <td><strong>Memory address</strong></td>\n",
       "                <td>0x1386074c0</td>\n",
       "            </tr><tr>\n",
       "                <td><strong>Stoichiometry</strong></td>\n",
       "                <td>\n",
       "                    <p style='text-align:right'>akg[m] + h[m] + lpam[m] <=> co2[m] + sdhlam[m]</p>\n",
       "                    <p style='text-align:right'>2_Oxoglutarate + H + Lipoamide <=> CO2 + S_Succinyldihydrolipoamide</p>\n",
       "                </td>\n",
       "            </tr><tr>\n",
       "                <td><strong>GPR</strong></td><td>YALI0E33517g and YALI0E16929g</td>\n",
       "            </tr><tr>\n",
       "                <td><strong>Lower bound</strong></td><td>-1000.0</td>\n",
       "            </tr><tr>\n",
       "                <td><strong>Upper bound</strong></td><td>1000.0</td>\n",
       "            </tr>\n",
       "        </table>\n",
       "        "
      ],
      "text/plain": [
       "<Reaction AKGDam at 0x1386074c0>"
      ]
     },
     "execution_count": 41,
     "metadata": {},
     "output_type": "execute_result"
    }
   ],
   "source": [
    "model.reactions.get_by_id('AKGDam')"
   ]
  },
  {
   "cell_type": "code",
   "execution_count": 40,
   "metadata": {},
   "outputs": [
    {
     "data": {
      "text/html": [
       "\n",
       "        <table>\n",
       "            <tr>\n",
       "                <td><strong>Reaction identifier</strong></td><td>AKGDbm</td>\n",
       "            </tr><tr>\n",
       "                <td><strong>Name</strong></td><td>oxoglutarate dehydrogenase dihydrolipoamide S succinyltransferase</td>\n",
       "            </tr><tr>\n",
       "                <td><strong>Memory address</strong></td>\n",
       "                <td>0x138607dc0</td>\n",
       "            </tr><tr>\n",
       "                <td><strong>Stoichiometry</strong></td>\n",
       "                <td>\n",
       "                    <p style='text-align:right'>coa[m] + sdhlam[m] --> dhlam[m] + succoa[m]</p>\n",
       "                    <p style='text-align:right'>Coenzyme_A + S_Succinyldihydrolipoamide --> Dihydrolipoamide + Succinyl_CoA</p>\n",
       "                </td>\n",
       "            </tr><tr>\n",
       "                <td><strong>GPR</strong></td><td>YALI0E33517g and YALI0E16929g and YALI0D20768g</td>\n",
       "            </tr><tr>\n",
       "                <td><strong>Lower bound</strong></td><td>0.0</td>\n",
       "            </tr><tr>\n",
       "                <td><strong>Upper bound</strong></td><td>1000.0</td>\n",
       "            </tr>\n",
       "        </table>\n",
       "        "
      ],
      "text/plain": [
       "<Reaction AKGDbm at 0x138607dc0>"
      ]
     },
     "execution_count": 40,
     "metadata": {},
     "output_type": "execute_result"
    }
   ],
   "source": [
    "model.reactions.get_by_id('AKGDbm')"
   ]
  },
  {
   "cell_type": "code",
   "execution_count": 42,
   "metadata": {},
   "outputs": [
    {
     "name": "stdout",
     "output_type": "stream",
     "text": [
      "IPPSm: 3mob[m] + accoa[m] + h2o[m] --> 3c3hmp[m] + coa[m] + h[m]\n",
      "ACOATAm: ACP[m] + accoa[m] <=> acACP[m] + coa[m]\n",
      "CSNATifm: acrn[m] + coa[m] --> accoa[m] + crn[m]\n",
      "HCITSm: accoa[m] + akg[m] + h2o[m] --> coa[m] + h[m] + hcit[m]\n",
      "HMGCOASm: coa[m] + h[m] + hmgcoa[m] <=> aacoa[m] + accoa[m] + h2o[m]\n",
      "ACACT1m: 2.0 accoa[m] <=> aacoa[m] + coa[m]\n",
      "CSNATirm: accoa[m] + crn[m] --> acrn[m] + coa[m]\n",
      "PDHm: coa[m] + nad[m] + pyr[m] --> accoa[m] + co2[m] + nadh[m]\n",
      "ACSm: ac[m] + atp[m] + coa[m] --> accoa[m] + amp[m] + ppi[m]\n",
      "ACGSm: accoa[m] + glu_L[m] --> acglu[m] + coa[m] + h[m]\n",
      "CSm: accoa[m] + h2o[m] + oaa[m] --> cit[m] + coa[m] + h[m]\n"
     ]
    }
   ],
   "source": [
    "for r in model.metabolites.get_by_id('accoa[m]').reactions:\n",
    "    print(r)"
   ]
  },
  {
   "cell_type": "code",
   "execution_count": 43,
   "metadata": {},
   "outputs": [
    {
     "name": "stdout",
     "output_type": "stream",
     "text": [
      "2DDA7Ptm: 2dda7p[c] <=> 2dda7p[m]\n",
      "2DHPtm: 2dhp[c] <=> 2dhp[m]\n",
      "2OMPH_5tm: 2omph_5[c] <=> 2omph_5[m]\n",
      "34HPPt2m: 34hpp[c] + h[c] <=> 34hpp[m] + h[m]\n",
      "3C4MOPtm: 3c4mop[c] <=> 3c4mop[m]\n",
      "3OPHB_5tm: 3ophb_5[c] <=> 3ophb_5[m]\n",
      "4ABUTNtm: 4abutn[c] <=> 4abutn[m]\n",
      "4ABUTtm: 4abut[c] <=> 4abut[m]\n",
      "4ABZtm: 4abz[c] <=> 4abz[m]\n",
      "4H2OGLTtm: 4h2oglt[c] <=> 4h2oglt[m]\n",
      "4HBZtm: 4hbz[c] <=> 4hbz[m]\n",
      "4HPRO_LTtm: 4hpro_LT[c] <=> 4hpro_LT[m]\n",
      "5AOPtm: 5aop[c] <=> 5aop[m]\n",
      "5MTHFtm: 5mthf[c] <=> 5mthf[m]\n",
      "ACRNtm: acrn[c] --> acrn[m]\n",
      "ACtm: ac[c] <=> ac[m]\n",
      "ADEtm: ade[c] <=> ade[m]\n",
      "AHCYStm: ahcys[c] <=> ahcys[m]\n",
      "AMETtm: amet[c] <=> amet[m]\n",
      "ARGt2m: arg_L[c] + h[c] <=> arg_L[m] + h[m]\n",
      "ASNt2m: asn_L[c] + h[c] <=> asn_L[m] + h[m]\n",
      "ASPt2m: asp_L[c] + h[c] --> asp_L[m] + h[m]\n",
      "CITtbm: cit[c] + pep[m] <=> cit[m] + pep[c]\n",
      "CITtcm: cit[c] + icit[m] <=> cit[m] + icit[c]\n",
      "CMPtm: cmp[c] <=> cmp[m]\n",
      "CRNCARtm: acrn[c] + crn[m] --> acrn[m] + crn[c]\n",
      "CRNtim: crn[m] --> crn[c]\n",
      "DHAPtm: dhap[m] --> dhap[c]\n",
      "DHFtm: dhf[c] <=> dhf[m]\n",
      "DHNPTtm: dhnpt[c] <=> dhnpt[m]\n",
      "DHPTtm: dhpt[c] <=> dhpt[m]\n",
      "DICtm: mal_L[m] + succ[c] --> mal_L[c] + succ[m]\n",
      "DXHPScm: h2o[c] + q6[m] + spmd[c] --> 13dampp[c] + 4abutn[c] + q6h2[m]\n",
      "D_LACtm: h[c] + lac_D[c] <=> h[m] + lac_D[m]\n",
      "E4HGLUtm: e4hglu[c] <=> e4hglu[m]\n",
      "E4Ptm: e4p[c] <=> e4p[m]\n",
      "ETOHtm: etoh[c] <=> etoh[m]\n",
      "FA120ACPtm: ddcaACP[m] --> ddcaACP[c]\n",
      "FA140ACPtm: myrsACP[m] --> myrsACP[c]\n",
      "FA141ACPtm: tdeACP[m] --> tdeACP[c]\n",
      "FA160ACPtm: palmACP[m] --> palmACP[c]\n",
      "FA161ACPtm: hdeACP[m] --> hdeACP[c]\n",
      "FA180ACPtm: ocdcaACP[m] --> ocdcaACP[c]\n",
      "FA181ACPtm: octeACP[m] --> octeACP[c]\n",
      "FA182ACPtm: ocdcyaACP[m] --> ocdcyaACP[c]\n",
      "FADFMNtm: fad[c] + fmn[m] --> fad[m] + fmn[c]\n",
      "FDNG: for[c] + h[c] + q6[m] --> co2[c] + q6h2[m]\n",
      "FORtm: for[m] --> for[c]\n",
      "ATPS3m: adp[m] + 3.0 h[c] + pi[m] --> atp[m] + h2o[m] + 2.0 h[m]\n",
      "CYOOm: 4.0 focytc[m] + 6.0 h[m] + o2[m] --> 4.0 ficytc[m] + 2.0 h2o[m] + 6.0 h[c]\n",
      "CYOR_u6m: 2.0 ficytc[m] + 1.5 h[m] + q6h2[m] --> 2.0 focytc[m] + 1.5 h[c] + q6[m]\n",
      "GCALDtm: gcald[c] <=> gcald[m]\n",
      "NADH2_u6cm: h[c] + nadh[c] + q6[m] --> nad[c] + q6h2[m]\n",
      "GLUt2m: glu_L[m] + h[m] <=> glu_L[c] + h[c]\n",
      "GLYC3Ptm: glyc3p[c] --> glyc3p[m]\n",
      "GLYt2m: gly[m] + h[m] --> gly[c] + h[c]\n",
      "GSNt2m: gsn[c] + h[c] <=> gsn[m] + h[m]\n",
      "GUAtm: gua[c] <=> gua[m]\n",
      "H2Otm: h2o[c] <=> h2o[m]\n",
      "HISt2m: h[m] + his_L[m] <=> h[c] + his_L[c]\n",
      "HMGCOAtm: hmgcoa[c] <=> hmgcoa[m]\n",
      "ID3ACALDtm: id3acald[c] <=> id3acald[m]\n",
      "IND3ACtm: ind3ac[c] <=> ind3ac[m]\n",
      "DHORD4: dhor_S[c] + q6[m] <=> orot[c] + q6h2[m]\n",
      "LYSt2m: h[c] + lys_L[c] <=> h[m] + lys_L[m]\n",
      "MALtm: mal_L[c] + pi[m] <=> mal_L[m] + pi[c]\n",
      "METt2m: h[m] + met_L[m] <=> h[c] + met_L[c]\n",
      "MLTHFtm: mlthf[c] <=> mlthf[m]\n",
      "NMNt2m: h[c] + nmn[c] <=> h[m] + nmn[m]\n",
      "OAAt2m: h[c] + oaa[c] <=> h[m] + oaa[m]\n",
      "OCTDP_5tm: octdp_5[c] <=> octdp_5[m]\n",
      "OXO2Ctm: akg[m] + oxag[c] <=> akg[c] + oxag[m]\n",
      "PAN4Ptm: pan4p[c] <=> pan4p[m]\n",
      "PANTtm: pant_R[c] <=> pant_R[m]\n",
      "PAPtm: pap[c] <=> pap[m]\n",
      "PAtm_SC: pa_SC[c] <=> pa_SC[m]\n",
      "PEtm_SC: pe_SC[c] <=> pe_SC[m]\n",
      "PHEt2m: h[m] + phe_L[m] <=> h[c] + phe_L[c]\n",
      "PIt2m: h[c] + pi[c] <=> h[m] + pi[m]\n",
      "2OXOADPtim: 2oxoadp[m] --> 2oxoadp[c]\n",
      "3C3HMPtm: 3c3hmp[c] <=> 3c3hmp[m]\n",
      "3MOBtm: 3mob[c] <=> 3mob[m]\n",
      "3MOPtm: 3mop[c] <=> 3mop[m]\n",
      "ATPtm_H: adp[c] + atp[m] + h[c] --> adp[m] + atp[c] + h[m]\n",
      "CITtam: cit[c] + mal_L[m] <=> cit[m] + mal_L[c]\n",
      "CO2tm: co2[c] <=> co2[m]\n",
      "PPPG9tm: pppg9[c] <=> pppg9[m]\n",
      "NH4tm: nh4[c] <=> nh4[m]\n",
      "PROtm: pro_L[c] <=> pro_L[m]\n",
      "PRPPtm: prpp[c] <=> prpp[m]\n",
      "O2tm: o2[c] <=> o2[m]\n",
      "ORNt3m: h[c] + orn[m] <=> h[m] + orn[c]\n",
      "PYRt2m: h[c] + pyr[c] <=> h[m] + pyr[m]\n",
      "THRt2m: h[c] + thr_L[c] <=> h[m] + thr_L[m]\n",
      "PStm_SC: ps_SC[c] <=> ps_SC[m]\n",
      "QULNtm: quln[c] <=> quln[m]\n",
      "RIBFLVtm: ribflv[c] <=> ribflv[m]\n",
      "SERt2m: h[c] + ser_L[c] <=> h[m] + ser_L[m]\n",
      "SUCCtm: pi[m] + succ[c] --> pi[c] + succ[m]\n",
      "SUCFUMtm: fum[m] + succ[c] --> fum[c] + succ[m]\n",
      "THFtm: thf[c] <=> thf[m]\n",
      "TRPt2m: h[c] + trp_L[c] <=> h[m] + trp_L[m]\n",
      "TYRt2m: h[m] + tyr_L[m] --> h[c] + tyr_L[c]\n",
      "VALt2m: h[c] + val_L[c] <=> h[m] + val_L[m]\n",
      "ASPOcm: asp_L[c] + fad[m] --> fadh2[m] + h[c] + iasp[c]\n",
      "L_LACtm: h[c] + lac_L[c] <=> h[m] + lac_L[m]\n"
     ]
    }
   ],
   "source": [
    "for r in model.reactions:\n",
    "    if '[m]' in r.reaction and '[c]' in r.reaction:\n",
    "        print(r)"
   ]
  },
  {
   "cell_type": "code",
   "execution_count": 44,
   "metadata": {},
   "outputs": [
    {
     "data": {
      "text/html": [
       "\n",
       "        <table>\n",
       "            <tr>\n",
       "                <td><strong>Metabolite identifier</strong></td><td>succ[c]</td>\n",
       "            </tr><tr>\n",
       "                <td><strong>Name</strong></td><td>Succinate</td>\n",
       "            </tr><tr>\n",
       "                <td><strong>Memory address</strong></td>\n",
       "                <td>0x136f01f90</td>\n",
       "            </tr><tr>\n",
       "                <td><strong>Formula</strong></td><td>C4H4O4</td>\n",
       "            </tr><tr>\n",
       "                <td><strong>Compartment</strong></td><td>c</td>\n",
       "            </tr><tr>\n",
       "                <td><strong>In 8 reaction(s)</strong></td><td>\n",
       "                    SSALy, ICL, SHSL4r, DICtm, SUCCt2r, SUCCtm, SHSL1, SUCFUMtm\n",
       "                    </td>\n",
       "            </tr>\n",
       "        </table>"
      ],
      "text/plain": [
       "<Metabolite succ[c] at 0x136f01f90>"
      ]
     },
     "execution_count": 44,
     "metadata": {},
     "output_type": "execute_result"
    }
   ],
   "source": [
    "model.metabolites.get_by_id('succ[c]')"
   ]
  },
  {
   "cell_type": "code",
   "execution_count": null,
   "metadata": {},
   "outputs": [],
   "source": []
  }
 ],
 "metadata": {
  "kernelspec": {
   "display_name": "venv",
   "language": "python",
   "name": "python3"
  },
  "language_info": {
   "codemirror_mode": {
    "name": "ipython",
    "version": 3
   },
   "file_extension": ".py",
   "mimetype": "text/x-python",
   "name": "python",
   "nbconvert_exporter": "python",
   "pygments_lexer": "ipython3",
   "version": "3.10.2"
  },
  "orig_nbformat": 4
 },
 "nbformat": 4,
 "nbformat_minor": 2
}
