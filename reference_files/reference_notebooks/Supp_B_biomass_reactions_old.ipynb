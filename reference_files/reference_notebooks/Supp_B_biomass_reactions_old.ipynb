{
 "cells": [
  {
   "attachments": {},
   "cell_type": "markdown",
   "metadata": {},
   "source": [
    "# Custom Yarrowia Biomass Reaction\n",
    "Update the biomass reaction with data from our strain"
   ]
  },
  {
   "cell_type": "code",
   "execution_count": 1,
   "metadata": {},
   "outputs": [],
   "source": [
    "import pandas as pd\n",
    "import cobra"
   ]
  },
  {
   "attachments": {},
   "cell_type": "markdown",
   "metadata": {},
   "source": [
    "### Load genome scale model"
   ]
  },
  {
   "cell_type": "code",
   "execution_count": 3,
   "metadata": {},
   "outputs": [
    {
     "ename": "FileNotFoundError",
     "evalue": "[Errno 2] No such file or directory: '../genome_scale_models/iYLI647_corr_2.json'",
     "output_type": "error",
     "traceback": [
      "\u001b[0;31m---------------------------------------------------------------------------\u001b[0m",
      "\u001b[0;31mFileNotFoundError\u001b[0m                         Traceback (most recent call last)",
      "Cell \u001b[0;32mIn[3], line 1\u001b[0m\n\u001b[0;32m----> 1\u001b[0m model \u001b[38;5;241m=\u001b[39m \u001b[43mcobra\u001b[49m\u001b[38;5;241;43m.\u001b[39;49m\u001b[43mio\u001b[49m\u001b[38;5;241;43m.\u001b[39;49m\u001b[43mjson\u001b[49m\u001b[38;5;241;43m.\u001b[39;49m\u001b[43mload_json_model\u001b[49m\u001b[43m(\u001b[49m\u001b[38;5;124;43m\"\u001b[39;49m\u001b[38;5;124;43m../genome_scale_models/iYLI647_corr_2.json\u001b[39;49m\u001b[38;5;124;43m\"\u001b[39;49m\u001b[43m)\u001b[49m\n\u001b[1;32m      2\u001b[0m model\n",
      "File \u001b[0;32m~/yarrowia_eflux2/venv/lib/python3.10/site-packages/cobra/io/json.py:148\u001b[0m, in \u001b[0;36mload_json_model\u001b[0;34m(filename)\u001b[0m\n\u001b[1;32m    129\u001b[0m \u001b[38;5;250m\u001b[39m\u001b[38;5;124;03m\"\"\"Load a cobra model from a file in JSON format.\u001b[39;00m\n\u001b[1;32m    130\u001b[0m \n\u001b[1;32m    131\u001b[0m \u001b[38;5;124;03mParameters\u001b[39;00m\n\u001b[0;32m   (...)\u001b[0m\n\u001b[1;32m    145\u001b[0m \n\u001b[1;32m    146\u001b[0m \u001b[38;5;124;03m\"\"\"\u001b[39;00m\n\u001b[1;32m    147\u001b[0m \u001b[38;5;28;01mif\u001b[39;00m \u001b[38;5;28misinstance\u001b[39m(filename, (\u001b[38;5;28mstr\u001b[39m, Path)):\n\u001b[0;32m--> 148\u001b[0m     \u001b[38;5;28;01mwith\u001b[39;00m \u001b[38;5;28;43mopen\u001b[39;49m\u001b[43m(\u001b[49m\u001b[43mfilename\u001b[49m\u001b[43m,\u001b[49m\u001b[43m \u001b[49m\u001b[38;5;124;43m\"\u001b[39;49m\u001b[38;5;124;43mr\u001b[39;49m\u001b[38;5;124;43m\"\u001b[39;49m\u001b[43m)\u001b[49m \u001b[38;5;28;01mas\u001b[39;00m file_handle:\n\u001b[1;32m    149\u001b[0m         \u001b[38;5;28;01mreturn\u001b[39;00m model_from_dict(json\u001b[38;5;241m.\u001b[39mload(file_handle))\n\u001b[1;32m    150\u001b[0m \u001b[38;5;28;01melse\u001b[39;00m:\n",
      "\u001b[0;31mFileNotFoundError\u001b[0m: [Errno 2] No such file or directory: '../genome_scale_models/iYLI647_corr_2.json'"
     ]
    }
   ],
   "source": [
    "model = cobra.io.json.load_json_model(\"../genome_scale_models/iYLI647_corr_2.json\")\n",
    "model"
   ]
  },
  {
   "cell_type": "markdown",
   "metadata": {},
   "source": [
    "### Load 13C-MFA biomass reaction data"
   ]
  },
  {
   "cell_type": "code",
   "execution_count": null,
   "metadata": {},
   "outputs": [],
   "source": [
    "mfa_biomass_composition_df = pd.read_csv(\"../data/biomass_composition/yarrowia_mfa_biomass.csv\")\n",
    "mfa_biomass_composition_df"
   ]
  },
  {
   "cell_type": "markdown",
   "metadata": {},
   "source": [
    "### Calculate protein fraction"
   ]
  },
  {
   "cell_type": "code",
   "execution_count": null,
   "metadata": {},
   "outputs": [],
   "source": [
    "glucose_protein_mg = 0\n",
    "oil_protein_mg = 0\n",
    "\n",
    "for _, row in mfa_biomass_composition_df.iterrows():\n",
    "    metabolite_id = row[\"gsm_metabolite_id\"]\n",
    "    metabolite = model.metabolites.get_by_id(metabolite_id)\n",
    "    molar_mass = metabolite.formula_weight\n",
    "\n",
    "    if metabolite_id not in ['accoa[c]', 'dhap[c]', 'atp[c]', 'nadph[c]', 'nadh[c]']:\n",
    "        glucose_coefficient = row.mfa_coefficient_glucose\n",
    "        glucose_protein_mg += glucose_coefficient * molar_mass\n",
    "\n",
    "        oil_coefficient = row.mfa_coefficient_oil\n",
    "        oil_protein_mg += oil_coefficient * molar_mass\n",
    "\n",
    "print(\"Glucose protein mg: \", glucose_protein_mg)\n",
    "print(\"Oil protein mg: \", oil_protein_mg)"
   ]
  },
  {
   "cell_type": "markdown",
   "metadata": {},
   "source": [
    "### Load GSM biomass reaction data with metabolite classification"
   ]
  },
  {
   "cell_type": "code",
   "execution_count": null,
   "metadata": {},
   "outputs": [],
   "source": [
    "# load the biomass reaction\n",
    "gsm_biomass_reaction_df = pd.read_csv(\"../data/biomass_composition/yarrowia_gsm_biomass.csv\")\n",
    "gsm_biomass_reaction_df"
   ]
  },
  {
   "cell_type": "markdown",
   "metadata": {},
   "source": [
    "### Calculate the mg of each biomass precursor reaction"
   ]
  },
  {
   "cell_type": "code",
   "execution_count": null,
   "metadata": {},
   "outputs": [],
   "source": [
    "c_limited_biomass_reaction = model.reactions.get_by_id(\"biomass_C\")\n",
    "\n",
    "protein_mg = 0\n",
    "lipid_mg = 0\n",
    "carbohydrate_mg = 0\n",
    "\n",
    "for _, row in gsm_biomass_reaction_df.iterrows():\n",
    "    metabolite_id = row.gsm_metabolite_id\n",
    "    metabolite = model.metabolites.get_by_id(metabolite_id)\n",
    "    type = row.metabolite_type\n",
    "\n",
    "    coefficient = -1 * c_limited_biomass_reaction.metabolites[metabolite]\n",
    "    molar_mass = metabolite.formula_weight\n",
    "\n",
    "    # ignore products of biomass reaction\n",
    "    if coefficient < 0:\n",
    "        continue\n",
    "    elif type == \"Protein\":\n",
    "        protein_mg += coefficient * molar_mass\n",
    "    elif type == \"Lipid\":\n",
    "        lipid_mg += coefficient * molar_mass\n",
    "    elif type == \"Carbohydrate\":\n",
    "        carbohydrate_mg += coefficient * molar_mass\n",
    "\n",
    "print(f'Protein: {protein_mg:.2f}')\n",
    "print(f'Lipid: {lipid_mg:.2f}')\n",
    "print(f'Carbohydrate: {carbohydrate_mg:.2f}')\n",
    "print(f'Total: {protein_mg + lipid_mg + carbohydrate_mg:.2f}')"
   ]
  },
  {
   "cell_type": "markdown",
   "metadata": {},
   "source": [
    "### Add columns for molecular weight, default, glucose, and oleic acid"
   ]
  },
  {
   "cell_type": "code",
   "execution_count": null,
   "metadata": {},
   "outputs": [],
   "source": [
    "glucose_lipid_mg = 150\n",
    "oleic_acid_lipid_mg = 250\n",
    "\n",
    "glucose_carbohydrate_mg = 1000 - glucose_lipid_mg - glucose_protein_mg\n",
    "oleic_acid_carbohydrate_mg = 1000 - oleic_acid_lipid_mg - oil_protein_mg\n",
    "\n",
    "glucose_lipid_scale_factor = glucose_lipid_mg / lipid_mg\n",
    "oleic_acid_lipid_scale_factor = oleic_acid_lipid_mg / lipid_mg\n",
    "\n",
    "glucose_carbohydrate_scale_factor = glucose_carbohydrate_mg / carbohydrate_mg\n",
    "oleic_acid_carbohydrate_scale_factor = oleic_acid_carbohydrate_mg / carbohydrate_mg\n",
    "\n",
    "print(glucose_lipid_scale_factor, oleic_acid_lipid_scale_factor)\n",
    "\n",
    "molar_weights = []\n",
    "default_coefficients = []\n",
    "glucose_coefficients = []\n",
    "oleic_acid_coefficients = []\n",
    "\n",
    "for _, row in gsm_biomass_reaction_df.iterrows():\n",
    "    metabolite_id = row.gsm_metabolite_id\n",
    "    type = row.metabolite_type\n",
    "    metabolite = model.metabolites.get_by_id(metabolite_id)\n",
    "    molar_weight = metabolite.formula_weight\n",
    "\n",
    "    default_coefficient = c_limited_biomass_reaction.metabolites[metabolite]\n",
    "\n",
    "    if type == \"Protein\":\n",
    "        glucose_coefficient = -1 * mfa_biomass_composition_df[mfa_biomass_composition_df['gsm_metabolite_id'] == metabolite_id]['mfa_coefficient_glucose'].values[0]\n",
    "        oleic_acid_coefficient = -1 * mfa_biomass_composition_df[mfa_biomass_composition_df['gsm_metabolite_id'] == metabolite_id]['mfa_coefficient_oil'].values[0]\n",
    "    elif type == \"Lipid\":\n",
    "        glucose_coefficient = glucose_lipid_scale_factor * default_coefficient\n",
    "        oleic_acid_coefficient = oleic_acid_lipid_scale_factor * default_coefficient\n",
    "    elif type == \"Carbohydrate\":\n",
    "        glucose_coefficient = glucose_carbohydrate_scale_factor * default_coefficient\n",
    "        oleic_acid_coefficient = oleic_acid_carbohydrate_scale_factor * default_coefficient\n",
    "    else:\n",
    "        glucose_coefficient = default_coefficient\n",
    "        oleic_acid_coefficient = default_coefficient\n",
    "\n",
    "    glucose_coefficients.append(glucose_coefficient)\n",
    "    oleic_acid_coefficients.append(oleic_acid_coefficient)\n",
    "    molar_weights.append(molar_weight)\n",
    "    default_coefficients.append(default_coefficient)\n",
    "\n",
    "# add columns to dataframe\n",
    "gsm_biomass_reaction_df['molar_weight'] = molar_weights\n",
    "gsm_biomass_reaction_df['default_coefficient'] = default_coefficients\n",
    "gsm_biomass_reaction_df['glucose_coefficient'] = glucose_coefficients\n",
    "gsm_biomass_reaction_df['oleic_acid_coefficient'] = oleic_acid_coefficients\n",
    "\n",
    "gsm_biomass_reaction_df"
   ]
  },
  {
   "cell_type": "markdown",
   "metadata": {},
   "source": [
    "### Check biomass reactions"
   ]
  },
  {
   "cell_type": "code",
   "execution_count": null,
   "metadata": {},
   "outputs": [],
   "source": [
    "def check_total_mg(df):\n",
    "    # Columns for different biomass reactions\n",
    "    conditions = ['default', 'glucose', 'oleic_acid']\n",
    "    \n",
    "    for condition in conditions:\n",
    "        coef = f'{condition}_coefficient'\n",
    "        protein_sum = df[df['metabolite_type'] == 'Protein'][coef].mul(df['molar_weight']).sum()\n",
    "        carbohydrate_sum = df[df['metabolite_type'] == 'Carbohydrate'][coef].mul(df['molar_weight']).sum()\n",
    "        lipid_sum = df[df['metabolite_type'] == 'Lipid'][coef].mul(df['molar_weight']).sum()\n",
    "\n",
    "        print(f'{condition} biomass composition:')\n",
    "        print(f'Protein: {-1 * protein_sum:.2f}')\n",
    "        print(f'Lipid: {-1 * lipid_sum:.2f}')\n",
    "        print(f'Carbohydrate: {-1 * carbohydrate_sum:.2f}')\n",
    "        print(f'Total: {-1 * protein_sum + -1 * lipid_sum + -1 * carbohydrate_sum:.2f}')\n",
    "        print() \n",
    "\n",
    "# Calculate and print the result\n",
    "check_total_mg(gsm_biomass_reaction_df)\n"
   ]
  },
  {
   "cell_type": "markdown",
   "metadata": {},
   "source": [
    "### Create glucose and oleic acid biomass reactions from dataframe"
   ]
  },
  {
   "cell_type": "code",
   "execution_count": null,
   "metadata": {},
   "outputs": [],
   "source": [
    "def create_biomass_reaction(df, coefficient_column, reaction_id):\n",
    "    # Create a new Reaction object\n",
    "    biomass_reaction = cobra.Reaction(reaction_id)\n",
    "    \n",
    "    # For each row in the dataframe, add the metabolite and its coefficient to the reaction\n",
    "    for _, row in df.iterrows():\n",
    "        metabolite_id = row['gsm_metabolite_id']\n",
    "        metabolite_coeff = row[coefficient_column]\n",
    "        \n",
    "        # Assuming that the metabolite objects already exist in your model, \n",
    "        # get the metabolite object using its ID\n",
    "        # Note: If your model doesn't have these metabolites, you'd need to create new Metabolite objects\n",
    "        metabolite = model.metabolites.get_by_id(metabolite_id)\n",
    "        \n",
    "        # Add the metabolite to the reaction\n",
    "        biomass_reaction.add_metabolites({metabolite: metabolite_coeff})\n",
    "    \n",
    "    return biomass_reaction\n",
    "\n",
    "# Create the biomass reactions\n",
    "glucose_biomass_reaction = create_biomass_reaction(gsm_biomass_reaction_df, 'glucose_coefficient', 'biomass_glucose')\n",
    "oleic_acid_biomass_reaction = create_biomass_reaction(gsm_biomass_reaction_df, 'oleic_acid_coefficient', 'biomass_oleic_acid')"
   ]
  },
  {
   "cell_type": "markdown",
   "metadata": {},
   "source": [
    "### Add new biomass reactions to the model"
   ]
  },
  {
   "cell_type": "code",
   "execution_count": null,
   "metadata": {},
   "outputs": [],
   "source": [
    "# # add biomass reactions to model\n",
    "model.add_reactions([glucose_biomass_reaction, oleic_acid_biomass_reaction])\n",
    "\n",
    "# save model\n",
    "cobra.io.save_json_model(model, \"../genome_scale_models/iYLI647_corr_3.json\")"
   ]
  },
  {
   "cell_type": "code",
   "execution_count": null,
   "metadata": {},
   "outputs": [],
   "source": []
  },
  {
   "cell_type": "code",
   "execution_count": null,
   "metadata": {},
   "outputs": [],
   "source": []
  },
  {
   "cell_type": "markdown",
   "metadata": {},
   "source": [
    "### Check carbohydrate sources"
   ]
  },
  {
   "cell_type": "code",
   "execution_count": null,
   "metadata": {},
   "outputs": [],
   "source": [
    "carb_df = gsm_biomass_reaction_df[gsm_biomass_reaction_df['metabolite_type'] == 'Carbohydrate']\n",
    "\n",
    "for _, row in carb_df.iterrows():\n",
    "    total_mg = row['default_coefficient'] * row['molar_weight']\n",
    "    print(total_mg)\n",
    "carb_df"
   ]
  },
  {
   "cell_type": "markdown",
   "metadata": {},
   "source": [
    "### Investigate sources of 13BDglcn[c]"
   ]
  },
  {
   "cell_type": "code",
   "execution_count": null,
   "metadata": {},
   "outputs": [],
   "source": [
    "for r in model.metabolites.get_by_id('13BDglcn[c]').reactions:\n",
    "    if 'biomass' not in r.id:\n",
    "        display(r)"
   ]
  },
  {
   "cell_type": "markdown",
   "metadata": {},
   "source": [
    "### Investigate sources of chitin[c]"
   ]
  },
  {
   "cell_type": "code",
   "execution_count": null,
   "metadata": {},
   "outputs": [],
   "source": [
    "for r in model.metabolites.get_by_id('chitin[c]').reactions:\n",
    "    if 'biomass' not in r.id:\n",
    "        display(r)"
   ]
  },
  {
   "cell_type": "code",
   "execution_count": null,
   "metadata": {},
   "outputs": [],
   "source": [
    "for r in model.metabolites.get_by_id('udpacgal[c]').reactions:\n",
    "    if 'biomass' not in r.id:\n",
    "        display(r)"
   ]
  },
  {
   "cell_type": "code",
   "execution_count": null,
   "metadata": {},
   "outputs": [],
   "source": [
    "for r in model.metabolites.get_by_id('acgam1p[c]').reactions:\n",
    "    if 'biomass' not in r.id:\n",
    "        display(r)\n"
   ]
  },
  {
   "cell_type": "code",
   "execution_count": null,
   "metadata": {},
   "outputs": [],
   "source": [
    "for r in model.metabolites.get_by_id('acgam6p[c]').reactions:\n",
    "    if 'biomass' not in r.id:\n",
    "        display(r)"
   ]
  },
  {
   "cell_type": "code",
   "execution_count": null,
   "metadata": {},
   "outputs": [],
   "source": [
    "for r in model.metabolites.get_by_id('gam6p[c]').reactions:\n",
    "    if 'biomass' not in r.id:\n",
    "        display(r)"
   ]
  },
  {
   "cell_type": "code",
   "execution_count": null,
   "metadata": {},
   "outputs": [],
   "source": [
    "for r in model.metabolites.get_by_id('gam1p[c]').reactions:\n",
    "    if 'biomass' not in r.id:\n",
    "        display(r)"
   ]
  },
  {
   "cell_type": "code",
   "execution_count": null,
   "metadata": {},
   "outputs": [],
   "source": []
  },
  {
   "cell_type": "code",
   "execution_count": null,
   "metadata": {},
   "outputs": [],
   "source": []
  },
  {
   "cell_type": "code",
   "execution_count": null,
   "metadata": {},
   "outputs": [],
   "source": []
  },
  {
   "cell_type": "code",
   "execution_count": null,
   "metadata": {},
   "outputs": [],
   "source": []
  },
  {
   "cell_type": "code",
   "execution_count": null,
   "metadata": {},
   "outputs": [],
   "source": []
  },
  {
   "cell_type": "code",
   "execution_count": null,
   "metadata": {},
   "outputs": [],
   "source": []
  },
  {
   "cell_type": "code",
   "execution_count": null,
   "metadata": {},
   "outputs": [],
   "source": []
  },
  {
   "cell_type": "code",
   "execution_count": null,
   "metadata": {},
   "outputs": [],
   "source": []
  },
  {
   "cell_type": "code",
   "execution_count": null,
   "metadata": {},
   "outputs": [],
   "source": []
  },
  {
   "cell_type": "code",
   "execution_count": null,
   "metadata": {},
   "outputs": [],
   "source": []
  },
  {
   "cell_type": "code",
   "execution_count": null,
   "metadata": {},
   "outputs": [],
   "source": []
  },
  {
   "cell_type": "markdown",
   "metadata": {},
   "source": [
    "### Create new GSM biomass reactions that align with MFA biomass reactions"
   ]
  },
  {
   "cell_type": "code",
   "execution_count": null,
   "metadata": {},
   "outputs": [],
   "source": [
    "# # duplicate the biomass reaction\n",
    "# c_limited_biomass_reaction = model.reactions.get_by_id(\"biomass_C\").copy()\n",
    "# biomass_reaction_glucose = cobra.Reaction()\n",
    "# biomass_reaction_oleic_acid = cobra.Reaction()\n",
    "\n",
    "# biomass_reaction_glucose.id = \"biomass_C_glucose\"\n",
    "# biomass_reaction_oleic_acid.id = \"biomass_C_oleic_acid\"\n",
    "\n",
    "# metabolites = []\n",
    "\n",
    "# # update coeffients in new biomass reactions\n",
    "# for metabolite in c_limited_biomass_reaction.metabolites:\n",
    "#     metabolite_id = metabolite.id\n",
    "\n",
    "#     if metabolite_id in list(mfa_biomass_composition_df['gsm_metabolite_id']):\n",
    "#         # get the coefficients from the mfa biomass composition\n",
    "#         glucose_coefficient = mfa_biomass_composition_df[mfa_biomass_composition_df['gsm_metabolite_id'] == metabolite_id]['mfa_coefficient_glucose'].values[0]\n",
    "#         oil_coefficient = mfa_biomass_composition_df[mfa_biomass_composition_df['gsm_metabolite_id'] == metabolite_id]['mfa_coefficient_oil'].values[0]\n",
    "\n",
    "#         # add the metabolite to the biomass reactions\n",
    "#         biomass_reaction_glucose.add_metabolites({metabolite: glucose_coefficient})\n",
    "#         biomass_reaction_oleic_acid.add_metabolites({metabolite: oil_coefficient})\n",
    "\n",
    "#     else:\n",
    "#         coefficient = c_limited_biomass_reaction.metabolites[metabolite]\n",
    "     \n",
    "#         # add the metabolite to the biomass reactions\n",
    "#         biomass_reaction_glucose.add_metabolites({metabolite: coefficient})\n",
    "#         biomass_reaction_oleic_acid.add_metabolites({metabolite: coefficient})\n",
    "\n",
    "#     metabolites.append({\n",
    "#         'full_name': metabolite.name,\n",
    "#         'gsm_metabolite_id': metabolite_id,\n",
    "#         'biomass_c_iYLI647': c_limited_biomass_reaction.metabolites[metabolite],\t\n",
    "#         'gsm_coefficient_glucose': biomass_reaction_glucose.metabolites[metabolite],\n",
    "#         'gsm_coefficient_oil': biomass_reaction_oleic_acid.metabolites[metabolite]\n",
    "#     })\n",
    "     \n",
    "\n",
    "# gsm_biomass_composition_df = pd.DataFrame(metabolites)\n",
    "\n",
    "# # save as csv\n",
    "# gsm_biomass_composition_df.to_csv(\"../results/biomass_composition/gsm_biomass_composition.csv\", index=False)\n",
    "\n",
    "# gsm_biomass_composition_df\n"
   ]
  },
  {
   "cell_type": "markdown",
   "metadata": {},
   "source": [
    "### Add biomass reactions to model and save new model"
   ]
  },
  {
   "cell_type": "code",
   "execution_count": null,
   "metadata": {},
   "outputs": [],
   "source": [
    "# # add biomass reactions to model\n",
    "# model.add_reactions([biomass_reaction_glucose, biomass_reaction_oleic_acid])\n",
    "\n",
    "# # save model\n",
    "# cobra.io.save_json_model(model, \"../genome_scale_models/iYLI647_corr_3.json\")"
   ]
  },
  {
   "cell_type": "code",
   "execution_count": null,
   "metadata": {},
   "outputs": [],
   "source": []
  },
  {
   "cell_type": "code",
   "execution_count": null,
   "metadata": {},
   "outputs": [],
   "source": []
  },
  {
   "attachments": {},
   "cell_type": "markdown",
   "metadata": {},
   "source": [
    "### Save the updated model"
   ]
  },
  {
   "cell_type": "code",
   "execution_count": null,
   "metadata": {},
   "outputs": [],
   "source": [
    "# save the updated model\n",
    "# cobra.io.save_json_model(model, \"../genome_scale_models/iYLI647_corr_2.json\")\n",
    "# model"
   ]
  }
 ],
 "metadata": {
  "kernelspec": {
   "display_name": "venv",
   "language": "python",
   "name": "python3"
  },
  "language_info": {
   "codemirror_mode": {
    "name": "ipython",
    "version": 3
   },
   "file_extension": ".py",
   "mimetype": "text/x-python",
   "name": "python",
   "nbconvert_exporter": "python",
   "pygments_lexer": "ipython3",
   "version": "3.10.2"
  },
  "orig_nbformat": 4
 },
 "nbformat": 4,
 "nbformat_minor": 2
}
